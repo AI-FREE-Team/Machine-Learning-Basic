{
  "nbformat": 4,
  "nbformat_minor": 0,
  "metadata": {
    "kernelspec": {
      "display_name": "Python 3",
      "language": "python",
      "name": "python3"
    },
    "language_info": {
      "codemirror_mode": {
        "name": "ipython",
        "version": 3
      },
      "file_extension": ".py",
      "mimetype": "text/x-python",
      "name": "python",
      "nbconvert_exporter": "python",
      "pygments_lexer": "ipython3",
      "version": "3.7.4"
    },
    "colab": {
      "name": "認識NumPy.ipynb",
      "provenance": [],
      "collapsed_sections": [
        "dUWKMyrO4ywD",
        "_749a5yL4Wqq",
        "8piq7qbN4Wqr",
        "U3txpitQ4Wq6",
        "vHDNrGj84WrS",
        "ysGRw7xO6kpF",
        "C2XkOYKvXmlD",
        "bEGXfHDq-K6x",
        "Xb_X7yT_-Rgv",
        "pc-lAvqO-jez",
        "SLGr3xJx-vQv",
        "ZFn6bGMbA5Rq",
        "otJ9l3vRJzpQ",
        "EMsBPJyeKnax",
        "XXinhfaZKuN0"
      ],
      "toc_visible": true
    }
  },
  "cells": [
    {
      "cell_type": "markdown",
      "metadata": {
        "id": "vC3A9zig9p0l"
      },
      "source": [
        "\n",
        "![Logo](https://raw.githubusercontent.com/Machine-Learning-Basic/main/README_imgs/aifreeteam.png) \n",
        "<center>Welcome to the course《Python: from business analytics to Artificial Intelligence》by AI.FREE Team.</center>\n",
        "<center>歡迎大家來到 AI.FREE Team 《Python 從商業分析到人工智慧》的第二堂課 - 機器學習(ML)基礎教學。 </center>\n",
        "<br/>\n",
        "\n",
        "<center>作者: Tom Wu (<a href=\"https://github.com/YenLinWu\">Github</a>)</center>\n",
        "<center>AI.FREE Team: <a href=\"https://aifreeblog.herokuapp.com/\">https://aifreeblog.herokuapp.com/</a></center>\n",
        "<br>\n",
        "\n",
        "\n"
      ]
    },
    {
      "cell_type": "markdown",
      "metadata": {
        "id": "4aSNb_HV4Wqk"
      },
      "source": [
        "# 前言  \n",
        "本篇文章將介紹 Python 最基礎的套件之一 <font color=\"#00dd00\">**NumPy**</font>，透過學習 NumPy 可建立我們處理及分析資料的基本功。讀者們在閱讀本篇文章後，將具備下列有關 NumPy 的基本知識與能力：  \n",
        "  1. NumPy 如何建立陣列( Array )   \n",
        "  2. NumPy 如何建立特殊的陣列( Array ) \n",
        "  3. NumPy 如何進行陣列( Array )的四則運算：廣播( Broadcasting )機制  \n",
        "  4. NumPy 如何進行矩陣( Matrix )的運算  \n",
        "  5. NumPy 提供的數學函數\n",
        "\n",
        "\n",
        "\n"
      ]
    },
    {
      "cell_type": "markdown",
      "metadata": {
        "id": "h5_JM80kH6Sv"
      },
      "source": [
        "# <font color=\"#00dd00\">**NumPy**</font> 是什麼？\n",
        "\n",
        "NumPy 全名為 Numeric Python(或 Numerical Python)，是我們運用 Python 進行資料分析時，一個基本且重要的套件之一。NumPy 提供一維、多維陣列( Array )的操作，例如：排序、篩選元素等，同時也具備陣列、矩陣的數學與邏輯運算能力。NumPy 最主要的優勢，是它具備平行運算與處理資料的能力，當我們有非常龐大的資料要分析時，NumPy 能支援高效率的向量與矩陣數學運算。另外，其他有關資料科學的重要 Python 套件，例如：Pandas、SciPy、Scikit-learn 等，幾乎都是建立在 NumPy 的基礎上。因此，若我們能打好 NumPy 基礎，對於日後學習其他套件將會有很大的幫助！"
      ]
    },
    {
      "cell_type": "markdown",
      "metadata": {
        "id": "dUWKMyrO4ywD"
      },
      "source": [
        "# 匯入套件"
      ]
    },
    {
      "cell_type": "code",
      "metadata": {
        "id": "5ghSuEHR4Wqs",
        "colab": {
          "base_uri": "https://localhost:8080/"
        },
        "outputId": "c6fc17bf-31f3-48be-d734-140e07d2c053"
      },
      "source": [
        "from platform import python_version\n",
        "import numpy as np\n",
        "print( 'Python Version:', python_version() ) \n",
        "print( 'Numpy Version:', np.__version__ )"
      ],
      "execution_count": 1,
      "outputs": [
        {
          "output_type": "stream",
          "text": [
            "Python Version: 3.6.9\n",
            "Numpy Version: 1.18.5\n"
          ],
          "name": "stdout"
        }
      ]
    },
    {
      "cell_type": "markdown",
      "metadata": {
        "id": "_749a5yL4Wqq"
      },
      "source": [
        "# <font color=\"#00dd00\">**陣列( Array )**</font> \n",
        "\n",
        "<font color=\"#00dd00\">陣列( Array )</font>是程式語言中基本的資料結構之一，儲存在陣列中的資料稱為元素( element )，NumPy 的陣列為一序列整數或浮點數所組成，ndarray( $n$-dimension array )為 NumPy 所提供的陣列型別，其中 $n$ 表示陣列的維度。NumPy 陣列與 Python [列表( List )](https://colab.research.google.com/github/AI-FREE-Team/Python-Basics/blob/master/documents/Lesson05%20List.ipynb)非常類似，兩者最主要的差別在於，NumPy 陣列中每個元素的資料型態是一致的( int 或 float )，Python 列表則可以儲存不同型態的資料。"
      ]
    },
    {
      "cell_type": "markdown",
      "metadata": {
        "id": "8piq7qbN4Wqr"
      },
      "source": [
        "## 建立 $n$( $\\ge$ 1 ) 維陣列   \n",
        "\n",
        "我們可透過 `array( )` 函數來建立 $n$( $\\ge$ 1 )維的陣列。"
      ]
    },
    {
      "cell_type": "markdown",
      "metadata": {
        "id": "GF3E3C4r4Wqw"
      },
      "source": [
        "(i) 建立一維陣列\n"
      ]
    },
    {
      "cell_type": "code",
      "metadata": {
        "id": "NQMWruOX4Wqx",
        "colab": {
          "base_uri": "https://localhost:8080/"
        },
        "outputId": "eda0b6d0-8b1f-45fc-f9ac-686a9c7f87ba"
      },
      "source": [
        "A1 = np.array( [1,3,5,7] )\n",
        "\n",
        "print( f'1-dimension Array A1: {A1}\\n' )\n",
        "print( f'Type of Element in A1: {A1.dtype}' )\n",
        "print( f'Dimension of A1 = {A1.ndim}' )\n",
        "print( f'Shape of A1 = {A1.shape}' )"
      ],
      "execution_count": 2,
      "outputs": [
        {
          "output_type": "stream",
          "text": [
            "1-dimension Array A1: [1 3 5 7]\n",
            "\n",
            "Type of Element in A1: int64\n",
            "Dimension of A1 = 1\n",
            "Shape of A1 = (4,)\n"
          ],
          "name": "stdout"
        }
      ]
    },
    {
      "cell_type": "markdown",
      "metadata": {
        "id": "CFY4YYch4Wq3"
      },
      "source": [
        "(ii) 建立二維陣列"
      ]
    },
    {
      "cell_type": "code",
      "metadata": {
        "id": "oG1m5gTB4Wq4",
        "colab": {
          "base_uri": "https://localhost:8080/"
        },
        "outputId": "6ea4ebb5-69f8-47fb-ebdc-04e1b78358b2"
      },
      "source": [
        "A2 = np.array([ [1,3,5,7], [9,11,13,15], [17,19,21,23.5] ])\n",
        "\n",
        "print( f'2-dimension Array A2: \\n{A2}\\n' )\n",
        "print( f'Type of Element in A2: {A2.dtype}' )\n",
        "print( f'Dimension of A2 = {A2.ndim}' )\n",
        "print( f'Shape of A2 = {A2.shape}' )"
      ],
      "execution_count": 3,
      "outputs": [
        {
          "output_type": "stream",
          "text": [
            "2-dimension Array A2: \n",
            "[[ 1.   3.   5.   7. ]\n",
            " [ 9.  11.  13.  15. ]\n",
            " [17.  19.  21.  23.5]]\n",
            "\n",
            "Type of Element in A2: float64\n",
            "Dimension of A2 = 2\n",
            "Shape of A2 = (3, 4)\n"
          ],
          "name": "stdout"
        }
      ]
    },
    {
      "cell_type": "markdown",
      "metadata": {
        "id": "U3txpitQ4Wq6"
      },
      "source": [
        "## 建立特殊的陣列   \n",
        "\n",
        "除了可用上述 `array( )` 函數來建立陣列之外，NumPy 還提供我們建立特殊陣列的多種函數，例如：`arange( )`、`linspace( )`、`zeros( )`、`ones( )`、`full( )`、`random( )`、`randint( )`、`randn( )`等，下列將介紹幾個建立特殊陣列的基本函數："
      ]
    },
    {
      "cell_type": "markdown",
      "metadata": {
        "id": "HbTx6XSc4Wq7"
      },
      "source": [
        "### [arange( )](https://docs.scipy.org/doc/numpy/reference/generated/numpy.arange.html) : 建立一區間內的數值陣列"
      ]
    },
    {
      "cell_type": "code",
      "metadata": {
        "id": "wN3pw1O94Wq8",
        "colab": {
          "base_uri": "https://localhost:8080/"
        },
        "outputId": "a372d050-99b6-4a8a-871c-5a9429584bb0"
      },
      "source": [
        "# 產生 [1,8) 中整數的一維陣列\n",
        "A1 = np.arange( 1, 8 )\n",
        "\n",
        "# 產生 [1,8) 之間的奇數一維陣列，且元素的資料型態設為浮點數(float)\n",
        "A2 = np.arange( 1, 8, 2, dtype=float )\n",
        "\n",
        "print( f'[1,8) 中整數的一維陣列：{A1}' ) \n",
        "print( f'[1,8) 中奇數的一維陣列：{A2}' )  "
      ],
      "execution_count": 4,
      "outputs": [
        {
          "output_type": "stream",
          "text": [
            "[1,8) 中整數的一維陣列：[1 2 3 4 5 6 7]\n",
            "[1,8) 中奇數的一維陣列：[1. 3. 5. 7.]\n"
          ],
          "name": "stdout"
        }
      ]
    },
    {
      "cell_type": "markdown",
      "metadata": {
        "id": "9eLJ5wd94Wq_"
      },
      "source": [
        "### [linspace( )](https://docs.scipy.org/doc/numpy/reference/generated/numpy.linspace.html) : 建立一區間等分割子區間的端點數值陣列"
      ]
    },
    {
      "cell_type": "code",
      "metadata": {
        "id": "vMdWndWh4WrA",
        "colab": {
          "base_uri": "https://localhost:8080/"
        },
        "outputId": "a0709c3f-e1cd-4a32-d294-455d5ad908b7"
      },
      "source": [
        "# 產生 [ 1, 3 ] 中等分割 4 等分的數值點(1、1.5、2、2.5、3)陣列\n",
        "L = np.linspace( 1, 3, 5)\n",
        "\n",
        "print( f'4 等分 [1,3] 區間的子區間端點陣列：{L}' )"
      ],
      "execution_count": 5,
      "outputs": [
        {
          "output_type": "stream",
          "text": [
            "4 等分 [1,3] 區間的子區間端點陣列：[1.  1.5 2.  2.5 3. ]\n"
          ],
          "name": "stdout"
        }
      ]
    },
    {
      "cell_type": "markdown",
      "metadata": {
        "id": "RPibAqXu4WrC"
      },
      "source": [
        "### [zeros( )](https://docs.scipy.org/doc/numpy/reference/generated/numpy.zeros.html) : 建立元素皆為 0 的陣列，資料型態預設為 float"
      ]
    },
    {
      "cell_type": "code",
      "metadata": {
        "id": "MDfno_NP4WrD",
        "colab": {
          "base_uri": "https://localhost:8080/"
        },
        "outputId": "31bb67b9-ef85-4ac5-d83e-5c0173089680"
      },
      "source": [
        "# 產生元素皆為 0 的一維陣列(元素個數 = 3)\n",
        "Z1 = np.zeros( 3 )\n",
        "\n",
        "# 產生元素皆為 0 的二維陣列，且元素的資料型態設為整數(int)\n",
        "Z2 = np.zeros( (3,4), dtype=int )\n",
        "\n",
        "print( f'3 個元素 0 組成的一維陣列：{Z1}\\n' ) \n",
        "print( f'元素 0 組成的 3x4 二維陣列：\\n{Z2}' ) "
      ],
      "execution_count": 6,
      "outputs": [
        {
          "output_type": "stream",
          "text": [
            "3 個元素 0 組成的一維陣列：[0. 0. 0.]\n",
            "\n",
            "元素 0 組成的 3x4 二維陣列：\n",
            "[[0 0 0 0]\n",
            " [0 0 0 0]\n",
            " [0 0 0 0]]\n"
          ],
          "name": "stdout"
        }
      ]
    },
    {
      "cell_type": "markdown",
      "metadata": {
        "id": "K4nLt5YH4WrH"
      },
      "source": [
        "### [ones( )](https://docs.scipy.org/doc/numpy/reference/generated/numpy.ones.html) : 建立元素皆為 1 的陣列，資料型態預設為 float"
      ]
    },
    {
      "cell_type": "code",
      "metadata": {
        "id": "YuElO-LW4WrI",
        "colab": {
          "base_uri": "https://localhost:8080/"
        },
        "outputId": "66e71b21-1b61-4bd2-9833-00953adbe68e"
      },
      "source": [
        "# 產生元素皆為 1 的一維陣列(元素個數 = 3)\n",
        "O1 = np.ones( 3 )\n",
        "\n",
        "# 產生元素皆為 1 的二維陣列，且元素的資料型態設為整數(int)\n",
        "O2 = np.ones( (3,4), dtype=int )\n",
        "\n",
        "print( f'3 個元素 1 組成的一維陣列：{O1}\\n' ) \n",
        "print( f'元素 1 組成的 3x4 二維陣列：\\n{O2}' ) "
      ],
      "execution_count": 7,
      "outputs": [
        {
          "output_type": "stream",
          "text": [
            "3 個元素 1 組成的一維陣列：[1. 1. 1.]\n",
            "\n",
            "元素 1 組成的 3x4 二維陣列：\n",
            "[[1 1 1 1]\n",
            " [1 1 1 1]\n",
            " [1 1 1 1]]\n"
          ],
          "name": "stdout"
        }
      ]
    },
    {
      "cell_type": "markdown",
      "metadata": {
        "id": "jPgNGKvp4WrM"
      },
      "source": [
        "### [full( )](https://docs.scipy.org/doc/numpy/reference/generated/numpy.ndarray.fill.html) : 建立指定元素的陣列"
      ]
    },
    {
      "cell_type": "code",
      "metadata": {
        "id": "tHr2l5jl4WrN",
        "colab": {
          "base_uri": "https://localhost:8080/"
        },
        "outputId": "f7be3fac-0911-4e3d-e8be-6f5427a6054e"
      },
      "source": [
        "# 產生元素皆為 3 的一維陣列(元素個數 = 4)\n",
        "F1 = np.full( 4, 3 )\n",
        "\n",
        "# 產生元素皆為 5 的二維陣列，且元素的資料型態設為整數(int)\n",
        "F2 = np.full( (3,4), 5 )\n",
        "\n",
        "print( f'4 個元素 3 組成的一維陣列：{F1}\\n' ) \n",
        "print( f'元素 5 組成的 3x4 二維陣列：\\n{F2}' ) "
      ],
      "execution_count": 8,
      "outputs": [
        {
          "output_type": "stream",
          "text": [
            "4 個元素 3 組成的一維陣列：[3 3 3 3]\n",
            "\n",
            "元素 5 組成的 3x4 二維陣列：\n",
            "[[5 5 5 5]\n",
            " [5 5 5 5]\n",
            " [5 5 5 5]]\n"
          ],
          "name": "stdout"
        }
      ]
    },
    {
      "cell_type": "markdown",
      "metadata": {
        "id": "vHDNrGj84WrS"
      },
      "source": [
        "# <font color=\"#00dd00\">**random**</font> 模組   \n",
        "\n",
        "使用 NumPy 中的 random 模組，我們能用亂數來建立特殊的陣列，相關函數的說明如下：\n",
        "   * [random( )](https://docs.scipy.org/doc/numpy-1.15.0/reference/generated/numpy.random.random.html) : 產生 $[0.0,1.0)$ 之間的**浮點數**亂數     \n",
        "   * [randint( a, b )](https://docs.scipy.org/doc/numpy-1.15.1/reference/generated/numpy.random.randint.html) : 產生 $[a,b)$ 之間的**整數**亂數   \n",
        "   * [rand( )](https://docs.scipy.org/doc/numpy-1.15.1/reference/generated/numpy.random.rand.html) : 從 $[0,1)$ 均勻分配( Uniform Distribution )中隨機亂數產生樣本資料  \n",
        "   * [randn( )](https://docs.scipy.org/doc/numpy-1.15.1/reference/generated/numpy.random.randn.html) : 從**標準常態分配( Standard Normal Distribution )**中隨機亂數產生樣本資料"
      ]
    },
    {
      "cell_type": "code",
      "metadata": {
        "id": "CnZ9aFqp4WrT",
        "colab": {
          "base_uri": "https://localhost:8080/"
        },
        "outputId": "55833b28-1d25-4d0b-f8b4-4b882fcf4fe3"
      },
      "source": [
        "# 產生 [0,1) 隨機亂數的一維陣列(元素個數 = 3)\n",
        "R1 = np.random.random( 3 )\n",
        "\n",
        "# 產生 [1,10) 中隨機亂數的一維陣列(元素個數 = 4)\n",
        "R2 = np.random.randint( 1, 10, size=4 )\n",
        "\n",
        "# 從 [0,1) 均勻分配隨機亂數產生一維陣列(元素個數 = 5)\n",
        "R3 = np.random.rand( 5 )\n",
        "\n",
        "# 從標準常態分配隨機亂數產生二維(2x3)陣列\n",
        "R4 = np.random.randn( 2, 3 )\n",
        "\n",
        "print( f'[0,1)中隨機亂數(浮點數)的一維陣列 R1 : \\n{R1}\\n' )\n",
        "print( f'[1,10)中隨機亂數(整數)的一維陣列 R2 : \\n{R2}\\n' )\n",
        "print( f'從均勻分配隨機亂數產生一維陣列 R3 : \\n{R3}\\n' )\n",
        "print( f'從標準常態分配隨機亂數產生二維陣列 R4 : \\n{R4}' )"
      ],
      "execution_count": 9,
      "outputs": [
        {
          "output_type": "stream",
          "text": [
            "[0,1)中隨機亂數(浮點數)的一維陣列 R1 : \n",
            "[0.79928324 0.86366557 0.57308085]\n",
            "\n",
            "[1,10)中隨機亂數(整數)的一維陣列 R2 : \n",
            "[5 3 5 7]\n",
            "\n",
            "從均勻分配隨機亂數產生一維陣列 R3 : \n",
            "[0.62240364 0.46024151 0.46955837 0.84202716 0.63289372]\n",
            "\n",
            "從標準常態分配隨機亂數產生二維陣列 R4 : \n",
            "[[-0.0993551   0.12308492 -0.49859307]\n",
            " [-0.04556823  1.51473467  0.41582602]]\n"
          ],
          "name": "stdout"
        }
      ]
    },
    {
      "cell_type": "markdown",
      "metadata": {
        "id": "ysGRw7xO6kpF"
      },
      "source": [
        "# 陣列的四則運算\n",
        "\n",
        "當兩個 NumPy 陣列的**形狀( Shape )相同**時，則這兩個 NumPy 陣列能夠進行加、減、乘、除的四則運算。"
      ]
    },
    {
      "cell_type": "code",
      "metadata": {
        "id": "W4Ez_iru4WrX",
        "colab": {
          "base_uri": "https://localhost:8080/"
        },
        "outputId": "f685bfcc-b017-49f2-d1b2-28c25e66fb13"
      },
      "source": [
        "V1 = np.array([1,3,5])\n",
        "V2 = np.array([2,4,6])\n",
        "\n",
        "# 陣列加法\n",
        "A = V1 + V2\n",
        "# 陣列減法\n",
        "S = V1 - V2\n",
        "# 陣列乘法\n",
        "M = V1 * V2\n",
        "# 陣列除法\n",
        "D = V1 / V2\n",
        "\n",
        "print( f'V1 = {V1}\\nV2 = {V2}\\n' )\n",
        "print( f'V1 + V2 = {A}' ) \n",
        "print( f'V1 - V2 = {S}' ) \n",
        "print( f'V1 * V2 = {M}' ) \n",
        "print( f'V1 / V2 = {D}' ) "
      ],
      "execution_count": 10,
      "outputs": [
        {
          "output_type": "stream",
          "text": [
            "V1 = [1 3 5]\n",
            "V2 = [2 4 6]\n",
            "\n",
            "V1 + V2 = [ 3  7 11]\n",
            "V1 - V2 = [-1 -1 -1]\n",
            "V1 * V2 = [ 2 12 30]\n",
            "V1 / V2 = [0.5        0.75       0.83333333]\n"
          ],
          "name": "stdout"
        }
      ]
    },
    {
      "cell_type": "markdown",
      "metadata": {
        "id": "C2XkOYKvXmlD"
      },
      "source": [
        "# <font color=\"#00dd00\">**廣播( Broadcasting )**</font> 機制\n",
        "\n",
        "更精確而言，<font color=\"#dddd00\">兩個 NumPy 陣列要能進行四則運算的條件，為這兩個陣列的形狀( Shape )必須相容( Compatible )</font>，當遭遇形狀不相容的情況時，則會產生如下面範例的錯誤訊息："
      ]
    },
    {
      "cell_type": "code",
      "metadata": {
        "id": "mBCsmr9ZYEIj",
        "colab": {
          "base_uri": "https://localhost:8080/",
          "height": 212
        },
        "outputId": "ba7683c5-068c-4b5c-cb42-cde02dc8f38d"
      },
      "source": [
        "V1 = np.array( [1,3,5,7] )\n",
        "V2 = np.array([ [2,4], [6,8] ])\n",
        "V1 * V2  # 陣列乘法"
      ],
      "execution_count": 11,
      "outputs": [
        {
          "output_type": "error",
          "ename": "ValueError",
          "evalue": "ignored",
          "traceback": [
            "\u001b[0;31m---------------------------------------------------------------------------\u001b[0m",
            "\u001b[0;31mValueError\u001b[0m                                Traceback (most recent call last)",
            "\u001b[0;32m<ipython-input-11-ec020bf572f5>\u001b[0m in \u001b[0;36m<module>\u001b[0;34m()\u001b[0m\n\u001b[1;32m      1\u001b[0m \u001b[0mV1\u001b[0m \u001b[0;34m=\u001b[0m \u001b[0mnp\u001b[0m\u001b[0;34m.\u001b[0m\u001b[0marray\u001b[0m\u001b[0;34m(\u001b[0m \u001b[0;34m[\u001b[0m\u001b[0;36m1\u001b[0m\u001b[0;34m,\u001b[0m\u001b[0;36m3\u001b[0m\u001b[0;34m,\u001b[0m\u001b[0;36m5\u001b[0m\u001b[0;34m,\u001b[0m\u001b[0;36m7\u001b[0m\u001b[0;34m]\u001b[0m \u001b[0;34m)\u001b[0m\u001b[0;34m\u001b[0m\u001b[0;34m\u001b[0m\u001b[0m\n\u001b[1;32m      2\u001b[0m \u001b[0mV2\u001b[0m \u001b[0;34m=\u001b[0m \u001b[0mnp\u001b[0m\u001b[0;34m.\u001b[0m\u001b[0marray\u001b[0m\u001b[0;34m(\u001b[0m\u001b[0;34m[\u001b[0m \u001b[0;34m[\u001b[0m\u001b[0;36m2\u001b[0m\u001b[0;34m,\u001b[0m\u001b[0;36m4\u001b[0m\u001b[0;34m]\u001b[0m\u001b[0;34m,\u001b[0m \u001b[0;34m[\u001b[0m\u001b[0;36m6\u001b[0m\u001b[0;34m,\u001b[0m\u001b[0;36m8\u001b[0m\u001b[0;34m]\u001b[0m \u001b[0;34m]\u001b[0m\u001b[0;34m)\u001b[0m\u001b[0;34m\u001b[0m\u001b[0;34m\u001b[0m\u001b[0m\n\u001b[0;32m----> 3\u001b[0;31m \u001b[0mV1\u001b[0m \u001b[0;34m*\u001b[0m \u001b[0mV2\u001b[0m  \u001b[0;31m# 陣列乘法\u001b[0m\u001b[0;34m\u001b[0m\u001b[0;34m\u001b[0m\u001b[0m\n\u001b[0m",
            "\u001b[0;31mValueError\u001b[0m: operands could not be broadcast together with shapes (4,) (2,2) "
          ]
        }
      ]
    },
    {
      "cell_type": "markdown",
      "metadata": {
        "id": "ixkHf5P48MAO"
      },
      "source": [
        "NumPy 提供一個用來處理不同形狀的陣列進行四則運算的機制 － <font color=\"#00dd00\">**廣播( Broadcasting )**</font>：<font color=\"#dddd00\">當兩個陣列 V1、V2 的形狀不同，且 V1 的形狀規模較 V2 小，則規模較小的陣列 V1 會擴張成與較大陣列 V2 相容的形狀，再進行四則運算\b。</font>  \n",
        "舉例如下： V1 為形狀 $(4,)$ 的一維陣列， V2 為形狀 $( 2, 4 )$ 的二維陣列，透過廣播機制，在進行 `V1*V2` 陣列乘法之前， V1 會自動擴張成 $[ [1,3,5,7], [1,3,5,7] ]$ 與 V2 相容的形狀。"
      ]
    },
    {
      "cell_type": "code",
      "metadata": {
        "id": "B1BQ65H14Pov",
        "colab": {
          "base_uri": "https://localhost:8080/"
        },
        "outputId": "f958de76-0480-4b10-d699-f4ce0987765b"
      },
      "source": [
        "V1 = np.array( [1,3,5,7] )\n",
        "V2 = np.array( [ [2,4,6,8], [10,12,14,16] ] )\n",
        "\n",
        "print( f'V1 = {V1}\\nV2 = \\n{V2}\\n' )\n",
        "print( f'Shape of V1 = {V1.shape}' )\n",
        "print( f'Shape of V2 = {V2.shape}\\n' )\n",
        "print( f'V1 * V2 = \\n{V1*V2}' ) "
      ],
      "execution_count": 12,
      "outputs": [
        {
          "output_type": "stream",
          "text": [
            "V1 = [1 3 5 7]\n",
            "V2 = \n",
            "[[ 2  4  6  8]\n",
            " [10 12 14 16]]\n",
            "\n",
            "Shape of V1 = (4,)\n",
            "Shape of V2 = (2, 4)\n",
            "\n",
            "V1 * V2 = \n",
            "[[  2  12  30  56]\n",
            " [ 10  36  70 112]]\n"
          ],
          "name": "stdout"
        }
      ]
    },
    {
      "cell_type": "markdown",
      "metadata": {
        "id": "bEGXfHDq-K6x"
      },
      "source": [
        "# 向量\\矩陣的轉置及運算  \n",
        "\n",
        "我們可使用 NumPy 一維陣列來表示向量( vector )、二維陣列來表示矩陣( matrix )，下列將介紹矩陣的轉置( Transposition )、加法( Addition )及乘法( Multiplication )運算："
      ]
    },
    {
      "cell_type": "markdown",
      "metadata": {
        "id": "Xb_X7yT_-Rgv"
      },
      "source": [
        "### 矩陣轉置( Transposition )  \n",
        "\n",
        "我們可使用 `transpose( )` 函數進行矩陣的轉置，下列為轉置一個 $2\\times3$ 矩陣的數學表示法：  \n",
        "$\\mathbf{v}^\\intercal$ = \n",
        "$ \\Bigg(\n",
        " \\left[\n",
        " \\begin{matrix}\n",
        "   v_{11} & v_{12} & v_{13} \\\\ v_{21} & v_{22} & v_{23} \n",
        "  \\end{matrix}\n",
        "  \\right]\n",
        "\\Bigg)^\\intercal $ =\n",
        "$\n",
        " \\left[\n",
        " \\begin{matrix}\n",
        "   v_{11} & v_{21} \\\\ v_{12} & v_{22} \\\\ v_{13} & v_{23}\n",
        "  \\end{matrix}\n",
        "  \\right]\n",
        "$\n"
      ]
    },
    {
      "cell_type": "code",
      "metadata": {
        "id": "DepoOMwo4WrZ",
        "colab": {
          "base_uri": "https://localhost:8080/"
        },
        "outputId": "f6c5e62b-d655-4112-fb67-ad7af0565105"
      },
      "source": [
        "V = np.array( [[1,2,3],[4,5,6]] )\n",
        "\n",
        "# 矩陣轉置\n",
        "V_T = np.transpose( V )\n",
        "\n",
        "print( f'V = \\n{V}\\n' )\n",
        "print( f'使用 transpose( ) 函數轉置 V = \\n{V_T}\\n' )"
      ],
      "execution_count": 13,
      "outputs": [
        {
          "output_type": "stream",
          "text": [
            "V = \n",
            "[[1 2 3]\n",
            " [4 5 6]]\n",
            "\n",
            "使用 transpose( ) 函數轉置 V = \n",
            "[[1 4]\n",
            " [2 5]\n",
            " [3 6]]\n",
            "\n"
          ],
          "name": "stdout"
        }
      ]
    },
    {
      "cell_type": "markdown",
      "metadata": {
        "id": "pc-lAvqO-jez"
      },
      "source": [
        "### 矩陣加法( Matrix Addition )   \n",
        "\n",
        "$ V_{2x3} \\pm W_{2x3} $ =\n",
        "$\n",
        " \\left[\n",
        " \\begin{matrix}\n",
        "   v_{11} & v_{12} & v_{13} \\\\ v_{21} & v_{22} & v_{23} \n",
        "  \\end{matrix}\n",
        "  \\right]\n",
        "$ \n",
        "$\\pm$ \n",
        "$\n",
        " \\left[\n",
        " \\begin{matrix}\n",
        "   w_{11} & w_{12} & w_{13} \\\\ w_{21} & w_{22} & w_{23}\n",
        "  \\end{matrix}\n",
        "  \\right]\n",
        "$ = \n",
        "$\n",
        " \\left[\n",
        " \\begin{matrix}\n",
        "   v_{11}\\pm w_{11} & v_{12}\\pm w_{12} & v_{13}\\pm w_{13} \\\\ v_{21}\\pm w_{21} & v_{22}\\pm w_{22} & v_{23}\\pm w_{23}\n",
        "  \\end{matrix}\n",
        "  \\right]_{2x3}\n",
        "$  "
      ]
    },
    {
      "cell_type": "code",
      "metadata": {
        "id": "Dw-ZWki74Wrc",
        "colab": {
          "base_uri": "https://localhost:8080/"
        },
        "outputId": "29142ec8-3207-4f34-8499-2a4298448948"
      },
      "source": [
        "V = np.array( [[1,3,5],[7,9,11]] )\n",
        "W = np.array( [[2,4,6],[8,10,12]] )\n",
        "\n",
        "# 矩陣相加\n",
        "P = V + W\n",
        "# 矩陣相減\n",
        "M = V - W\n",
        "\n",
        "print( f'V = \\n{V}\\n' )\n",
        "print( f'W = \\n{W}\\n' )\n",
        "print( f'矩陣相加 V + W = \\n{P}\\n' )\n",
        "print( f'矩陣相減 V - W = \\n{M}' )"
      ],
      "execution_count": 14,
      "outputs": [
        {
          "output_type": "stream",
          "text": [
            "V = \n",
            "[[ 1  3  5]\n",
            " [ 7  9 11]]\n",
            "\n",
            "W = \n",
            "[[ 2  4  6]\n",
            " [ 8 10 12]]\n",
            "\n",
            "矩陣相加 V + W = \n",
            "[[ 3  7 11]\n",
            " [15 19 23]]\n",
            "\n",
            "矩陣相減 V - W = \n",
            "[[-1 -1 -1]\n",
            " [-1 -1 -1]]\n"
          ],
          "name": "stdout"
        }
      ]
    },
    {
      "cell_type": "markdown",
      "metadata": {
        "id": "SLGr3xJx-vQv"
      },
      "source": [
        "### 矩陣乘法( Matrix Multiplication )    \n",
        "\n",
        "我們可以透過 `dot( )` 函數或 ` @ ` 進行矩陣的乘法，下列為 $2\\times3$ 矩陣與 $3\\times2$ 矩陣兩者的乘法運算方式：   \n",
        "\n",
        "$ V_{2x3} \\cdot W_{3X2} $ =\n",
        "$\n",
        " \\left[\n",
        " \\begin{matrix}\n",
        "   v_{11} & v_{12} & v_{13} \\\\ v_{21} & v_{22} & v_{23} \n",
        "  \\end{matrix}\n",
        "  \\right]\n",
        "$ \n",
        "$\\cdot$ \n",
        "$\n",
        " \\left[\n",
        " \\begin{matrix}\n",
        "   w_{11} & w_{12} \\\\ w_{21} & w_{22} \\\\ w_{31} & w_{32}\n",
        "  \\end{matrix}\n",
        "  \\right]\n",
        "$ = \n",
        "$\n",
        " \\left[\n",
        " \\begin{matrix}\n",
        "   \\displaystyle \\sum_{k=1}^{3} (v_{1k}\\times w_{k1}) & \\displaystyle \\sum_{k=1}^{3} (v_{1k}\\times w_{k2}) \\\\ \n",
        "   \\displaystyle \\sum_{k=1}^{3} (v_{2k}\\times w_{k1}) & \\displaystyle \\sum_{k=1}^{3} (v_{2k}\\times w_{k2})\n",
        "  \\end{matrix}\n",
        "  \\right]_{2x2}\n",
        "$    "
      ]
    },
    {
      "cell_type": "code",
      "metadata": {
        "id": "SfsLO93t4Wrf",
        "colab": {
          "base_uri": "https://localhost:8080/"
        },
        "outputId": "47f939a0-a8de-4ea0-eda9-be0559fb76aa"
      },
      "source": [
        "V = np.array( [[1,2,3],[4,5,6]] )\n",
        "W = np.array( [[1,2],[3,4],[5,6]] )\n",
        "\n",
        "# 矩陣相乘（內積）\n",
        "D1 = np.dot( V, W )\n",
        "D2 = V @ W\n",
        "\n",
        "print( f'V = \\n{V}\\n' )\n",
        "print( f'W = \\n{W}\\n' )\n",
        "print( f'矩陣乘法 V．W = \\n{D1}\\n' )\n",
        "print( f'矩陣乘法 V．W = \\n{D2}' )"
      ],
      "execution_count": 15,
      "outputs": [
        {
          "output_type": "stream",
          "text": [
            "V = \n",
            "[[1 2 3]\n",
            " [4 5 6]]\n",
            "\n",
            "W = \n",
            "[[1 2]\n",
            " [3 4]\n",
            " [5 6]]\n",
            "\n",
            "矩陣乘法 V．W = \n",
            "[[22 28]\n",
            " [49 64]]\n",
            "\n",
            "矩陣乘法 V．W = \n",
            "[[22 28]\n",
            " [49 64]]\n"
          ],
          "name": "stdout"
        }
      ]
    },
    {
      "cell_type": "markdown",
      "metadata": {
        "id": "ZFn6bGMbA5Rq"
      },
      "source": [
        "# 數學函數\n",
        "\n",
        "NumPy 也支援常見的數學函數，例如：`round( )`、`square( )`、`exp( )`、`sin( )`、`cos( )` 等，這些函數會分別作用於 NumPy 陣列中的每一個元素，最後回傳一個運算後的陣列。下列將介紹常用的數學函數："
      ]
    },
    {
      "cell_type": "markdown",
      "metadata": {
        "id": "otJ9l3vRJzpQ"
      },
      "source": [
        "## 四捨五入"
      ]
    },
    {
      "cell_type": "code",
      "metadata": {
        "id": "b7Gjpi3q4Wrq",
        "colab": {
          "base_uri": "https://localhost:8080/"
        },
        "outputId": "78eafa61-d9cf-45c1-ccaf-579156ebbeaf"
      },
      "source": [
        "X = np.array( [1.234, 5.678, 9.0] )\n",
        "\n",
        "# 四捨五入到小數點以下第 2 位\n",
        "R = np.round_( X, 2 )\n",
        "\n",
        "# 小於或等於 X 的最大整數\n",
        "F = np.floor( X )\n",
        "\n",
        "# 大於或等於 X 的最小整數\n",
        "C = np.ceil( X )\n",
        "\n",
        "# 無條件捨去小數\n",
        "T = np.trunc( X )\n",
        "\n",
        "print( f'X = {X}\\n' )\n",
        "print( f'四捨五入到小數點以下第 2 位 = {R}' )\n",
        "print( f'小於或等於 X 的最大整數 = {F}' )\n",
        "print( f'大於或等於 X 的最小整數 = {C}' )\n",
        "print( f'無條件捨去小數 = {T}' )"
      ],
      "execution_count": 16,
      "outputs": [
        {
          "output_type": "stream",
          "text": [
            "X = [1.234 5.678 9.   ]\n",
            "\n",
            "四捨五入到小數點以下第 2 位 = [1.23 5.68 9.  ]\n",
            "小於或等於 X 的最大整數 = [1. 5. 9.]\n",
            "大於或等於 X 的最小整數 = [2. 6. 9.]\n",
            "無條件捨去小數 = [1. 5. 9.]\n"
          ],
          "name": "stdout"
        }
      ]
    },
    {
      "cell_type": "markdown",
      "metadata": {
        "id": "EMsBPJyeKnax"
      },
      "source": [
        "## 指數\\對數"
      ]
    },
    {
      "cell_type": "code",
      "metadata": {
        "id": "Xz5DrKXp4Wrj",
        "colab": {
          "base_uri": "https://localhost:8080/"
        },
        "outputId": "6a32443a-4dd1-4052-e892-78dba17e30d0"
      },
      "source": [
        "X = np.array( [1,2,3] )\n",
        "\n",
        "# 計算以 e 歐拉數(Euler's number)為底數、陣列元素為次方數的指數\n",
        "E = np.exp( X )\n",
        "\n",
        "# 計算以 2 為底數、陣列元素為次方數的指數\n",
        "E2 = np.exp2( X )\n",
        "\n",
        "# 取以 e 歐拉數(Euler's number)為底的對數\n",
        "L = np.log( X )\n",
        "\n",
        "# 取以 2 為底的對數\n",
        "L2 = np.log2( X )\n",
        "\n",
        "print( f'X = {X}\\n' )\n",
        "print( f'e^X = {E}' )\n",
        "print( f'2^X = {E2}' )\n",
        "print( f'log_e(X) = {L}' )\n",
        "print( f'log_2(X) = {L2}' )"
      ],
      "execution_count": 17,
      "outputs": [
        {
          "output_type": "stream",
          "text": [
            "X = [1 2 3]\n",
            "\n",
            "e^X = [ 2.71828183  7.3890561  20.08553692]\n",
            "2^X = [2. 4. 8.]\n",
            "log_e(X) = [0.         0.69314718 1.09861229]\n",
            "log_2(X) = [0.        1.        1.5849625]\n"
          ],
          "name": "stdout"
        }
      ]
    },
    {
      "cell_type": "markdown",
      "metadata": {
        "id": "XXinhfaZKuN0"
      },
      "source": [
        "## 三角函數"
      ]
    },
    {
      "cell_type": "code",
      "metadata": {
        "id": "_9JZZifm4Wrm",
        "colab": {
          "base_uri": "https://localhost:8080/"
        },
        "outputId": "f5016069-ac71-4a4c-b366-0e31e4d4bfd0"
      },
      "source": [
        "X = np.array( [ 0, np.pi/2, np.pi, 3*np.pi/2 ] )\n",
        "\n",
        "# 正弦值(sine)\n",
        "S = np.sin( X )\n",
        "\n",
        "# 餘弦值(cosine)\n",
        "C = np.cos( X )\n",
        "\n",
        "# 正切值(tangent)\n",
        "T = np.tan( X )\n",
        "\n",
        "# 雙曲正切值(hyperbolic tangent)\n",
        "HT = np.tanh( X )\n",
        "\n",
        "print( f'X = {X}\\n' )\n",
        "print( f'sin(X) = {S}' )\n",
        "print( f'cos(X) = {C}' )\n",
        "print( f'tan(X) = {T}' )\n",
        "print( f'tanh(X) = {HT}' )"
      ],
      "execution_count": 18,
      "outputs": [
        {
          "output_type": "stream",
          "text": [
            "X = [0.         1.57079633 3.14159265 4.71238898]\n",
            "\n",
            "sin(X) = [ 0.0000000e+00  1.0000000e+00  1.2246468e-16 -1.0000000e+00]\n",
            "cos(X) = [ 1.0000000e+00  6.1232340e-17 -1.0000000e+00 -1.8369702e-16]\n",
            "tan(X) = [ 0.00000000e+00  1.63312394e+16 -1.22464680e-16  5.44374645e+15]\n",
            "tanh(X) = [0.         0.91715234 0.99627208 0.99983861]\n"
          ],
          "name": "stdout"
        }
      ]
    },
    {
      "cell_type": "markdown",
      "metadata": {
        "id": "gy-uVZe34sxs"
      },
      "source": [
        "# 結語   \n",
        "\n",
        "在閱讀本文對 <font color=\"#00dd00\">**NumPy**</font> 的基礎介紹後，我們已具有<font color=\"#00dd00\">陣列( Array )</font>的基礎觀念，這將有助於我們後續學習資料處理及分析的另一個基礎套件 <font color=\"#00dd00\">**Pandas**</font> ，實際上 ，Pandas 的資料儲存方法 <font color=\"#00dd00\">DataFrame</font> 及 <font color=\"#00dd00\">Series</font> 便是奠基於 NumPy 陣列之上。然而，當日後我們在進行資料分析時，免不了會遭遇到本文所沒有介紹的問題，建議讀者除可查詢 [Stack Overflow](https://stackoverflow.com/questions/tagged/python) 參考大神們的解法外，也可查詢官方文件 [NumPy Quickstart Tutorial](https://numpy.org/devdocs/user/quickstart.html) 尋找方法，以累積程式除錯的能力與經驗。   \n",
        "針對本文的內容，若讀者們有發現任何的錯誤或疑問，非常歡迎您[來信( yenlinwu1112@gmail.com )](mailto:yenlinwu1112@gmail.com )給予建議及討論，讓我們一同來學習成長！"
      ]
    },
    {
      "cell_type": "markdown",
      "metadata": {
        "id": "J9kthHxX-C-D"
      },
      "source": [
        "# [返回課程大綱](https://github.com/AI-FREE-Team/Machine-Learning-Basic)"
      ]
    }
  ]
}