{
  "nbformat": 4,
  "nbformat_minor": 0,
  "metadata": {
    "colab": {
      "name": "統計概念_統計分布.ipynb",
      "provenance": [],
      "collapsed_sections": [],
      "toc_visible": true,
      "include_colab_link": true
    },
    "kernelspec": {
      "name": "python3",
      "display_name": "Python 3"
    },
    "language_info": {
      "name": "python"
    }
  },
  "cells": [
    {
      "cell_type": "markdown",
      "metadata": {
        "id": "view-in-github",
        "colab_type": "text"
      },
      "source": [
        "<a href=\"https://github.com/AI-FREE-Team/Machine-Learning-Basic/blob/main/Materials/%E7%B5%B1%E8%A8%88%E6%A6%82%E5%BF%B5_%E7%B5%B1%E8%A8%88%E5%88%86%E5%B8%83.ipynb\" target=\"_parent\"><img src=\"https://colab.research.google.com/assets/colab-badge.svg\" alt=\"Open In Colab\"/></a>"
      ]
    },
    {
      "cell_type": "markdown",
      "metadata": {
        "id": "Q72ayOpSma0X"
      },
      "source": [
        "![Logo](https://raw.githubusercontent.com/AI-FREE-Team/Machine-Learning-Basic/main/README_imgs/aifreeteam.png) \n",
        "<center>Welcome to the course《Python: from business analytics to Artificial Intelligence》by AI . FREE Team.</center>\n",
        "<center>歡迎大家來到 AI . FREE Team 《Python 從商業分析到人工智慧》的第二堂課 - 機器學習(ML)基礎教學。 </center>\n",
        "<br/>\n",
        "\n",
        "<center>作者: Michelle Chuang (<a href=\"https://github.com/sueshow\">Github</a>)</center>\n",
        "<center>AI . FREE Team: <a href=\"https://aifreeblog.herokuapp.com/\">https://aifreeblog.herokuapp.com/</a></center>\n",
        "<br>\n"
      ]
    },
    {
      "cell_type": "markdown",
      "metadata": {
        "id": "n5tvudOgCwqL"
      },
      "source": [
        "# 前言"
      ]
    },
    {
      "cell_type": "markdown",
      "metadata": {
        "id": "lL4Ft4WY0xra"
      },
      "source": [
        "本篇文章以 <font color=\"#00dd00\">**Python**</font> 3.7.10、<font color=\"#00dd00\">**Numpy**</font> 1.19.5、<font color=\"#00dd00\">**Pandas**</font> 1.1.5、<font color=\"#00dd00\">**Matplotlib**</font> 3.2.2、<font color=\"#00dd00\">**Seaborn**</font> 0.11.1、<font color=\"#00dd00\">**SciPy**</font> 1.4.1 進行教學。本篇文章將介紹常見類型的統計分布，以及統計中最重要的定理(中央極限定理)：\n",
        "* 離散型：均勻分配、柏努利分配、二項分配\n",
        "* 連續型：均勻分配、常態分配"
      ]
    },
    {
      "cell_type": "markdown",
      "metadata": {
        "id": "zst0-qqTm6qf"
      },
      "source": [
        "## 匯入基本套件"
      ]
    },
    {
      "cell_type": "code",
      "metadata": {
        "id": "WgaGB4wNnFzJ",
        "colab": {
          "base_uri": "https://localhost:8080/"
        },
        "outputId": "d38ae3db-3b4f-4509-f117-739cd403eacb"
      },
      "source": [
        "!python --version"
      ],
      "execution_count": null,
      "outputs": [
        {
          "output_type": "stream",
          "text": [
            "Python 3.7.11\n"
          ],
          "name": "stdout"
        }
      ]
    },
    {
      "cell_type": "code",
      "metadata": {
        "id": "vBnIfD8EnIk8",
        "colab": {
          "base_uri": "https://localhost:8080/"
        },
        "outputId": "dcdab36d-9209-437f-99c5-ee1d6e8bd1a9"
      },
      "source": [
        "import numpy as np \n",
        "import pandas as pd \n",
        "import matplotlib\n",
        "import matplotlib.pyplot as plt   # 繪製影像 \n",
        "import seaborn as sns\n",
        "import scipy as sp\n",
        "\n",
        "print( 'NumPy 版本: ', np.__version__ )\n",
        "print( 'Pandas 版本: ', pd.__version__ )  \n",
        "print( 'Matplotlib 版本: ', matplotlib.__version__ )\n",
        "print( 'Seaborn 版本: ', sns.__version__ )\n",
        "print( 'SciPy 版本: ', sp.__version__ )"
      ],
      "execution_count": null,
      "outputs": [
        {
          "output_type": "stream",
          "text": [
            "NumPy 版本:  1.19.5\n",
            "Pandas 版本:  1.1.5\n",
            "Matplotlib 版本:  3.2.2\n",
            "Seaborn 版本:  0.11.1\n",
            "SciPy 版本:  1.4.1\n"
          ],
          "name": "stdout"
        }
      ]
    },
    {
      "cell_type": "markdown",
      "metadata": {
        "id": "UpLD6O8lemEM"
      },
      "source": [
        "# 統計分佈"
      ]
    },
    {
      "cell_type": "markdown",
      "metadata": {
        "id": "GOe727gPFfil"
      },
      "source": [
        "## 離散型"
      ]
    },
    {
      "cell_type": "markdown",
      "metadata": {
        "id": "lKCVTlK8Fhlp"
      },
      "source": [
        "### 離散均勻分配 (Discrete Uniform Distribution)"
      ]
    },
    {
      "cell_type": "markdown",
      "metadata": {
        "id": "D5nIbRKMF2QN"
      },
      "source": [
        "* 說明：有限個數值擁有相同的機率\n",
        "* 函數：\n",
        "  * $ f(x) = P(X=x) = \\frac{1}{N} , x = 1,2,...,N $\n",
        "  * $ X \\sim DU(1, N) $\n",
        "* 生活實例\n",
        "  * 投擲骰子或銅板\n",
        "  * 圓周率小數點後的數值\n",
        "* 語法\n",
        "\n",
        "| 離散均勻分配 | 語法(scipy.stats) |\n",
        "|----------------|:----------------:|\n",
        "| 機率質量函數\t| randint.pmf |\n",
        "| 累積機率函數\t| randint.cdf |\n",
        "| 樣本點\t| randint.rvs |\n",
        "| 統計量計算\t| randint.stats |"
      ]
    },
    {
      "cell_type": "markdown",
      "metadata": {
        "id": "Dk8VfIUtQzaI"
      },
      "source": [
        "* 匯入套件"
      ]
    },
    {
      "cell_type": "code",
      "metadata": {
        "id": "_Vr9YWfGMMpH"
      },
      "source": [
        "from scipy.stats import randint"
      ],
      "execution_count": null,
      "outputs": []
    },
    {
      "cell_type": "markdown",
      "metadata": {
        "id": "tWPiESavNiwC"
      },
      "source": [
        "* 產出分配的資料"
      ]
    },
    {
      "cell_type": "code",
      "metadata": {
        "colab": {
          "base_uri": "https://localhost:8080/"
        },
        "id": "E5N6RbFqMq5W",
        "outputId": "f18650fe-727c-4b8d-f16e-ff32dcadd7ce"
      },
      "source": [
        "low, high = 7, 31\n",
        "mean, var, skew, kurt = randint.stats(low, high, moments='mvsk')\n",
        "r = np.arange(low, high)\n",
        "print(r)\n",
        "print('='*20)\n",
        "x = np.arange(randint.ppf(0.01, low, high),\n",
        "        randint.ppf(0.99, low, high))\n",
        "print(x)"
      ],
      "execution_count": null,
      "outputs": [
        {
          "output_type": "stream",
          "text": [
            "[ 7  8  9 10 11 12 13 14 15 16 17 18 19 20 21 22 23 24 25 26 27 28 29 30]\n",
            "====================\n",
            "[ 7.  8.  9. 10. 11. 12. 13. 14. 15. 16. 17. 18. 19. 20. 21. 22. 23. 24.\n",
            " 25. 26. 27. 28. 29.]\n"
          ],
          "name": "stdout"
        }
      ]
    },
    {
      "cell_type": "markdown",
      "metadata": {
        "id": "Fyfkxa5wF0fl"
      },
      "source": [
        "* 資料繪圖"
      ]
    },
    {
      "cell_type": "code",
      "metadata": {
        "colab": {
          "base_uri": "https://localhost:8080/",
          "height": 265
        },
        "id": "OZicop96NrdR",
        "outputId": "cda775ca-abb1-465f-9f59-fa9a206d30e2"
      },
      "source": [
        "fig, ax = plt.subplots(1, 1)\n",
        "ax.plot(x, randint.pmf(x, low, high), 'bo', ms=8, label='randint pmf')\n",
        "ax.vlines(x, 0, randint.pmf(x, low, high), colors='b', lw=5, alpha=0.5)\n",
        "\n",
        "rv = randint(low, high)\n",
        "ax.vlines(x, 0, rv.pmf(x), colors='k', linestyles='-', lw=1, label='frozen pmf')\n",
        "ax.legend(loc='best', frameon=False)\n",
        "plt.show()"
      ],
      "execution_count": null,
      "outputs": [
        {
          "output_type": "display_data",
          "data": {
            "image/png": "[encoded data removed]",
            "text/plain": [
              "<Figure size 432x288 with 1 Axes>"
            ]
          },
          "metadata": {
            "tags": [],
            "needs_background": "light"
          }
        }
      ]
    },
    {
      "cell_type": "markdown",
      "metadata": {
        "id": "80iW5gUHPwHw"
      },
      "source": [
        "* 產生符合分配的隨機樣本點 (random sample)"
      ]
    },
    {
      "cell_type": "code",
      "metadata": {
        "colab": {
          "base_uri": "https://localhost:8080/",
          "height": 282
        },
        "id": "cVjnqf-5PwTi",
        "outputId": "4e5a3ef7-3000-4e74-8f74-c4d3c949cc62"
      },
      "source": [
        "X = randint.rvs(low, high, size=20)\n",
        "print(X)\n",
        "plt.hist(X, bins=13)\n",
        "plt.show()"
      ],
      "execution_count": null,
      "outputs": [
        {
          "output_type": "stream",
          "text": [
            "[26 16 29 17 29 27 16 25 15 11  8 17 30 22 23 22 25 20 12  7]\n"
          ],
          "name": "stdout"
        },
        {
          "output_type": "display_data",
          "data": {
            "image/png": "[encoded data removed]",
            "text/plain": [
              "<Figure size 432x288 with 1 Axes>"
            ]
          },
          "metadata": {
            "tags": [],
            "needs_background": "light"
          }
        }
      ]
    },
    {
      "cell_type": "markdown",
      "metadata": {
        "id": "CNW8XDU0QF4T"
      },
      "source": [
        "### 伯努利分配 (Bernoulli Distribution)"
      ]
    },
    {
      "cell_type": "markdown",
      "metadata": {
        "id": "pChysoN9QF-7"
      },
      "source": [
        "* 說明：只有兩種可能結果 (成功或失敗) 的單次隨機試驗，且成功的機率為 p (固定)，則稱為* 試驗為「伯努利試驗 (Bernoulli trial)」\n",
        "* 函數：\n",
        "  * $ f_X(x) = p^x(1-p)^{(1-x)} , x = 0,1 $\n",
        "* 性質：\n",
        "  * $ P(X=1) = p $\n",
        "  * $ P(X=0) = 1-p = q $\n",
        "  * $ X \\sim bernoulli(p) $\n",
        "  * $ \\mu = E(X) = p $\n",
        "  * $ \\sigma^2 = Var(X) = p(1-p) $\n",
        "* 語法\n",
        "\n",
        "| 伯努利分配\t| 語法(scipy.stats) |\n",
        "|----------------|:----------------:|\n",
        "| 機率質量函數\t| bernoulli.pmf |\n",
        "| 累積機率函數\t| bernoulli.cdf |\n",
        "| 樣本點\t| bernoulli.rvs |\n",
        "| 統計量計算\t| bernoulli.stats |"
      ]
    },
    {
      "cell_type": "markdown",
      "metadata": {
        "id": "4gXKto1-Q3Sp"
      },
      "source": [
        "* 匯入套件"
      ]
    },
    {
      "cell_type": "code",
      "metadata": {
        "id": "o3MOrYMyQGHo"
      },
      "source": [
        "from scipy.stats import bernoulli"
      ],
      "execution_count": null,
      "outputs": []
    },
    {
      "cell_type": "markdown",
      "metadata": {
        "id": "DraO2dhiQ8rp"
      },
      "source": [
        "* 產出分配的資料"
      ]
    },
    {
      "cell_type": "code",
      "metadata": {
        "colab": {
          "base_uri": "https://localhost:8080/"
        },
        "id": "vcFKawluR9YZ",
        "outputId": "509edc16-2a4b-4372-d8c4-fde8e0d4aeea"
      },
      "source": [
        "p = 0.4 # 事件A 機率 0.4\n",
        "mean, var, skew, kurt = bernoulli.stats(p, moments='mvsk')\n",
        "r = np.arange(0,2) # 可以出現的範圍為 0、1、2種可能出現的結果\n",
        "print(r)\n",
        "print('='*20)\n",
        "x = np.arange(bernoulli.ppf(0.01, p),\n",
        "        bernoulli.ppf(0.99, p))\n",
        "print(x)"
      ],
      "execution_count": null,
      "outputs": [
        {
          "output_type": "stream",
          "text": [
            "[0 1]\n",
            "====================\n",
            "[0.]\n"
          ],
          "name": "stdout"
        }
      ]
    },
    {
      "cell_type": "markdown",
      "metadata": {
        "id": "gV6NJWCHRB8A"
      },
      "source": [
        "* 資料繪圖"
      ]
    },
    {
      "cell_type": "code",
      "metadata": {
        "colab": {
          "base_uri": "https://localhost:8080/",
          "height": 265
        },
        "id": "bUjCNVj1SEnI",
        "outputId": "24d857ea-5e08-45c8-cc9b-5d2a556b7a5b"
      },
      "source": [
        "fig, ax = plt.subplots(1,1)\n",
        "ax.plot(x, bernoulli.pmf(x, p), 'bo', ms=8, label='bernoulli pmf')\n",
        "ax.vlines(x, 0, bernoulli.pmf(x, p), colors='b', lw=5, alpha=0.5)\n",
        "\n",
        "rv = bernoulli(p)\n",
        "ax.vlines(x, 0, rv.pmf(x), colors='k', linestyles='-', lw=1, label='frozen pmf')\n",
        "ax.legend(loc='best', frameon=False)\n",
        "plt.show()"
      ],
      "execution_count": null,
      "outputs": [
        {
          "output_type": "display_data",
          "data": {
            "image/png": "[encoded data removed]",
            "text/plain": [
              "<Figure size 432x288 with 1 Axes>"
            ]
          },
          "metadata": {
            "tags": [],
            "needs_background": "light"
          }
        }
      ]
    },
    {
      "cell_type": "markdown",
      "metadata": {
        "id": "PFI02IZTRZTA"
      },
      "source": [
        "* 產生符合分配的隨機樣本點 (random sample)"
      ]
    },
    {
      "cell_type": "code",
      "metadata": {
        "colab": {
          "base_uri": "https://localhost:8080/",
          "height": 282
        },
        "id": "XgKSQsSwSgdn",
        "outputId": "2dfb88c8-4820-49a9-c7c9-c265a880ecbb"
      },
      "source": [
        "X = bernoulli.rvs(p, size=20)\n",
        "print(X)\n",
        "plt.hist(X)\n",
        "plt.show()"
      ],
      "execution_count": null,
      "outputs": [
        {
          "output_type": "stream",
          "text": [
            "[0 0 0 1 0 0 0 0 0 0 0 0 1 0 0 0 1 0 0 0]\n"
          ],
          "name": "stdout"
        },
        {
          "output_type": "display_data",
          "data": {
            "image/png": "[encoded data removed]",
            "text/plain": [
              "<Figure size 432x288 with 1 Axes>"
            ]
          },
          "metadata": {
            "tags": [],
            "needs_background": "light"
          }
        }
      ]
    },
    {
      "cell_type": "markdown",
      "metadata": {
        "id": "--O5b2_sRvNQ"
      },
      "source": [
        "### 二項分配 (Binomial Distribution)"
      ]
    },
    {
      "cell_type": "markdown",
      "metadata": {
        "id": "ay8EvKldUEvI"
      },
      "source": [
        "* 進行多次相同伯努利試驗，且試驗結果互相獨立，結果只有 2 種結果，稱為二項分配 (Binomial Experiment)\n",
        "* 隨機一次試驗出現事件 A 的機率如果為 p，那麼在重複 n 次試驗中出現 x 次事件 A 的機率為：\n",
        "  $ f(n,x,p) = C_x^n * p^x * (1-p)^(n-x) , x = 0,...,n $ $ C_x^n =  \\left( \\begin{array}{c} x \\\\ y \\end{array} \\right)\n",
        "= \\frac{n!}{k!(n-k)!} $\n",
        "* 語法\n",
        "\n",
        "| 二項分配\t| 語法(scipy.stats) |\n",
        "|---------------|:---------------:|\n",
        "| 機率質量函數\t| binom.pmf |\n",
        "| 累積機率函數\t| binom.cdf |\n",
        "| 樣本點\t| binom.rvs |\n",
        "| 統計量計算\t| binom.stats |"
      ]
    },
    {
      "cell_type": "markdown",
      "metadata": {
        "id": "s69g7igiT35P"
      },
      "source": [
        "* 匯入套件"
      ]
    },
    {
      "cell_type": "code",
      "metadata": {
        "id": "PRO7ok6HUcQ1"
      },
      "source": [
        "from scipy.stats import binom"
      ],
      "execution_count": null,
      "outputs": []
    },
    {
      "cell_type": "markdown",
      "metadata": {
        "id": "VIPf0Hr3T4vY"
      },
      "source": [
        "* 產出分配的資料"
      ]
    },
    {
      "cell_type": "code",
      "metadata": {
        "colab": {
          "base_uri": "https://localhost:8080/"
        },
        "id": "jd3lelTpUeqL",
        "outputId": "f945e618-f072-4447-cf32-de001929e5be"
      },
      "source": [
        "p = 0.4 # 事件 A 機率 0.4\n",
        "n = 5   # 重複實驗 5 次\n",
        "mean, var, skew, kurt = binom.stats(n, p, moments='mvsk')\n",
        "r = np.arange(0,6) # 可以出現的範圍為 0,1,2,...,5-->6種可能出現的結果\n",
        "print(r)\n",
        "print('='*20)\n",
        "x = np.arange(binom.ppf(0.01, n, p),\n",
        "        binom.ppf(0.99, n, p))\n",
        "print(x)"
      ],
      "execution_count": null,
      "outputs": [
        {
          "output_type": "stream",
          "text": [
            "[0 1 2 3 4 5]\n",
            "====================\n",
            "[0. 1. 2. 3. 4.]\n"
          ],
          "name": "stdout"
        }
      ]
    },
    {
      "cell_type": "markdown",
      "metadata": {
        "id": "8jWAktm0T5jk"
      },
      "source": [
        "* 資料繪圖"
      ]
    },
    {
      "cell_type": "code",
      "metadata": {
        "colab": {
          "base_uri": "https://localhost:8080/",
          "height": 265
        },
        "id": "USPDXv3vUgwK",
        "outputId": "34a7fece-3f44-4cf1-8553-45dc88991118"
      },
      "source": [
        "fig, ax = plt.subplots(1,1)\n",
        "ax.plot(x, binom.pmf(x, n, p), 'bo', ms=8, label='binom pmf')\n",
        "ax.vlines(x, 0, binom.pmf(x, n, p), colors='b', lw=5, alpha=0.5)\n",
        "\n",
        "rv = binom(n, p)\n",
        "ax.vlines(x, 0, rv.pmf(x), colors='k', linestyles='-', lw=1, label='frozen pmf')\n",
        "ax.legend(loc='best', frameon=False)\n",
        "plt.show()"
      ],
      "execution_count": null,
      "outputs": [
        {
          "output_type": "display_data",
          "data": {
            "image/png": "[encoded data removed]",
            "text/plain": [
              "<Figure size 432x288 with 1 Axes>"
            ]
          },
          "metadata": {
            "tags": [],
            "needs_background": "light"
          }
        }
      ]
    },
    {
      "cell_type": "markdown",
      "metadata": {
        "id": "WY8WG0MhT-bt"
      },
      "source": [
        "* 產生符合分配的隨機樣本點 (random sample)"
      ]
    },
    {
      "cell_type": "code",
      "metadata": {
        "colab": {
          "base_uri": "https://localhost:8080/",
          "height": 282
        },
        "id": "hBFWI_doVHRJ",
        "outputId": "ccf9a768-2c40-4724-fc70-eef32d949334"
      },
      "source": [
        "X = binom.rvs(n, p, size=20)\n",
        "#array([2, 3, 1, 2, 2, 2, 1, 2, 2, 3, 3, 0, 1, 1, 1, 2, 3, 4, 0, 3])\n",
        "print(X)\n",
        "plt.hist(X)\n",
        "plt.show()"
      ],
      "execution_count": null,
      "outputs": [
        {
          "output_type": "stream",
          "text": [
            "[3 3 3 1 1 1 1 2 1 2 3 1 2 2 3 2 2 2 3 2]\n"
          ],
          "name": "stdout"
        },
        {
          "output_type": "display_data",
          "data": {
            "image/png": "[encoded data removed]",
            "text/plain": [
              "<Figure size 432x288 with 1 Axes>"
            ]
          },
          "metadata": {
            "tags": [],
            "needs_background": "light"
          }
        }
      ]
    },
    {
      "cell_type": "markdown",
      "metadata": {
        "id": "UaMs13VAFbge"
      },
      "source": [
        "## 連續型"
      ]
    },
    {
      "cell_type": "markdown",
      "metadata": {
        "id": "yk9TtwsHX7EV"
      },
      "source": [
        "* f(x) 為 X 的機率分配函數（機率密度函數），則 f(x) 符合以下條件：\n",
        "  * $ f(x) \\geqslant 0 $\n",
        "  * $ f(x) $ 圖形下總面積為 1，即 $ \\int_{-\\infty}^{\\infty} f(x) dx = 1 $\n",
        "* 性質：\n",
        "  * f(x) 並非機率，即 $ f(a) \\neq P(X=a)$，a 為任意數\n",
        "  * f(x) 圖形下面積才為機率\n",
        "    * $ P(-2 \\leq X \\leq 2) =  \\int_{-2}^{2} f(x) dx$\n",
        "  * 期望值\n",
        "    * $ E(X) =  \\int_{-\\infty}^{\\infty} x*f(x) dx $\n",
        "  * 變異數\n",
        "    * $ Var(X) = E(X^2)-E(X)^2 =  \\int_{-\\infty}^{\\infty} x^2*f(x) dx-E(X)^2 $\n",
        "  * 累積分布函數(cdf)：又叫分佈函數，是機率密度函數的積分，能完整描述一個實隨機變數 X 的機率分佈\n",
        "    * $ F(X) = P(X \\leq x)$"
      ]
    },
    {
      "cell_type": "markdown",
      "metadata": {
        "id": "lEQvy3riRvlc"
      },
      "source": [
        "### 連續均勻分配 ([Uniform Distribution](https://docs.scipy.org/doc/scipy/reference/generated/scipy.stats.uniform.html))"
      ]
    },
    {
      "cell_type": "markdown",
      "metadata": {
        "id": "41f_rfYOZ84D"
      },
      "source": [
        "* 說明：一個均勻分佈在區間 [a,b] 上的連續型隨機變量 X，記做 X ~ U(a, b)\n",
        "* 機率密度函數(pdf) <br>\n",
        "\n",
        "  $f(x)=\\left\\{\n",
        "    \\begin{matrix}\n",
        "      \\frac{1}{b-a} &, for  a \\leq x \\leq b \\\\\n",
        "      0 & , otherwise\n",
        "    \\end{matrix}\n",
        "   \\right.$\n",
        "\n",
        "* 累積分布函數(cdf) <br>\n",
        "\n",
        "  $F(x)=\\left\\{\n",
        "    \\begin{matrix}\n",
        "          0 &, for  x < a \\\\\n",
        "          \\frac{x-a}{b-a} &, for a \\leq x < b \\\\\n",
        "          1 &, for x \\geq b\n",
        "    \\end{matrix}\n",
        "  \\right.$\n",
        "\n",
        "* 期望值\n",
        "  * $ E(X) = \\frac{a+b}{2} $\n",
        "* 變異數\n",
        "  * $ Var(X) = \\frac{(b-a)^2}{12} $\n",
        "* 語法\n",
        "\n",
        "| 連續型均勻分配\t| 語法 |\n",
        "|--------------------|:--------------------:|\n",
        "| 機率質量函數\t| uniform.pdf |\n",
        "| 累積機率函數\t| uniform.cdf |\n",
        "| 樣本點\t| uniform.rvs |\n",
        "| 統計量計算\t| uniform.stats |"
      ]
    },
    {
      "cell_type": "markdown",
      "metadata": {
        "id": "Z_y50pb0R8Sx"
      },
      "source": [
        "* 匯入套件"
      ]
    },
    {
      "cell_type": "code",
      "metadata": {
        "id": "T58oyOkAbyTG"
      },
      "source": [
        "from scipy.stats import uniform"
      ],
      "execution_count": null,
      "outputs": []
    },
    {
      "cell_type": "markdown",
      "metadata": {
        "id": "JLIloGjmR6qf"
      },
      "source": [
        "* 設定使用參數"
      ]
    },
    {
      "cell_type": "code",
      "metadata": {
        "id": "n8ZrCmn5b8nI"
      },
      "source": [
        "low = 1\n",
        "high = 5\n",
        "x = np.linspace(0, 10, 50)"
      ],
      "execution_count": null,
      "outputs": []
    },
    {
      "cell_type": "markdown",
      "metadata": {
        "id": "XolukcMKRyid"
      },
      "source": [
        "* 產生符合分配的隨機樣本點 (random sample)"
      ]
    },
    {
      "cell_type": "code",
      "metadata": {
        "colab": {
          "base_uri": "https://localhost:8080/",
          "height": 348
        },
        "id": "cy0dkr5sdDpb",
        "outputId": "e4ae4c13-8401-4a69-b55d-e927165ad052"
      },
      "source": [
        "X = uniform.rvs(low, high-low, size=20)\n",
        "print(X)\n",
        "plt.hist(X, bins=13)\n",
        "plt.title('random variable of uniform(size=20)')\n",
        "plt.show()"
      ],
      "execution_count": null,
      "outputs": [
        {
          "output_type": "stream",
          "text": [
            "[2.68040477 2.89243946 4.18234615 3.29222944 3.76822059 2.56669783\n",
            " 2.02092545 3.92638981 2.23090646 2.16198325 1.14153702 4.95839119\n",
            " 2.1918555  3.75525862 2.53514665 1.02897688 1.57253614 3.55557489\n",
            " 3.1374028  1.02822196]\n"
          ],
          "name": "stdout"
        },
        {
          "output_type": "display_data",
          "data": {
            "image/png": "[encoded data removed]",
            "text/plain": [
              "<Figure size 432x288 with 1 Axes>"
            ]
          },
          "metadata": {
            "tags": [],
            "needs_background": "light"
          }
        }
      ]
    },
    {
      "cell_type": "markdown",
      "metadata": {
        "id": "sdPEP6_JFQLE"
      },
      "source": [
        "### 常態分佈 ([Normal Distribution](https://docs.scipy.org/doc/scipy/reference/generated/scipy.stats.norm.html))"
      ]
    },
    {
      "cell_type": "markdown",
      "metadata": {
        "id": "HI3i0eBpeB0U"
      },
      "source": [
        "* 常態分佈(normal distribution)，又稱高斯分佈(Gaussian distribution)\n",
        "* 說明：若隨機變數 X 服從一個平均數為 $\\mu$ 和 標準差為 $\\sigma$ 的常態分配，其記為 $X \\sim N (\\mu, \\sigma^2)$\n",
        "* 機率密度函數(pdf)\n",
        "  * $ f(x) = \\frac{1}{\\sigma \\sqrt{2 \\pi}} e^{-\\frac{(x-\\mu)^2}{2 \\sigma^2}}$\n",
        "* 期望值 $\\mu$ 決定 pdf 位置\n",
        "  * $ E(X) = \\mu $\n",
        "* 變異數 $\\sigma$ 決定 pdf 寬度\n",
        "  * $ Var(X) = \\sigma^2 $\n",
        "* 特性\n",
        "  * 以平均數為中線，構成左右對稱之單峰、鐘型曲線分佈\n",
        "  * 觀察值之範圍為負無限大至正無限大之間\n",
        "  * 變項之平均數、中位數和眾數為同一數值\n",
        "  * $\\mu$＝0，$\\sigma^2$＝1，稱為標準常態分配\n",
        "* 語法\n",
        "\n",
        "| 連續型均勻分配\t| 語法 |\n",
        "|--------------------|:--------------------:|\n",
        "| 機率質量函數\t| norm.pdf |\n",
        "| 累積機率函數\t| norm.cdf |\n",
        "| 樣本點\t| norm.rvs |\n",
        "| 統計量計算\t| norm.stats |\n",
        "\n",
        "* 標準常態分配\n",
        "  * Z分數：標準化 $ Z = \\frac{X-\\mu}{\\sigma} $\n",
        "  * 特性\n",
        "    * 落在 $ \\mu \\pm 1個 \\sigma：68.3 \\% $\n",
        "    * 落在 $ \\mu \\pm 2個 \\sigma：95.4 \\% $\n",
        "    * 落在 $ \\mu \\pm 3個 \\sigma：99.7 \\% $\n",
        "* 參數說明\n",
        "  * loc：代表mu\n",
        "  * scale：代表sigma"
      ]
    },
    {
      "cell_type": "markdown",
      "metadata": {
        "id": "m0ymYbqOdZ8u"
      },
      "source": [
        "* 匯入套件"
      ]
    },
    {
      "cell_type": "code",
      "metadata": {
        "id": "_HytIyjOd_0q"
      },
      "source": [
        "from scipy.stats import norm"
      ],
      "execution_count": null,
      "outputs": []
    },
    {
      "cell_type": "markdown",
      "metadata": {
        "id": "VR55neWRdbqM"
      },
      "source": [
        "* 設定使用參數"
      ]
    },
    {
      "cell_type": "code",
      "metadata": {
        "id": "WP0OWfPUfqHg"
      },
      "source": [
        "mu = 0\n",
        "sigma = 1\n",
        "x = np.linspace(-4, 4, 500)"
      ],
      "execution_count": null,
      "outputs": []
    },
    {
      "cell_type": "markdown",
      "metadata": {
        "id": "xX8BqDe9dhr6"
      },
      "source": [
        "* 產生符合分配的隨機樣本點 (random sample)"
      ]
    },
    {
      "cell_type": "code",
      "metadata": {
        "colab": {
          "base_uri": "https://localhost:8080/",
          "height": 281
        },
        "id": "CiVTSp21gm6r",
        "outputId": "44c3a676-b525-40e6-ecd1-e03782b77a8b"
      },
      "source": [
        "X = norm.rvs(mu, sigma, size=1000)\n",
        "plt.hist(X, bins=13)\n",
        "plt.title('random variable of Normal(size=1000)')\n",
        "plt.show()"
      ],
      "execution_count": null,
      "outputs": [
        {
          "output_type": "display_data",
          "data": {
            "image/png": "[encoded data removed]",
            "text/plain": [
              "<Figure size 432x288 with 1 Axes>"
            ]
          },
          "metadata": {
            "tags": [],
            "needs_background": "light"
          }
        }
      ]
    },
    {
      "cell_type": "markdown",
      "metadata": {
        "id": "DyRfGAqn3a1s"
      },
      "source": [
        "* Z 分數：$\\frac{X_i-mean(X)}{std(X)}$"
      ]
    },
    {
      "cell_type": "markdown",
      "metadata": {
        "id": "8cZo0O2wgMwy"
      },
      "source": [
        "* 本篇文章將收集男生身高教大家認識 Z 分數，資料如下："
      ]
    },
    {
      "cell_type": "code",
      "metadata": {
        "id": "QSrTLzuNIHvO"
      },
      "source": [
        "#輸入資料\n",
        "boys = [164, 176, 169, 169, 165, 175, 159, 151, 144, 160,\n",
        "     183, 165, 156, 170, 164, 173, 165, 163, 177, 171]"
      ],
      "execution_count": null,
      "outputs": []
    },
    {
      "cell_type": "code",
      "metadata": {
        "colab": {
          "base_uri": "https://localhost:8080/"
        },
        "id": "k4hOt-b7tqab",
        "outputId": "ba67c7d9-5543-4eaa-fffb-e13e972ca5bb"
      },
      "source": [
        "zScores = []\n",
        "m = np.mean(boys)\n",
        "n = np.std(boys)\n",
        "\n",
        "for i in boys:\n",
        "    zScore = round((i - m)/n, 2)\n",
        "    zScores.append(zScore)\n",
        "print('Z-Scores: \\n', zScores)"
      ],
      "execution_count": null,
      "outputs": [
        {
          "output_type": "stream",
          "text": [
            "Z-Scores: \n",
            " [-0.22, 1.12, 0.34, 0.34, -0.11, 1.01, -0.77, -1.66, -2.44, -0.66, 1.9, -0.11, -1.11, 0.45, -0.22, 0.79, -0.11, -0.33, 1.23, 0.56]\n"
          ],
          "name": "stdout"
        }
      ]
    },
    {
      "cell_type": "markdown",
      "metadata": {
        "id": "ilTpPuRChMfN"
      },
      "source": [
        "# 中央極限定理"
      ]
    },
    {
      "cell_type": "markdown",
      "metadata": {
        "id": "LKB14UevhOki"
      },
      "source": [
        "* 從平均數 $\\mu$﹐標準差 $\\sigma$ 的母體中抽樣大小為 n 的簡單隨機樣本，當樣本數 n 夠大時，樣本平均數($ \\bar{X}_n $) 的抽樣分配會近似於常態分配\n",
        "  * 一般統計實務，大部分的應用假設 n 大於 30 時，樣本平均數($ \\bar{X}_n $) 的抽樣分配接近常態分配\n",
        "  * 當母體為常態分配，不管 n，樣本平均數($ \\bar{X}_n $) 的抽樣分配皆為常態分配\n",
        "* 符合\n",
        "  * $ E(X) $ 存在\n",
        "  * $ 0 \\leq Var(X) \\leq \\infty $ 存在"
      ]
    },
    {
      "cell_type": "markdown",
      "metadata": {
        "id": "8sUmi4pghcjN"
      },
      "source": [
        "## 用模擬驗證中央極限定理"
      ]
    },
    {
      "cell_type": "markdown",
      "metadata": {
        "id": "wOI6n1M-he92"
      },
      "source": [
        "* $X \\sim bernoulli(p)$ 從伯努利分配中，抽取 n 個樣本，$X_1,..., X_n$，重複抽了 500 次，每一次都計算 $ \\bar{X}_n $，長條圖呈現 500 次 $ \\bar{X}_n $ 結果"
      ]
    },
    {
      "cell_type": "code",
      "metadata": {
        "id": "wEzlVZPqhfOj"
      },
      "source": [
        "# 計算樣本平均數\n",
        "def cal_mean(x):\n",
        "    return(sum(x)/len(x))"
      ],
      "execution_count": null,
      "outputs": []
    },
    {
      "cell_type": "markdown",
      "metadata": {
        "id": "l6t96t-0hmZo"
      },
      "source": [
        "* 模擬重複抽樣 500 次，看樣本平均 (n=100) 的分布情形"
      ]
    },
    {
      "cell_type": "code",
      "metadata": {
        "id": "NGcI-0H0hOtZ",
        "colab": {
          "base_uri": "https://localhost:8080/",
          "height": 334
        },
        "outputId": "d7141f32-1d2c-47f6-a2de-4651dc662788"
      },
      "source": [
        "p = 0.4\n",
        "mean_rv = []\n",
        "for i in range(500):\n",
        "    X = bernoulli.rvs(p, size=100)\n",
        "    mean_rv.append(cal_mean(X))\n",
        "sns.distplot(mean_rv)\n",
        "plt.title('sample mean from the binomial(0.4),size=100,replicates=500')\n",
        "plt.show()"
      ],
      "execution_count": null,
      "outputs": [
        {
          "output_type": "stream",
          "text": [
            "/usr/local/lib/python3.7/dist-packages/seaborn/distributions.py:2557: FutureWarning: `distplot` is a deprecated function and will be removed in a future version. Please adapt your code to use either `displot` (a figure-level function with similar flexibility) or `histplot` (an axes-level function for histograms).\n",
            "  warnings.warn(msg, FutureWarning)\n"
          ],
          "name": "stderr"
        },
        {
          "output_type": "display_data",
          "data": {
            "image/png": "[encoded data removed]",
            "text/plain": [
              "<Figure size 432x288 with 1 Axes>"
            ]
          },
          "metadata": {
            "tags": [],
            "needs_background": "light"
          }
        }
      ]
    },
    {
      "cell_type": "markdown",
      "metadata": {
        "id": "YCGFDWZmh_2u"
      },
      "source": [
        "* 模擬重複抽樣 500 次，看樣本平均 (n=100000) 的分布情形"
      ]
    },
    {
      "cell_type": "code",
      "metadata": {
        "id": "2UPgg5kLiAD_",
        "colab": {
          "base_uri": "https://localhost:8080/",
          "height": 334
        },
        "outputId": "628ca346-8473-4aa4-9bab-066913b8510c"
      },
      "source": [
        "p = 0.4\n",
        "mean_rv = []\n",
        "for i in range(500):\n",
        "    X = bernoulli.rvs(p, size=100000)\n",
        "    mean_rv.append(cal_mean(X))\n",
        "sns.distplot(mean_rv)\n",
        "plt.title('sample mean from the binomial(0.4),size=100,replicates=500')\n",
        "plt.show()"
      ],
      "execution_count": null,
      "outputs": [
        {
          "output_type": "stream",
          "text": [
            "/usr/local/lib/python3.7/dist-packages/seaborn/distributions.py:2557: FutureWarning: `distplot` is a deprecated function and will be removed in a future version. Please adapt your code to use either `displot` (a figure-level function with similar flexibility) or `histplot` (an axes-level function for histograms).\n",
            "  warnings.warn(msg, FutureWarning)\n"
          ],
          "name": "stderr"
        },
        {
          "output_type": "display_data",
          "data": {
            "image/png": "[encoded data removed]",
            "text/plain": [
              "<Figure size 432x288 with 1 Axes>"
            ]
          },
          "metadata": {
            "tags": [],
            "needs_background": "light"
          }
        }
      ]
    },
    {
      "cell_type": "markdown",
      "metadata": {
        "id": "-A1rA_6Z0KRe"
      },
      "source": [
        "這個範例的分布圖更接近常態分佈了。"
      ]
    },
    {
      "cell_type": "markdown",
      "metadata": {
        "id": "h_roR63uwNCh"
      },
      "source": [
        "# 結語 "
      ]
    },
    {
      "cell_type": "markdown",
      "metadata": {
        "id": "sQl00IpEkwFn"
      },
      "source": [
        "本篇文章介紹常見類型的統計分佈，以及統計之中央極限定理，其中，常態分布是自然科學與行為科學中的定量現象的一個方便模型，各種各樣的心理學測試分數和物理現象比如光子計數都被發現近似地服從常態分布，要理解如何運用這些機率分佈函數，需要重新整理機率事件以及條件機率的計算，讀者可透過本篇文章的介紹更進一步瞭解分佈的樣貌。<br>\n",
        "針對本文的內容，若讀者們有發現任何的錯誤或疑問，非常歡迎您 [來信 sueshow2006@gmail.com](mailto:sueshow2006@gmail.com) 給予建議及討論，讓我們一同來學習成長！"
      ]
    },
    {
      "cell_type": "markdown",
      "metadata": {
        "id": "uQmCKUBULt9b"
      },
      "source": [
        "# 參考資料"
      ]
    },
    {
      "cell_type": "markdown",
      "metadata": {
        "id": "qg9ItOg8rNth"
      },
      "source": [
        "* [模擬的機率分佈：統計方法的實證作用](https://scgeeker.github.io/BasicStatistics/distribution.html)\n",
        "* [30天搞懂Python-常態分配](https://ithelp.ithome.com.tw/articles/10239607)\n",
        "* [python 如何判斷一組數據是否符合正態分布](https://codingnote.cc/zh-tw/p/149154/)\n",
        "* [统计概率思维及几种分布的Python实现](https://zhuanlan.zhihu.com/p/268212254)"
      ]
    },
    {
      "cell_type": "markdown",
      "metadata": {
        "id": "G-D3dsWTrXMp"
      },
      "source": [
        "# 返回 [課程大綱](https://github.com/AI-FREE-Team/Machine-Learning-Basic#%E8%AA%B2%E7%A8%8B%E5%A4%A7%E7%B6%B1-course-outline)"
      ]
    }
  ]
}