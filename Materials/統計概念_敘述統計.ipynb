{
  "nbformat": 4,
  "nbformat_minor": 0,
  "metadata": {
    "colab": {
      "name": "統計概念_敘述統計.ipynb",
      "provenance": [],
      "collapsed_sections": [],
      "include_colab_link": true
    },
    "kernelspec": {
      "name": "python3",
      "display_name": "Python 3"
    },
    "language_info": {
      "name": "python"
    }
  },
  "cells": [
    {
      "cell_type": "markdown",
      "metadata": {
        "id": "view-in-github",
        "colab_type": "text"
      },
      "source": [
        "<a href=\"https://github.com/AI-FREE-Team/Machine-Learning-Basic/blob/main/Materials/%E7%B5%B1%E8%A8%88%E6%A6%82%E5%BF%B5_%E6%95%98%E8%BF%B0%E7%B5%B1%E8%A8%88.ipynb\" target=\"_parent\"><img src=\"https://colab.research.google.com/assets/colab-badge.svg\" alt=\"Open In Colab\"/></a>"
      ]
    },
    {
      "cell_type": "markdown",
      "metadata": {
        "id": "Q72ayOpSma0X"
      },
      "source": [
        "![Logo](https://raw.githubusercontent.com/AI-FREE-Team/Machine-Learning-Basic/main/README_imgs/aifreeteam.png) \n",
        "<center>Welcome to the course《Python: from business analytics to Artificial Intelligence》by AI . FREE Team.</center>\n",
        "<center>歡迎大家來到 AI . FREE Team 《Python 從商業分析到人工智慧》的第二堂課 - 機器學習(ML)基礎教學。 </center>\n",
        "<br/>\n",
        "\n",
        "<center>作者: Michelle Chuang (<a href=\"https://github.com/sueshow\">Github</a>)</center>\n",
        "<center>AI . FREE Team: <a href=\"https://aifreeblog.herokuapp.com/\">https://aifreeblog.herokuapp.com/</a></center>\n",
        "<br>\n"
      ]
    },
    {
      "cell_type": "markdown",
      "metadata": {
        "id": "n5tvudOgCwqL"
      },
      "source": [
        "# 前言"
      ]
    },
    {
      "cell_type": "markdown",
      "metadata": {
        "id": "lL4Ft4WY0xra"
      },
      "source": [
        "本篇文章以 <font color=\"#00dd00\">**Python**</font> 3.7.10、<font color=\"#00dd00\">**Numpy**</font> 1.19.5、<font color=\"#00dd00\">**Pandas**</font> 1.1.5、<font color=\"#00dd00\">**Matplotlib**</font> 3.2.2、<font color=\"#00dd00\">**Seaborn**</font> 0.11.1、<font color=\"#00dd00\">**SciPy**</font> 1.4.1 進行教學。本篇文章將介紹基本觀察數據各類型的量：\n",
        "* 集中趨勢：平均數、中位數、眾數\n",
        "* 變動分散程度：全距、方差、標準差、百分位數"
      ]
    },
    {
      "cell_type": "markdown",
      "metadata": {
        "id": "zst0-qqTm6qf"
      },
      "source": [
        "## 匯入基本套件"
      ]
    },
    {
      "cell_type": "code",
      "metadata": {
        "id": "WgaGB4wNnFzJ",
        "colab": {
          "base_uri": "https://localhost:8080/"
        },
        "outputId": "80ae8a99-d057-4b0a-9ce9-e96e00d240e3"
      },
      "source": [
        "!python --version"
      ],
      "execution_count": null,
      "outputs": [
        {
          "output_type": "stream",
          "text": [
            "Python 3.7.11\n"
          ],
          "name": "stdout"
        }
      ]
    },
    {
      "cell_type": "code",
      "metadata": {
        "id": "vBnIfD8EnIk8",
        "colab": {
          "base_uri": "https://localhost:8080/"
        },
        "outputId": "bacc5e41-37e1-4855-f41e-90c1cd2ba5f8"
      },
      "source": [
        "import numpy as np \n",
        "import pandas as pd \n",
        "import matplotlib\n",
        "import matplotlib.pyplot as plt   # 繪製影像 \n",
        "import seaborn as sns\n",
        "import scipy as sp\n",
        "\n",
        "print( 'NumPy 版本: ', np.__version__ )\n",
        "print( 'Pandas 版本: ', pd.__version__ )  \n",
        "print( 'Matplotlib 版本: ', matplotlib.__version__ )\n",
        "print( 'Seaborn 版本: ', sns.__version__ )\n",
        "print( 'SciPy 版本: ', sp.__version__ )"
      ],
      "execution_count": null,
      "outputs": [
        {
          "output_type": "stream",
          "text": [
            "NumPy 版本:  1.19.5\n",
            "Pandas 版本:  1.1.5\n",
            "Matplotlib 版本:  3.2.2\n",
            "Seaborn 版本:  0.11.1\n",
            "SciPy 版本:  1.4.1\n"
          ],
          "name": "stdout"
        }
      ]
    },
    {
      "cell_type": "markdown",
      "metadata": {
        "id": "8bTEZTxNJ46l"
      },
      "source": [
        "除上述套件外，本篇文章會介紹許多內建的 Python 程式庫，支援基本的描述性統計\n",
        "，故常使用到 <font color=\"#00dd00\">**math**</font> 、 <font color=\"#00dd00\">**statistics**</font> ，在此先將他們 import，以利後面案例使用"
      ]
    },
    {
      "cell_type": "code",
      "metadata": {
        "id": "YnXhWTLyJzu6"
      },
      "source": [
        "import math\n",
        "import statistics"
      ],
      "execution_count": null,
      "outputs": []
    },
    {
      "cell_type": "markdown",
      "metadata": {
        "id": "UpLD6O8lemEM"
      },
      "source": [
        "# 敘述統計 Descriptive Statistics"
      ]
    },
    {
      "cell_type": "markdown",
      "metadata": {
        "id": "-N0wiIpSHujo"
      },
      "source": [
        "* 任何領域對於蒐集取回的資料，正確完成的統計使我們能夠從模糊、複雜和困難的現實世界中提取知識。使用不當，統計數據可用於傷害和誤導。清楚地了解統計數據和各種統計措施的含義對於區分真實性和誤導性很重要。\n",
        "* 最基本的分析需求是能夠直觀描述，匯總與表示數據資料的基本特徵，本篇文章將介紹如何利用 Python 取得敘述性統計 (descriptive statistics) 及其使用時機。\n",
        "* 主要為測量樣本有關的內容提供簡易的測量樣本有關的內容提供簡易的總結，將總結有效的量化，例如：統計數據、或用以簡單的圖表顯示 (直方圖、餅圖等)\n",
        "\n",
        "| 語法 | 說明 |\n",
        "|----------|:----------:|\n",
        "| describe | 計算數的幾個描述性統計 |\n",
        "| gmean | 計算沿指定軸的幾何平均值 |\n",
        "| hmean | 計算沿指定軸的調和平均值 |\n",
        "| kurtosis | 計算峰度 |\n",
        "| skew | 計算偏態 |\n",
        "| mode | 計算眾數 |\n",
        "| f_oneway | 執行單因子方差分析 |\n",
        "| iqr | 計算沿指定軸數據的四分位數範圍 |\n",
        "| zscore | 計算樣本中每個值 Z 得分，相對於樣本均值和標準差 |\n",
        "| sem | 計算輸入數的平均值的標準誤差 |\n"
      ]
    },
    {
      "cell_type": "markdown",
      "metadata": {
        "id": "Px4Hq3HYe3JP"
      },
      "source": [
        "* 本篇文章將收集男女生身高、透過隨機資料，以不同型態的資料為例，來教大家認識敘述統計，資料如下："
      ]
    },
    {
      "cell_type": "markdown",
      "metadata": {
        "id": "sPnfFl2Z2Y2N"
      },
      "source": [
        "* 資料格式：List (男女生身高)"
      ]
    },
    {
      "cell_type": "code",
      "metadata": {
        "id": "QSrTLzuNIHvO"
      },
      "source": [
        "#輸入資料\n",
        "boys = [164, 176, 169, 169, 165, 175, 159, 151, 144, 160,\n",
        "     183, 165, 156, 170, 164, 173, 165, 163, 177, 171]\n",
        "girl = [169, 183, 170, 168, 182, 170, 173, 185, 151, 156,\n",
        "     162, 169, 162, 181, 159, 154, 167, 175, 170, 160]"
      ],
      "execution_count": null,
      "outputs": []
    },
    {
      "cell_type": "markdown",
      "metadata": {
        "id": "LYQP1YBz2clD"
      },
      "source": [
        "* 資料格式：Series/Array (隨機)"
      ]
    },
    {
      "cell_type": "code",
      "metadata": {
        "id": "ZO8GeYvjvcP0"
      },
      "source": [
        "d1 = pd.Series(2*np.random.normal(size=100)+3)\n",
        "d2 = np.random.f(2, 4, size=100)\n",
        "d3 = np.random.randint(1, 100, size=100)"
      ],
      "execution_count": null,
      "outputs": []
    },
    {
      "cell_type": "markdown",
      "metadata": {
        "id": "57icPdp_MS6i"
      },
      "source": [
        "在此並匯入在這篇文章常用到的套件 `stats` 喔！"
      ]
    },
    {
      "cell_type": "code",
      "metadata": {
        "id": "ipCN8Wb7MSqR"
      },
      "source": [
        "from scipy import stats"
      ],
      "execution_count": null,
      "outputs": []
    },
    {
      "cell_type": "markdown",
      "metadata": {
        "id": "U0HFWDrwmGNw"
      },
      "source": [
        "## 集中趨勢"
      ]
    },
    {
      "cell_type": "markdown",
      "metadata": {
        "id": "28Ndt_adINUJ"
      },
      "source": [
        "集中趨勢的度量是代表以下問題的答案的度量：\"\n",
        "我們的數據中間是什麼樣子？\" 中間這個詞是模糊的，因為我們可以用多種定義來表示中間。用來判斷集中趨勢 (中央趨勢)的敘述統計，有以下三種：\n",
        "* 平均數 (mean)\n",
        "* 中位數 (madian , Mo)\n",
        "* 眾數 (mode)"
      ]
    },
    {
      "cell_type": "markdown",
      "metadata": {
        "id": "iD8ZqAx4HJxl"
      },
      "source": [
        "### 平均數"
      ]
    },
    {
      "cell_type": "markdown",
      "metadata": {
        "id": "Zfg--g0uHgnz"
      },
      "source": [
        "* 說明：全部數值加總/數值個數，分佈中心的估計量\n",
        "* 公式：\n",
        "  $ \\bar{x} = \\frac{\\sum_{i=1}^{n}}{n} = \\frac{x_1 + x_2 + ... + x_n}{n} $\n",
        "* 優點\n",
        "  * 適合用於數執行資料\n",
        "  * 進行不同組資料的比較，以看出組與組之間的差別\n",
        "  * 適用於常態分布或近似於常態分布\n",
        "* 缺點\n",
        "  * 不能用於分類資料和順序資料\n",
        "  * 不是一個強健的(robust)統計量，容易受離群值影響而劇變\n",
        "* 語法\n",
        "  ```\n",
        "  np.mean(目標)\n",
        "  statistics.mean(目標)\n",
        "  ```"
      ]
    },
    {
      "cell_type": "markdown",
      "metadata": {
        "id": "8na_B_yVo89R"
      },
      "source": [
        "* 資料格式：List"
      ]
    },
    {
      "cell_type": "code",
      "metadata": {
        "colab": {
          "base_uri": "https://localhost:8080/"
        },
        "id": "p_kN35hTLyj_",
        "outputId": "211ba723-e01b-4c0c-a961-480dd1d130f1"
      },
      "source": [
        "# 計算統計量_平均數的方法\n",
        "mean_boy = np.mean(boys)\n",
        "print('男孩身高平均=', mean_boy)\n",
        "print('='*20)\n",
        "\n",
        "statistics_mean_boy = statistics.mean(boys)\n",
        "print('statistics_mean_boy=', statistics_mean_boy)\n",
        "print('='*20)\n",
        "\n",
        "print('scipy_mean_boy=', sp.stats.describe(boys).mean)\n",
        "print('='*20)\n",
        "\n",
        "print('mean_boy=', sum(boys)/len(boys))\n",
        "print('='*20)\n",
        "\n",
        "print('是否相等：', (mean_boy==statistics_mean_boy) and (mean_boy==sp.stats.describe(boys).mean) and (mean_boy==sum(boys)/len(boys)) )"
      ],
      "execution_count": null,
      "outputs": [
        {
          "output_type": "stream",
          "text": [
            "男孩身高平均= 165.95\n",
            "====================\n",
            "statistics_mean_boy= 165.95\n",
            "====================\n",
            "scipy_mean_boy= 165.95\n",
            "====================\n",
            "mean_boy= 165.95\n",
            "====================\n",
            "是否相等： True\n"
          ],
          "name": "stdout"
        }
      ]
    },
    {
      "cell_type": "markdown",
      "metadata": {
        "id": "rHTcuhkIo2FC"
      },
      "source": [
        "* 資料格式：Series"
      ]
    },
    {
      "cell_type": "code",
      "metadata": {
        "colab": {
          "base_uri": "https://localhost:8080/"
        },
        "id": "LMk2f7KjokFF",
        "outputId": "9201888c-1cb7-421d-a971-1ce91f4ae7dc"
      },
      "source": [
        "print('平均=', np.mean(d1))\n",
        "print('statistics_mean=', statistics.mean(d1))\n",
        "print('scipy_mean_boy=', sp.stats.describe(d1).mean)\n",
        "print('d1_mean=', d1.mean())\n",
        "print('d1_mean=', sum(d1)/len(d1))\n",
        "print('='*20)\n",
        "\n",
        "print('是否相等：', (np.mean(d1)==statistics.mean(d1)) and (np.mean(d1)==sp.stats.describe(d1).mean) and (np.mean(d1)==sum(d1)/len(d1)) )"
      ],
      "execution_count": null,
      "outputs": [
        {
          "output_type": "stream",
          "text": [
            "平均= 2.800298793949265\n",
            "statistics_mean= 2.8002987939492647\n",
            "scipy_mean_boy= 2.800298793949265\n",
            "d1_mean= 2.800298793949265\n",
            "d1_mean= 2.800298793949265\n",
            "====================\n",
            "是否相等： False\n"
          ],
          "name": "stdout"
        }
      ]
    },
    {
      "cell_type": "markdown",
      "metadata": {
        "id": "UFX3h6XIHON9"
      },
      "source": [
        "### 中位數\n"
      ]
    },
    {
      "cell_type": "markdown",
      "metadata": {
        "id": "hsDG--mAHlYx"
      },
      "source": [
        "* 說明：中位數為一種和位置相關的數值，將資料所有的數依照大小排列，即為資料中有 50% 高於此數，也有 50% 低於此數，也是百分位數 50，對分佈的尾部不敏感，它是 Robust\n",
        "* 公式\n",
        "  * 若資料數量為偶數值，則中間兩數的平均為之\n",
        "  * 若資料數量為奇數值，則中間數即為之\n",
        "* 優點\n",
        "  * 較不受極端值影響\n",
        "  * 適合用於變化較大的資料\n",
        "* 缺點\n",
        "  * 只利用部分數據，可靠性較差\n",
        "* 語法\n",
        "  ```\n",
        "  np.median(目標)\n",
        "  stats.scoreatpercentile(目標, 50)\n",
        "  statistics.median(目標)\n",
        "  ```"
      ]
    },
    {
      "cell_type": "markdown",
      "metadata": {
        "id": "dbL4UN_bpHzP"
      },
      "source": [
        "* 資料格式：List"
      ]
    },
    {
      "cell_type": "code",
      "metadata": {
        "colab": {
          "base_uri": "https://localhost:8080/"
        },
        "id": "SFNLNZx8MBkC",
        "outputId": "ec68d32c-57ea-4cbe-e4aa-f5884d8658f1"
      },
      "source": [
        "# 計算統計量_中位數的方法\n",
        "np_median_boy = np.median(boys, axis=None)\n",
        "print('np_median_boy=', np_median_boy)\n",
        "print('='*20)\n",
        "\n",
        "statistics_median_boy = statistics.median(boys)\n",
        "print('statistics_median_boy=', statistics_median_boy)\n",
        "print('='*20)\n",
        "\n",
        "stats_median_boy = stats.scoreatpercentile(boys, 50)\n",
        "print('stats_median_boy=', stats_median_boy)\n",
        "print('='*20)\n",
        "\n",
        "print('是否相等：', (np_median_boy==statistics_median_boy) and (np_median_boy==stats_median_boy) )"
      ],
      "execution_count": null,
      "outputs": [
        {
          "output_type": "stream",
          "text": [
            "np_median_boy= 165.0\n",
            "====================\n",
            "statistics_median_boy= 165.0\n",
            "====================\n",
            "stats_median_boy= 165.0\n",
            "====================\n",
            "是否相等： True\n"
          ],
          "name": "stdout"
        }
      ]
    },
    {
      "cell_type": "code",
      "metadata": {
        "colab": {
          "base_uri": "https://localhost:8080/"
        },
        "id": "7fnItiY2iUWi",
        "outputId": "ba3a8fcb-ea1e-4b72-e1ae-ed0e234c055c"
      },
      "source": [
        "n = len(boys)\n",
        "if n%2:   #資料筆數為奇數，直接取中間值\n",
        "  median01 = sorted(boys)[round(0.5*(n-1))]\n",
        "else:\n",
        "  order01, index01 = sorted(boys), round(0.5*n)\n",
        "  median01 = 0.5 * (order01[index01-1]+order01[index01])\n",
        "print('中位數=%.2f' % (median01))\n",
        "print('='*20)\n",
        "\n",
        "print('是否相等：', (np_median_boy==median01) )"
      ],
      "execution_count": null,
      "outputs": [
        {
          "output_type": "stream",
          "text": [
            "中位數=165.00\n",
            "====================\n",
            "是否相等： True\n"
          ],
          "name": "stdout"
        }
      ]
    },
    {
      "cell_type": "markdown",
      "metadata": {
        "id": "4mJPgvjipKfB"
      },
      "source": [
        "* 資料格式：Series"
      ]
    },
    {
      "cell_type": "code",
      "metadata": {
        "colab": {
          "base_uri": "https://localhost:8080/"
        },
        "id": "LDxe8_sFpK_R",
        "outputId": "c58535c7-d040-4f5b-91a0-4d47286867c3"
      },
      "source": [
        "print('平均=', np.median(d1))\n",
        "print('statistics_median=', statistics.median(d1))\n",
        "print('d1_mean=', d1.median())\n",
        "print('='*20)\n",
        "\n",
        "print('是否相等：', (np.median(d1)==statistics.median(d1)) and (np.median(d1)==d1.median()) )"
      ],
      "execution_count": null,
      "outputs": [
        {
          "output_type": "stream",
          "text": [
            "平均= 2.7516022257912782\n",
            "statistics_median= 2.7516022257912782\n",
            "d1_mean= 2.7516022257912782\n",
            "====================\n",
            "是否相等： True\n"
          ],
          "name": "stdout"
        }
      ]
    },
    {
      "cell_type": "code",
      "metadata": {
        "colab": {
          "base_uri": "https://localhost:8080/"
        },
        "id": "Kxt4j5E1kh7c",
        "outputId": "000c7f69-fac2-407c-fa1e-344b3be49c42"
      },
      "source": [
        "n = len(d1)\n",
        "if n%2:   #資料筆數為奇數，直接取中間值\n",
        "  median01 = sorted(d1)[round(0.5*(n-1))]\n",
        "else:\n",
        "  order01, index01 = sorted(d1), round(0.5*n)\n",
        "  median01 = 0.5 * (order01[index01-1]+order01[index01])\n",
        "print('中位數=%.2f' % (median01))\n",
        "print('='*20)\n",
        "\n",
        "print('是否相等：', (np.median(d1)==median01) )"
      ],
      "execution_count": null,
      "outputs": [
        {
          "output_type": "stream",
          "text": [
            "中位數=2.75\n",
            "====================\n",
            "是否相等： True\n"
          ],
          "name": "stdout"
        }
      ]
    },
    {
      "cell_type": "markdown",
      "metadata": {
        "id": "DuXsOk5dHRxy"
      },
      "source": [
        "### 眾數"
      ]
    },
    {
      "cell_type": "markdown",
      "metadata": {
        "id": "dWldEYq_Hq0F"
      },
      "source": [
        "* 說明：出現最多次的數值\n",
        "* 優點\n",
        "  * 適用於資料有很大的變動，且某個數據出現的次數最多\n",
        "* 缺點\n",
        "  * 當資料分配很平均或眾數較多時，眾數則失去意義及功能\n",
        "  * 最常出現數值不一定為最接近整體分配之中心數值，也有可能不是最具代表性的數值，可靠性較差\n",
        "  * 可能不存在或存在多個(語法會取最小)\n",
        "* 語法\n",
        "  ```\n",
        "  stats.mode(目標)\n",
        "  statistics.mode(目標)\n",
        "  ```"
      ]
    },
    {
      "cell_type": "markdown",
      "metadata": {
        "id": "whnLsskvprtG"
      },
      "source": [
        "* 資料格式：List"
      ]
    },
    {
      "cell_type": "code",
      "metadata": {
        "colab": {
          "base_uri": "https://localhost:8080/"
        },
        "id": "5y8iFK2EMHvf",
        "outputId": "80dade91-a430-4bcd-e4d3-a0c424b777e4"
      },
      "source": [
        "# 統計量_眾數\n",
        "# 統計量的眾數，如果有多個眾數，取最小的值當眾數。\n",
        "\n",
        "mode_boy = stats.mode(boys, axis=None)\n",
        "print('男孩身高眾數結果：', mode_boy)\n",
        "print('='*20)\n",
        "print('男孩身高眾數=', mode_boy[0][0])\n",
        "print('='*20)\n",
        "\n",
        "# 統計量_眾數\n",
        "statistics_mode_boy = statistics.mode(boys)\n",
        "print('statistics_mode_boy=', statistics_mode_boy) \n",
        "print('='*20)\n",
        "\n",
        "print('是否相等：', (mode_boy[0][0]==statistics_mode_boy) )"
      ],
      "execution_count": null,
      "outputs": [
        {
          "output_type": "stream",
          "text": [
            "男孩身高眾數結果： ModeResult(mode=array([165]), count=array([3]))\n",
            "====================\n",
            "男孩身高眾數= 165\n",
            "====================\n",
            "statistics_mode_boy= 165\n",
            "====================\n",
            "是否相等： True\n"
          ],
          "name": "stdout"
        }
      ]
    },
    {
      "cell_type": "code",
      "metadata": {
        "colab": {
          "base_uri": "https://localhost:8080/"
        },
        "id": "fNYZtWS9kxD9",
        "outputId": "1564d7f6-55ae-483e-ac30-ae382246c104"
      },
      "source": [
        "mode01 = max((boys.count(item), item) for item in set(boys))[1]\n",
        "print('眾數=%.2f' %(mode01))\n",
        "print('='*20)\n",
        "\n",
        "print('是否相等：', (mode_boy[0][0]==mode01) )"
      ],
      "execution_count": null,
      "outputs": [
        {
          "output_type": "stream",
          "text": [
            "眾數=165.00\n",
            "====================\n",
            "是否相等： True\n"
          ],
          "name": "stdout"
        }
      ]
    },
    {
      "cell_type": "markdown",
      "metadata": {
        "id": "sH7iV04upuFT"
      },
      "source": [
        "* 資料格式：Series"
      ]
    },
    {
      "cell_type": "code",
      "metadata": {
        "colab": {
          "base_uri": "https://localhost:8080/"
        },
        "id": "zb6D95cspuqQ",
        "outputId": "12cbb10b-eb04-4c5d-f5c8-8ec24af824b1"
      },
      "source": [
        "print('眾數=', stats.mode(d1, axis=None)[0][0])\n",
        "print('d1_mode=', d1.mode()[0])\n",
        "print('='*20)\n",
        "\n",
        "print('是否相等：', (stats.mode(d1, axis=None)[0][0]==d1.mode()[0]) )"
      ],
      "execution_count": null,
      "outputs": [
        {
          "output_type": "stream",
          "text": [
            "眾數= -1.730329334372767\n",
            "d1_mode= -1.730329334372767\n",
            "====================\n",
            "是否相等： True\n"
          ],
          "name": "stdout"
        }
      ]
    },
    {
      "cell_type": "markdown",
      "metadata": {
        "id": "MY-vPv3IM_Qc"
      },
      "source": [
        "## 變動分散程度"
      ]
    },
    {
      "cell_type": "markdown",
      "metadata": {
        "id": "E_VMucS-PjYQ"
      },
      "source": [
        "用來判斷離散趨勢的敘述統計，有以下三種：\n",
        "* 全距 (Range)\n",
        "* 方差 (Variance)\n",
        "* 標準差 (Standard Deviation)\n",
        "* 百分位數 (Percentile)"
      ]
    },
    {
      "cell_type": "markdown",
      "metadata": {
        "id": "0RlqSYRTPd5f"
      },
      "source": [
        "### 全距"
      ]
    },
    {
      "cell_type": "markdown",
      "metadata": {
        "id": "gG7gJverNHgi"
      },
      "source": [
        "* 說明：又稱極差，最大值和最小值的差\n",
        "* 優點\n",
        "  * 計算較為簡單，易理解\n",
        "  * 適用範圍廣泛\n",
        "* 缺點\n",
        "  * 忽略全部觀察值間的差異，可能產生全距相等，但離散程度可能有所差異\n",
        "  * 易受極端值的影響，僅與極值有關\n",
        "  * 對全部數據的離散程度沒有代表性\n",
        "* 語法\n",
        "\n",
        "  ```\n",
        "  def rangeV(x):\n",
        "    return(max(x)-min(x))\n",
        "  print(rangeV(目標))\n",
        "  ```"
      ]
    },
    {
      "cell_type": "code",
      "metadata": {
        "colab": {
          "base_uri": "https://localhost:8080/"
        },
        "id": "kOixUZoUkHYL",
        "outputId": "33919c49-73df-4f64-8446-fe994a4fa240"
      },
      "source": [
        "#全距\n",
        "#rangeV=max(boys)-min(boys)\n",
        "def rangeV(x): \n",
        "    return(max(x)-min(x))\n",
        "    \n",
        "print('男生身高的全距: ', rangeV(boys))\n",
        "print('d1的全距: ', rangeV(d1))"
      ],
      "execution_count": null,
      "outputs": [
        {
          "output_type": "stream",
          "text": [
            "男生身高的全距:  39\n",
            "d1的全距:  8.894770749701374\n"
          ],
          "name": "stdout"
        }
      ]
    },
    {
      "cell_type": "markdown",
      "metadata": {
        "id": "3vWs0cAdQMA_"
      },
      "source": [
        "### 方差"
      ]
    },
    {
      "cell_type": "markdown",
      "metadata": {
        "id": "2chOlO8PO8Sn"
      },
      "source": [
        "* 說明：即為母體變異數，開方根號即為標準差\n",
        "* 公式：\n",
        "  * 母體：$ \\sigma^2 = \\frac{\\sum_{i=1}^{n}(x_i-\\hat{x})^2}{n} $\n",
        "  * 樣本：$ \\sigma^2 = \\frac{\\sum_{i=1}^{n}(x_i-\\hat{x})^2}{n-1} $\n",
        "* 優點\n",
        "  * 反映數據的偏離程度，當標準差較大時，表示大部分數據與平均值之間差異較大，反之代表這些數值較接近平均值\n",
        "* 缺點\n",
        "* 語法\n",
        "  ```\n",
        "  np.var(目標, ddof=1)   #ddof=1代表計算樣本\n",
        "  statistics.variance(目標)\n",
        "  ```"
      ]
    },
    {
      "cell_type": "markdown",
      "metadata": {
        "id": "_Usj77gRri5f"
      },
      "source": [
        "* 資料格式：List"
      ]
    },
    {
      "cell_type": "code",
      "metadata": {
        "colab": {
          "base_uri": "https://localhost:8080/"
        },
        "id": "mvt04skURSMC",
        "outputId": "905f0494-30b6-496f-9c6a-0ea8d25aca87"
      },
      "source": [
        "# 計算變異數的方法\n",
        "print('男孩身高變異數=', np.var(boys, ddof=1))\n",
        "print('='*20)\n",
        "print('男孩身高變異數=', statistics.variance(boys))\n",
        "print('='*20)\n",
        "print('男孩身高變異數=', sp.stats.describe(boys).variance)\n",
        "print('='*20)\n",
        "\n",
        "print('是否相等：', (np.var(boys, ddof=1)==statistics.variance(boys)) and (np.var(boys, ddof=1)==sp.stats.describe(boys).variance) )"
      ],
      "execution_count": null,
      "outputs": [
        {
          "output_type": "stream",
          "text": [
            "男孩身高變異數= 84.89210526315789\n",
            "====================\n",
            "男孩身高變異數= 84.89210526315789\n",
            "====================\n",
            "男孩身高變異數= 84.89210526315789\n",
            "====================\n",
            "是否相等： True\n"
          ],
          "name": "stdout"
        }
      ]
    },
    {
      "cell_type": "code",
      "metadata": {
        "colab": {
          "base_uri": "https://localhost:8080/"
        },
        "id": "15tmNGJpALI1",
        "outputId": "a83195f1-af1d-43af-cdc5-7381bf7d51a5"
      },
      "source": [
        "n = len(boys)\n",
        "mu01 = sum(boys)/len(boys)\n",
        "var01 = sum((item-mu01)**2 for item in boys)/(n-1)\n",
        "print('變異數=%.3f' %(var01))\n",
        "print('='*20)\n",
        "\n",
        "print('是否相等：', (np.var(boys, ddof=1)==var01) )"
      ],
      "execution_count": null,
      "outputs": [
        {
          "output_type": "stream",
          "text": [
            "變異數=84.892\n",
            "====================\n",
            "是否相等： True\n"
          ],
          "name": "stdout"
        }
      ]
    },
    {
      "cell_type": "code",
      "metadata": {
        "colab": {
          "base_uri": "https://localhost:8080/"
        },
        "id": "n_awt6tBuvOC",
        "outputId": "929dea7f-7e70-4a32-e39e-4ef2a0ea40de"
      },
      "source": [
        "print('男孩身高的母體變異數=', np.var(boys))\n",
        "print('='*20)\n",
        "print('男孩身高的母體變異數=', statistics.pvariance(boys))\n",
        "print('='*20)\n",
        "\n",
        "print('是否相等：', (np.var(boys)==statistics.pvariance(boys) ))"
      ],
      "execution_count": null,
      "outputs": [
        {
          "output_type": "stream",
          "text": [
            "男孩身高的母體變異數= 80.6475\n",
            "====================\n",
            "男孩身高的母體變異數= 80.6475\n",
            "====================\n",
            "是否相等： True\n"
          ],
          "name": "stdout"
        }
      ]
    },
    {
      "cell_type": "markdown",
      "metadata": {
        "id": "FNeIWqhprmJJ"
      },
      "source": [
        "* 資料格式：Series"
      ]
    },
    {
      "cell_type": "code",
      "metadata": {
        "colab": {
          "base_uri": "https://localhost:8080/"
        },
        "id": "HbBZiAAOrm8-",
        "outputId": "75bbfe17-7a0b-4fd0-e0c7-c64d733761cc"
      },
      "source": [
        "print('變異數=', np.var(d1, ddof=1))\n",
        "print('='*20)\n",
        "print('變異數=', statistics.variance(d1))\n",
        "print('='*20)\n",
        "print('變異數=', d1.var())\n",
        "print('='*20)\n",
        "\n",
        "print('是否相等：', (np.var(d1, ddof=1)==statistics.variance(d1)) and (np.var(d1, ddof=1)==d1.var()) )"
      ],
      "execution_count": null,
      "outputs": [
        {
          "output_type": "stream",
          "text": [
            "變異數= 3.8537940070927843\n",
            "====================\n",
            "變異數= 3.8537940070927816\n",
            "====================\n",
            "變異數= 3.8537940070927843\n",
            "====================\n",
            "是否相等： False\n"
          ],
          "name": "stdout"
        }
      ]
    },
    {
      "cell_type": "code",
      "metadata": {
        "colab": {
          "base_uri": "https://localhost:8080/"
        },
        "id": "z7xagUMYna16",
        "outputId": "a8e2cefd-1081-41f1-9215-37eace486044"
      },
      "source": [
        "n = len(d1)\n",
        "mu01 = sum(d1)/len(d1)\n",
        "var01 = sum((item-mu01)**2 for item in d1)/(n-1)\n",
        "print('變異數=%.3f' %(var01))\n",
        "print('='*20)\n",
        "\n",
        "print('是否相等：', (np.var(d1, ddof=1)==var01))"
      ],
      "execution_count": null,
      "outputs": [
        {
          "output_type": "stream",
          "text": [
            "變異數=3.854\n",
            "====================\n",
            "是否相等： True\n"
          ],
          "name": "stdout"
        }
      ]
    },
    {
      "cell_type": "markdown",
      "metadata": {
        "id": "6PuRJR5QO_Wj"
      },
      "source": [
        "### 標準差"
      ]
    },
    {
      "cell_type": "markdown",
      "metadata": {
        "id": "A_YgEVYGQk2c"
      },
      "source": [
        "* 說明：方差開方根號\n",
        "* 語法\n",
        "  ```\n",
        "  np.std(目標, ddof=1)   #ddof=1代表計算樣本\n",
        "  statistics.stdev(目標)\n",
        "  ```"
      ]
    },
    {
      "cell_type": "markdown",
      "metadata": {
        "id": "neuwdtKlr_LJ"
      },
      "source": [
        "* 資料格式：List"
      ]
    },
    {
      "cell_type": "code",
      "metadata": {
        "colab": {
          "base_uri": "https://localhost:8080/"
        },
        "id": "2VMe-YHRRZgM",
        "outputId": "87805e92-b56a-4351-93f1-ac37bb44b76a"
      },
      "source": [
        "# 統計量_標準差的方法\n",
        "#樣本標準差\n",
        "#ddof=1, 回傳 sample standard deviation 樣本標準差，分母(n-1)，無偏估計\n",
        "std_boy = np.std(boys, ddof=1)\n",
        "print('男孩身高標準差=', std_boy)\n",
        "print('='*20)\n",
        "\n",
        "statistics_stdev_boy = statistics.stdev(boys)\n",
        "print('statistics_mean_boy=', statistics_stdev_boy)\n",
        "print('='*20)\n",
        "\n",
        "print('stats_mean_boy=', sp.stats.describe(boys).variance**0.5)\n",
        "print('='*20)\n",
        "\n",
        "print('是否相等：', (std_boy==statistics_stdev_boy) and (std_boy==statistics_stdev_boy) and (std_boy==sp.stats.describe(boys).variance**0.5) )"
      ],
      "execution_count": null,
      "outputs": [
        {
          "output_type": "stream",
          "text": [
            "男孩身高標準差= 9.213691185575838\n",
            "====================\n",
            "statistics_mean_boy= 9.213691185575838\n",
            "====================\n",
            "stats_mean_boy= 9.213691185575838\n",
            "====================\n",
            "是否相等： True\n"
          ],
          "name": "stdout"
        }
      ]
    },
    {
      "cell_type": "code",
      "metadata": {
        "colab": {
          "base_uri": "https://localhost:8080/"
        },
        "id": "5D3Y8WoZuObd",
        "outputId": "b0d82028-a4dc-4daa-da60-e41c69a0e429"
      },
      "source": [
        "print('男孩身高的母體標準差=', np.std(boys))\n",
        "print('='*20)\n",
        "print('男孩身高的母體標準差=', statistics.pstdev(boys))\n",
        "print('='*20)\n",
        "\n",
        "print('是否相等：', (np.std(boys)==statistics.pstdev(boys)) )"
      ],
      "execution_count": null,
      "outputs": [
        {
          "output_type": "stream",
          "text": [
            "男孩身高的母體標準差= 8.980395314238677\n",
            "====================\n",
            "男孩身高的母體標準差= 8.980395314238677\n",
            "====================\n",
            "是否相等： True\n"
          ],
          "name": "stdout"
        }
      ]
    },
    {
      "cell_type": "markdown",
      "metadata": {
        "id": "pCblp3qfQ8wa"
      },
      "source": [
        "### 百分位數"
      ]
    },
    {
      "cell_type": "markdown",
      "metadata": {
        "id": "Qgdt93cnPEy2"
      },
      "source": [
        "* 說明：將一組數據從小到大排序，併計算相應的累計百分位，則某一百分位所對應數據的值就稱為這一百分位的百分位數，以 $P_k$ 表示第 k 百分位數\n",
        "* 語法\n",
        "  ```\n",
        "  np.percentile(目標, k)\n",
        "  stats.scoreatpercentile(目標, k)\n",
        "  ```"
      ]
    },
    {
      "cell_type": "markdown",
      "metadata": {
        "id": "wVbTR-emnmmg"
      },
      "source": [
        "* 資料格式：List"
      ]
    },
    {
      "cell_type": "code",
      "metadata": {
        "colab": {
          "base_uri": "https://localhost:8080/"
        },
        "id": "ec2v_2iNM_as",
        "outputId": "196cf36a-41b2-4c6b-ac33-a399418d8619"
      },
      "source": [
        "# python 百分位數\n",
        "#np\n",
        "print('90百分位數=', np.percentile(boys, 90))\n",
        "print('50百分位數=', np.percentile(boys, 50))\n",
        "print('25百分位數=', np.percentile(boys, 25))\n",
        "#stat\n",
        "print('25百分位數=', stats.scoreatpercentile(boys, 25))"
      ],
      "execution_count": null,
      "outputs": [
        {
          "output_type": "stream",
          "text": [
            "90百分位數= 176.1\n",
            "50百分位數= 165.0\n",
            "25百分位數= 162.25\n",
            "25百分位數= 162.25\n"
          ],
          "name": "stdout"
        }
      ]
    },
    {
      "cell_type": "code",
      "metadata": {
        "colab": {
          "base_uri": "https://localhost:8080/"
        },
        "id": "5DhXfzIhlnXi",
        "outputId": "3ff519f5-9f49-47f7-df09-d7208f275d29"
      },
      "source": [
        "print('四分位數= %.2f, %.2f, %.2f' %(np.quantile(boys, 0.25), np.quantile(boys, 0.5), np.quantile(boys, 0.75)))\n",
        "print('='*20)\n",
        "\n",
        "print('是否相等：', (np.percentile(boys, 25)==stats.scoreatpercentile(boys, 25)) and np.percentile(boys, 25)==np.quantile(boys, 0.25) )"
      ],
      "execution_count": null,
      "outputs": [
        {
          "output_type": "stream",
          "text": [
            "四分位數= 162.25, 165.00, 171.50\n",
            "====================\n",
            "是否相等： True\n"
          ],
          "name": "stdout"
        }
      ]
    },
    {
      "cell_type": "markdown",
      "metadata": {
        "id": "w7KiFMGRnq6k"
      },
      "source": [
        "* 資料格式：Series"
      ]
    },
    {
      "cell_type": "code",
      "metadata": {
        "colab": {
          "base_uri": "https://localhost:8080/"
        },
        "id": "r5V4l-WBmysM",
        "outputId": "378e13cb-dea0-487e-dd8d-c1ce4fa73e50"
      },
      "source": [
        "print('10百分位數=', np.percentile(d1, 10))\n",
        "print('10%分位數=', d1.quantile(0.1))"
      ],
      "execution_count": null,
      "outputs": [
        {
          "output_type": "stream",
          "text": [
            "10百分位數= 0.04921489897774487\n",
            "10%分位數= 0.04921489897774487\n"
          ],
          "name": "stdout"
        }
      ]
    },
    {
      "cell_type": "code",
      "metadata": {
        "colab": {
          "base_uri": "https://localhost:8080/"
        },
        "id": "kPwQ2JppgA6j",
        "outputId": "fa45725a-34dd-4c2a-dde0-ad82d64fcdfb"
      },
      "source": [
        "print('四分位數=\\n', d1.quantile([0.25, 0.5, 0.75]))\n",
        "print('='*20)\n",
        "\n",
        "print('是否相等：', (np.percentile(d1, 25)==d1.quantile(0.25)) and (np.percentile(d1, 25)==d1.quantile([0.25])[0.25]) )"
      ],
      "execution_count": null,
      "outputs": [
        {
          "output_type": "stream",
          "text": [
            "四分位數=\n",
            " 0.25    1.535161\n",
            "0.50    2.751602\n",
            "0.75    4.167786\n",
            "dtype: float64\n",
            "====================\n",
            "是否相等： True\n"
          ],
          "name": "stdout"
        }
      ]
    },
    {
      "cell_type": "markdown",
      "metadata": {
        "id": "h_roR63uwNCh"
      },
      "source": [
        "# 結語 "
      ]
    },
    {
      "cell_type": "markdown",
      "metadata": {
        "id": "sQl00IpEkwFn"
      },
      "source": [
        "本文介紹觀察資料的集中趨勢(平均數、中位數、眾數)、變動分散程度(全距、方差、標準差、百分位數)的統計量，並透過不同的資料型態進行介紹，這些將是探索式資料分析(Exploratory Data Analysis；EDA)的過程中重要工具之一，讀者要瞭解各統計量的定義，透過它們初步認識資料的樣貌，以利進行資料前處理。<br>\n",
        "敘述統計能夠直觀反映一組數據的基本特徵，但由於簡單、難以描述多元變量之間的複雜關係，相較於統計特徵數值，數據展現的一種直觀方式是視覺化，可通過數據間的關係，選擇合適的圖表來展現數據。<br>\n",
        "針對本文的內容，若讀者們有發現任何的錯誤或疑問，非常歡迎您 [來信 sueshow2006@gmail.com](mailto:sueshow2006@gmail.com) 給予建議及討論，讓我們一同來學習成長！"
      ]
    },
    {
      "cell_type": "markdown",
      "metadata": {
        "id": "uQmCKUBULt9b"
      },
      "source": [
        "# 參考資料"
      ]
    },
    {
      "cell_type": "markdown",
      "metadata": {
        "id": "qg9ItOg8rNth"
      },
      "source": [
        "* [使用 Python 語言的描述性統計了解資料集基本特性](https://www.lijyyh.com/2020/11/pythonuse-python-language-descriptive.html)\n",
        "* [使用NumPy、SciPy和Matplotlib進行描述性統計](https://www.zendei.com/article/8892.html)\n",
        "* [Basic Statistics in Python — Descriptive Statistics](https://www.dataquest.io/blog/basic-statistics-with-python-descriptive-statistics/)"
      ]
    },
    {
      "cell_type": "markdown",
      "metadata": {
        "id": "G-D3dsWTrXMp"
      },
      "source": [
        "# 返回 [課程大綱](https://github.com/AI-FREE-Team/Machine-Learning-Basic#%E8%AA%B2%E7%A8%8B%E5%A4%A7%E7%B6%B1-course-outline)"
      ]
    }
  ]
}