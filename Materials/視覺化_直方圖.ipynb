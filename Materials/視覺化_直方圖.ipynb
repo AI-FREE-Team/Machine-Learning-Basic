{
  "nbformat": 4,
  "nbformat_minor": 0,
  "metadata": {
    "colab": {
      "name": "視覺化_直方圖.ipynb",
      "provenance": [],
      "collapsed_sections": [
        "NY3HmF15aTRm"
      ],
      "include_colab_link": true
    },
    "kernelspec": {
      "name": "python3",
      "display_name": "Python 3"
    },
    "language_info": {
      "name": "python"
    }
  },
  "cells": [
    {
      "cell_type": "markdown",
      "metadata": {
        "id": "view-in-github",
        "colab_type": "text"
      },
      "source": [
        "<a href=\"https://colab.research.google.com/github/AI-FREE-Team/Machine-Learning-Basic/blob/master/Materials/%E8%A6%96%E8%A6%BA%E5%8C%96_%E7%9B%B4%E6%96%B9%E5%9C%96.ipynb\" target=\"_parent\"><img src=\"https://colab.research.google.com/assets/colab-badge.svg\" alt=\"Open In Colab\"/></a>"
      ]
    },
    {
      "cell_type": "markdown",
      "metadata": {
        "id": "vH1Z1Vx3gnON"
      },
      "source": [
        "![Logo](https://raw.githubusercontent.com/AI-FREE-Team/Machine-Learning-Basic/main/README_imgs/aifreeteam.png) \n",
        "<center>Welcome to the course《Python: from business analytics to Artificial Intelligence》by AI . FREE Team.</center>\n",
        "<center>歡迎大家來到 AI . FREE Team 《Python 從商業分析到人工智慧》的第二堂課 - 機器學習(ML)基礎教學。 </center>\n",
        "<br/>\n",
        "\n",
        "<center>作者: Michelle Chuang (<a href=\"https://github.com/sueshow\">Github</a>)</center>\n",
        "<center>AI . FREE Team: <a href=\"https://aifreeblog.herokuapp.com/\">https://aifreeblog.herokuapp.com/</a></center>\n",
        "<br>"
      ]
    },
    {
      "cell_type": "markdown",
      "metadata": {
        "id": "cYuQGWSkgqIQ"
      },
      "source": [
        "# 前言"
      ]
    },
    {
      "cell_type": "markdown",
      "metadata": {
        "id": "T-xoBT8Y3cFd"
      },
      "source": [
        "本文開始帶領大家以視覺化的統計圖表探索資料，將介紹 <font color=\"#00dd00\">**Histograms**</font> ，讓大家瞭解如何善用統計圖表說明資料。在開始之前別忘了匯入中文字型喔！要先把檔案放到右側 file 夾中，確認上傳完成後再執行下面的語法"
      ]
    },
    {
      "cell_type": "code",
      "metadata": {
        "id": "3dHuCd804rq4"
      },
      "source": [
        "import matplotlib as mpl\n",
        "\n",
        "mpl.font_manager.fontManager.addfont( 'taipei_sans_tc_beta.ttf' )\n",
        "mpl.rc( 'font', family='Taipei Sans TC Beta' )"
      ],
      "execution_count": null,
      "outputs": []
    },
    {
      "cell_type": "markdown",
      "metadata": {
        "id": "JHXRhR45gvX0"
      },
      "source": [
        "## 匯入基本套件"
      ]
    },
    {
      "cell_type": "code",
      "metadata": {
        "id": "q6YGgfZ9ig_D",
        "colab": {
          "base_uri": "https://localhost:8080/"
        },
        "outputId": "efd48e82-19b7-48b3-8c03-bbfbce8b0c57"
      },
      "source": [
        "import numpy as np \n",
        "import pandas as pd \n",
        "import matplotlib\n",
        "import matplotlib.pyplot as plt   # 繪製影像 \n",
        "import seaborn as sns\n",
        "\n",
        "print( 'NumPy 版本: ', np.__version__ )\n",
        "print( 'Pandas 版本: ', pd.__version__ )  \n",
        "print( 'Matplotlib 版本: ', matplotlib.__version__ )\n",
        "print( 'Seaborn 版本: ', sns.__version__ )"
      ],
      "execution_count": null,
      "outputs": [
        {
          "output_type": "stream",
          "text": [
            "NumPy 版本:  1.19.5\n",
            "Pandas 版本:  1.1.5\n",
            "Matplotlib 版本:  3.2.2\n",
            "Seaborn 版本:  0.11.1\n"
          ],
          "name": "stdout"
        }
      ]
    },
    {
      "cell_type": "markdown",
      "metadata": {
        "id": "K1EzOQNmhrBY"
      },
      "source": [
        "# 直方圖 (Histograms)"
      ]
    },
    {
      "cell_type": "markdown",
      "metadata": {
        "id": "as5h5wABi2TK"
      },
      "source": [
        "直方圖 (Histograms) 也可稱為柱狀圖，可用來描述資料的頻率分佈情況，通常組距之間具大小或順序性，例如 : 年齡、成績的分佈等。透過直方圖，我們可大致估計出資料的[中位數 (Median)](https://zh.wikipedia.org/wiki/%E4%B8%AD%E4%BD%8D%E6%95%B8)及[眾數 (Mode)](https://zh.wikipedia.org/wiki/%E4%BC%97%E6%95%B0_(%E6%95%B0%E5%AD%A6))，有時也可用來觀察資料是否存在[離群值 (Outlier)](https://www.easyatm.com.tw/wiki/%E9%9B%A2%E7%BE%A4%E5%80%BC)。 "
      ]
    },
    {
      "cell_type": "markdown",
      "metadata": {
        "id": "aEAGzYhKruqJ"
      },
      "source": [
        "## 實際應用："
      ]
    },
    {
      "cell_type": "markdown",
      "metadata": {
        "id": "fXgSTgKF23lm"
      },
      "source": [
        "## 小範例"
      ]
    },
    {
      "cell_type": "markdown",
      "metadata": {
        "id": "ugKRcg6XpkbZ"
      },
      "source": [
        "使用 [`matplotlib.pyplot.hist( x, bins, range, histtype, rwidth, orientation, color, label, density )`](https://matplotlib.org/stable/api/_as_gen/matplotlib.pyplot.hist.html) 函數繪製垂直的直方圖\n",
        "* y 軸表示頻率分佈 (數值或比率)\n",
        "* 預設圖中會有網格線\n",
        "* 參數說明  \n",
        "  * 各型態直方圖的繪圖請參考 [Demo of the histogram function's different histtype settings](https://matplotlib.org/stable/gallery/statistics/histogram_histtypes.html)\n",
        "\n",
        "| 參數 | 說明 | 預設值 | 備註 |\n",
        "|----------|:----------:|:----------:|:----------:|\n",
        "| x | 資料 | | |\n",
        "| bins | 直方圖組距的數量 | `bins=10` | |\n",
        "| range | 直方圖組距所屬的區間範圍 | 資料的最小值與最大值範圍 | |\n",
        "| histtype | 直方圖的型態 | `histtype='bar'` | 四種型態分別為 <br>'bar'、 'barstacked'、'step'、'stepfilled' |\n",
        "| rwidth | 直方圖的長條寬度 | `rwidth=None` 自動調整寬度 | |\n",
        "| orientation | 直方圖的方向<br>(垂直 'vertical' /水平 'horizontal') | `orientation='vertical'` | |\n",
        "| color | 直方圖的顏色 | | |\n",
        "| label | 直方圖的圖例文字 | | |\n",
        "| density | 是否繪製機率密度函數 | `density=False` | |\n"
      ]
    },
    {
      "cell_type": "code",
      "metadata": {
        "colab": {
          "base_uri": "https://localhost:8080/",
          "height": 430
        },
        "id": "sdOhNuF72-l3",
        "outputId": "bd2d8494-41ed-4a6a-a605-814e970c87a2"
      },
      "source": [
        "plt.style.use( 'default' )\n",
        "# Data \n",
        "x =[15,30,45,60,75,90,88,84,95,92,23,48,52,73,68,66,59,62,47,93,27,54]\n",
        "\n",
        "# 直方圖 Histograms \n",
        "plt.hist( x, bins=8, range=(10,100) )\n",
        "plt.show()"
      ],
      "execution_count": null,
      "outputs": [
        {
          "output_type": "display_data",
          "data": {
            "image/png": "[encoded data removed]",
            "text/plain": [
              "<Figure size 640x480 with 1 Axes>"
            ]
          },
          "metadata": {
            "tags": []
          }
        }
      ]
    },
    {
      "cell_type": "markdown",
      "metadata": {
        "id": "kFjzgOs-gvvu"
      },
      "source": [
        "## 實作範例 - 內政部實價登錄"
      ]
    },
    {
      "cell_type": "markdown",
      "metadata": {
        "id": "06-trgjRWrsf"
      },
      "source": [
        "* 資料來源：[內政部 不動產成交案件實際資訊 資料供應系統](https://plvr.land.moi.gov.tw/DownloadOpenData)   \n",
        "* 下載條件：XLS格式+臺北市+不動產買賣     \n",
        "* 檔案名稱：a_lvr_land_a   \n",
        "* 下載時間：2021/06/16 11:00 PM"
      ]
    },
    {
      "cell_type": "markdown",
      "metadata": {
        "id": "t6NE11W2t4zx"
      },
      "source": [
        "### Step 1：匯入資料"
      ]
    },
    {
      "cell_type": "markdown",
      "metadata": {
        "id": "JmTtg50x1E8n"
      },
      "source": [
        "首先，透過程式碼將資料集檔案 (excel) 從 GitHub 下載"
      ]
    },
    {
      "cell_type": "code",
      "metadata": {
        "colab": {
          "base_uri": "https://localhost:8080/"
        },
        "id": "tB87xF7Zz_cv",
        "outputId": "d99e1562-e4de-4110-ca9e-fa9cabeaa21f"
      },
      "source": [
        "!git clone https://github.com/AI-FREE-Team/Machine-Learning-Basic.git"
      ],
      "execution_count": null,
      "outputs": [
        {
          "output_type": "stream",
          "text": [
            "Cloning into 'Machine-Learning-Basic'...\n",
            "remote: Enumerating objects: 278, done.\u001b[K\n",
            "remote: Counting objects: 100% (278/278), done.\u001b[K\n",
            "remote: Compressing objects: 100% (227/227), done.\u001b[K\n",
            "remote: Total 278 (delta 124), reused 142 (delta 44), pack-reused 0\u001b[K\n",
            "Receiving objects: 100% (278/278), 28.71 MiB | 22.51 MiB/s, done.\n",
            "Resolving deltas: 100% (124/124), done.\n"
          ],
          "name": "stdout"
        }
      ]
    },
    {
      "cell_type": "code",
      "metadata": {
        "id": "tBGyqOqRYU92"
      },
      "source": [
        "#若需要重新下載資料，先執行下面的語法：\n",
        "#!rm -r /content/Machine-Learning-Basic"
      ],
      "execution_count": null,
      "outputs": []
    },
    {
      "cell_type": "code",
      "metadata": {
        "id": "Dvjg0q11hsSI",
        "colab": {
          "base_uri": "https://localhost:8080/",
          "height": 625
        },
        "outputId": "0b9e8d9d-49a7-469a-e9b9-28b5f82bc5e0"
      },
      "source": [
        "# 匯入 xlsx 檔\n",
        "raw_data03 = pd.read_excel( '/content/Machine-Learning-Basic/Content/Moi_gov_tw/a_lvr_land_a.xls', sheet_name='不動產買賣' )\n",
        "raw_data03.head()"
      ],
      "execution_count": null,
      "outputs": [
        {
          "output_type": "execute_result",
          "data": {
            "text/html": [
              "<div>\n",
              "<style scoped>\n",
              "    .dataframe tbody tr th:only-of-type {\n",
              "        vertical-align: middle;\n",
              "    }\n",
              "\n",
              "    .dataframe tbody tr th {\n",
              "        vertical-align: top;\n",
              "    }\n",
              "\n",
              "    .dataframe thead th {\n",
              "        text-align: right;\n",
              "    }\n",
              "</style>\n",
              "<table border=\"1\" class=\"dataframe\">\n",
              "  <thead>\n",
              "    <tr style=\"text-align: right;\">\n",
              "      <th></th>\n",
              "      <th>鄉鎮市區</th>\n",
              "      <th>交易標的</th>\n",
              "      <th>土地區段位置建物區段門牌</th>\n",
              "      <th>土地移轉總面積平方公尺</th>\n",
              "      <th>都市土地使用分區</th>\n",
              "      <th>非都市土地使用分區</th>\n",
              "      <th>非都市土地使用編定</th>\n",
              "      <th>交易年月日</th>\n",
              "      <th>交易筆棟數</th>\n",
              "      <th>移轉層次</th>\n",
              "      <th>總樓層數</th>\n",
              "      <th>建物型態</th>\n",
              "      <th>主要用途</th>\n",
              "      <th>主要建材</th>\n",
              "      <th>建築完成年月</th>\n",
              "      <th>建物移轉總面積平方公尺</th>\n",
              "      <th>建物現況格局-房</th>\n",
              "      <th>建物現況格局-廳</th>\n",
              "      <th>建物現況格局-衛</th>\n",
              "      <th>建物現況格局-隔間</th>\n",
              "      <th>有無管理組織</th>\n",
              "      <th>總價元</th>\n",
              "      <th>單價元平方公尺</th>\n",
              "      <th>車位類別</th>\n",
              "      <th>車位移轉總面積(平方公尺)</th>\n",
              "      <th>車位總價元</th>\n",
              "      <th>備註</th>\n",
              "      <th>編號</th>\n",
              "      <th>主建物面積</th>\n",
              "      <th>附屬建物面積</th>\n",
              "      <th>陽台面積</th>\n",
              "      <th>電梯</th>\n",
              "      <th>移轉編號</th>\n",
              "    </tr>\n",
              "  </thead>\n",
              "  <tbody>\n",
              "    <tr>\n",
              "      <th>0</th>\n",
              "      <td>The villages and towns urban district</td>\n",
              "      <td>transaction sign</td>\n",
              "      <td>land sector position building sector house num...</td>\n",
              "      <td>land shifting total area square meter</td>\n",
              "      <td>the use zoning or compiles and checks</td>\n",
              "      <td>the non-metropolis land use district</td>\n",
              "      <td>non-metropolis land use</td>\n",
              "      <td>transaction year month and day</td>\n",
              "      <td>transaction pen number</td>\n",
              "      <td>shifting level</td>\n",
              "      <td>total floor number</td>\n",
              "      <td>building state</td>\n",
              "      <td>main use</td>\n",
              "      <td>main building materials</td>\n",
              "      <td>construction to complete the years</td>\n",
              "      <td>building shifting total area</td>\n",
              "      <td>Building present situation pattern - room</td>\n",
              "      <td>building present situation pattern - hall</td>\n",
              "      <td>building present situation pattern - health</td>\n",
              "      <td>building present situation pattern - compartme...</td>\n",
              "      <td>Whether there is manages the organization</td>\n",
              "      <td>total price NTD</td>\n",
              "      <td>the unit price (NTD / square meter)</td>\n",
              "      <td>the berth category</td>\n",
              "      <td>berth shifting total area square meter</td>\n",
              "      <td>the berth total price NTD</td>\n",
              "      <td>the note</td>\n",
              "      <td>serial number</td>\n",
              "      <td>NaN</td>\n",
              "      <td>NaN</td>\n",
              "      <td>NaN</td>\n",
              "      <td>NaN</td>\n",
              "      <td>NaN</td>\n",
              "    </tr>\n",
              "    <tr>\n",
              "      <th>1</th>\n",
              "      <td>文山區</td>\n",
              "      <td>房地(土地+建物)+車位</td>\n",
              "      <td>政大一街320巷91~120號</td>\n",
              "      <td>44.14</td>\n",
              "      <td>都市：其他:第一種商業區。</td>\n",
              "      <td>NaN</td>\n",
              "      <td>NaN</td>\n",
              "      <td>1100308</td>\n",
              "      <td>土地1建物1車位2</td>\n",
              "      <td>二層</td>\n",
              "      <td>十一層</td>\n",
              "      <td>住宅大樓(11層含以上有電梯)</td>\n",
              "      <td>住家用</td>\n",
              "      <td>鋼筋混凝土造</td>\n",
              "      <td>1000429</td>\n",
              "      <td>324.25</td>\n",
              "      <td>4</td>\n",
              "      <td>2</td>\n",
              "      <td>2</td>\n",
              "      <td>有</td>\n",
              "      <td>有</td>\n",
              "      <td>41500000</td>\n",
              "      <td>127988</td>\n",
              "      <td>坡道平面</td>\n",
              "      <td>81.14</td>\n",
              "      <td>0</td>\n",
              "      <td>其他增建；</td>\n",
              "      <td>RPTNMLPKMHGGFAA37DA</td>\n",
              "      <td>141.46</td>\n",
              "      <td>1.41</td>\n",
              "      <td>28.50</td>\n",
              "      <td>有</td>\n",
              "      <td>1.0</td>\n",
              "    </tr>\n",
              "    <tr>\n",
              "      <th>2</th>\n",
              "      <td>中正區</td>\n",
              "      <td>房地(土地+建物)</td>\n",
              "      <td>和平西路二段1~30號</td>\n",
              "      <td>36.25</td>\n",
              "      <td>都市：其他:第三種住宅區。</td>\n",
              "      <td>NaN</td>\n",
              "      <td>NaN</td>\n",
              "      <td>1100412</td>\n",
              "      <td>土地4建物1車位0</td>\n",
              "      <td>三層</td>\n",
              "      <td>七層</td>\n",
              "      <td>華廈(10層含以下有電梯)</td>\n",
              "      <td>見使用執照</td>\n",
              "      <td>鋼筋混凝土造</td>\n",
              "      <td>NaN</td>\n",
              "      <td>204.58</td>\n",
              "      <td>4</td>\n",
              "      <td>3</td>\n",
              "      <td>3</td>\n",
              "      <td>有</td>\n",
              "      <td>無</td>\n",
              "      <td>25000000</td>\n",
              "      <td>122202</td>\n",
              "      <td>NaN</td>\n",
              "      <td>0</td>\n",
              "      <td>0</td>\n",
              "      <td>NaN</td>\n",
              "      <td>RPWNMLOJNHGGFAA57DA</td>\n",
              "      <td>170.99</td>\n",
              "      <td>0.00</td>\n",
              "      <td>33.59</td>\n",
              "      <td>有</td>\n",
              "      <td>2.0</td>\n",
              "    </tr>\n",
              "    <tr>\n",
              "      <th>3</th>\n",
              "      <td>文山區</td>\n",
              "      <td>房地(土地+建物)</td>\n",
              "      <td>興隆路三段121~150號</td>\n",
              "      <td>6.39</td>\n",
              "      <td>都市：其他:第三種住宅區。</td>\n",
              "      <td>NaN</td>\n",
              "      <td>NaN</td>\n",
              "      <td>1100420</td>\n",
              "      <td>土地1建物1車位0</td>\n",
              "      <td>七層</td>\n",
              "      <td>十層</td>\n",
              "      <td>華廈(10層含以下有電梯)</td>\n",
              "      <td>住家用</td>\n",
              "      <td>鋼筋混凝土造</td>\n",
              "      <td>0970523</td>\n",
              "      <td>30.39</td>\n",
              "      <td>1</td>\n",
              "      <td>1</td>\n",
              "      <td>1</td>\n",
              "      <td>有</td>\n",
              "      <td>有</td>\n",
              "      <td>6900000</td>\n",
              "      <td>227048</td>\n",
              "      <td>NaN</td>\n",
              "      <td>0</td>\n",
              "      <td>0</td>\n",
              "      <td>夾層；其他增建；</td>\n",
              "      <td>RPXNMLOJNHGGFAA67DA</td>\n",
              "      <td>16.91</td>\n",
              "      <td>2.59</td>\n",
              "      <td>0.00</td>\n",
              "      <td>有</td>\n",
              "      <td>NaN</td>\n",
              "    </tr>\n",
              "    <tr>\n",
              "      <th>4</th>\n",
              "      <td>文山區</td>\n",
              "      <td>房地(土地+建物)</td>\n",
              "      <td>福興路63巷4弄1~30號</td>\n",
              "      <td>23.06</td>\n",
              "      <td>都市：其他:第三種住宅區。</td>\n",
              "      <td>NaN</td>\n",
              "      <td>NaN</td>\n",
              "      <td>1100227</td>\n",
              "      <td>土地1建物1車位0</td>\n",
              "      <td>七層</td>\n",
              "      <td>八層</td>\n",
              "      <td>華廈(10層含以下有電梯)</td>\n",
              "      <td>住家用</td>\n",
              "      <td>鋼筋混凝土造</td>\n",
              "      <td>0841116</td>\n",
              "      <td>64.04</td>\n",
              "      <td>1</td>\n",
              "      <td>1</td>\n",
              "      <td>1</td>\n",
              "      <td>有</td>\n",
              "      <td>有</td>\n",
              "      <td>10300000</td>\n",
              "      <td>160837</td>\n",
              "      <td>NaN</td>\n",
              "      <td>0</td>\n",
              "      <td>0</td>\n",
              "      <td>其他增建；</td>\n",
              "      <td>RPSPMLPJNHGGFAA47DA</td>\n",
              "      <td>47.07</td>\n",
              "      <td>0.17</td>\n",
              "      <td>4.47</td>\n",
              "      <td>有</td>\n",
              "      <td>NaN</td>\n",
              "    </tr>\n",
              "  </tbody>\n",
              "</table>\n",
              "</div>"
            ],
            "text/plain": [
              "                                    鄉鎮市區              交易標的  ...   電梯 移轉編號\n",
              "0  The villages and towns urban district  transaction sign  ...  NaN  NaN\n",
              "1                                    文山區      房地(土地+建物)+車位  ...    有  1.0\n",
              "2                                    中正區         房地(土地+建物)  ...    有  2.0\n",
              "3                                    文山區         房地(土地+建物)  ...    有  NaN\n",
              "4                                    文山區         房地(土地+建物)  ...    有  NaN\n",
              "\n",
              "[5 rows x 33 columns]"
            ]
          },
          "metadata": {
            "tags": []
          },
          "execution_count": 22
        }
      ]
    },
    {
      "cell_type": "code",
      "metadata": {
        "colab": {
          "base_uri": "https://localhost:8080/"
        },
        "id": "7bhF24q-ZgQV",
        "outputId": "e49a4c5c-b0ed-41e1-d23f-afb94cb731cf"
      },
      "source": [
        "# 檢視各欄位的資料型態\n",
        "raw_data03.info()"
      ],
      "execution_count": null,
      "outputs": [
        {
          "output_type": "stream",
          "text": [
            "<class 'pandas.core.frame.DataFrame'>\n",
            "RangeIndex: 789 entries, 0 to 788\n",
            "Data columns (total 33 columns):\n",
            " #   Column         Non-Null Count  Dtype  \n",
            "---  ------         --------------  -----  \n",
            " 0   鄉鎮市區           789 non-null    object \n",
            " 1   交易標的           789 non-null    object \n",
            " 2   土地區段位置建物區段門牌   789 non-null    object \n",
            " 3   土地移轉總面積平方公尺    789 non-null    object \n",
            " 4   都市土地使用分區       786 non-null    object \n",
            " 5   非都市土地使用分區      1 non-null      object \n",
            " 6   非都市土地使用編定      1 non-null      object \n",
            " 7   交易年月日          789 non-null    object \n",
            " 8   交易筆棟數          789 non-null    object \n",
            " 9   移轉層次           753 non-null    object \n",
            " 10  總樓層數           751 non-null    object \n",
            " 11  建物型態           789 non-null    object \n",
            " 12  主要用途           739 non-null    object \n",
            " 13  主要建材           752 non-null    object \n",
            " 14  建築完成年月         702 non-null    object \n",
            " 15  建物移轉總面積平方公尺    789 non-null    object \n",
            " 16  建物現況格局-房       789 non-null    object \n",
            " 17  建物現況格局-廳       789 non-null    object \n",
            " 18  建物現況格局-衛       789 non-null    object \n",
            " 19  建物現況格局-隔間      789 non-null    object \n",
            " 20  有無管理組織         789 non-null    object \n",
            " 21  總價元            789 non-null    object \n",
            " 22  單價元平方公尺        758 non-null    object \n",
            " 23  車位類別           300 non-null    object \n",
            " 24  車位移轉總面積(平方公尺)  789 non-null    object \n",
            " 25  車位總價元          789 non-null    object \n",
            " 26  備註             475 non-null    object \n",
            " 27  編號             789 non-null    object \n",
            " 28  主建物面積          788 non-null    float64\n",
            " 29  附屬建物面積         788 non-null    float64\n",
            " 30  陽台面積           788 non-null    float64\n",
            " 31  電梯             788 non-null    object \n",
            " 32  移轉編號           250 non-null    float64\n",
            "dtypes: float64(4), object(29)\n",
            "memory usage: 203.5+ KB\n"
          ],
          "name": "stdout"
        }
      ]
    },
    {
      "cell_type": "markdown",
      "metadata": {
        "id": "tw4sXXvryp51"
      },
      "source": [
        "### Step 2：資料處理"
      ]
    },
    {
      "cell_type": "markdown",
      "metadata": {
        "id": "H4Lq-j8kYPq0"
      },
      "source": [
        "#### 01、刪除資料集中的第一筆資料"
      ]
    },
    {
      "cell_type": "code",
      "metadata": {
        "colab": {
          "base_uri": "https://localhost:8080/",
          "height": 1000
        },
        "id": "PHuOsJ5MY5Ac",
        "outputId": "4fa8bde0-f060-47e4-bd84-7808de5985c1"
      },
      "source": [
        "raw_data03.drop( raw_data03.head(1).index, inplace=True )\n",
        "raw_data03.head()"
      ],
      "execution_count": null,
      "outputs": [
        {
          "output_type": "execute_result",
          "data": {
            "text/html": [
              "<div>\n",
              "<style scoped>\n",
              "    .dataframe tbody tr th:only-of-type {\n",
              "        vertical-align: middle;\n",
              "    }\n",
              "\n",
              "    .dataframe tbody tr th {\n",
              "        vertical-align: top;\n",
              "    }\n",
              "\n",
              "    .dataframe thead th {\n",
              "        text-align: right;\n",
              "    }\n",
              "</style>\n",
              "<table border=\"1\" class=\"dataframe\">\n",
              "  <thead>\n",
              "    <tr style=\"text-align: right;\">\n",
              "      <th></th>\n",
              "      <th>鄉鎮市區</th>\n",
              "      <th>交易標的</th>\n",
              "      <th>土地區段位置建物區段門牌</th>\n",
              "      <th>土地移轉總面積平方公尺</th>\n",
              "      <th>都市土地使用分區</th>\n",
              "      <th>非都市土地使用分區</th>\n",
              "      <th>非都市土地使用編定</th>\n",
              "      <th>交易年月日</th>\n",
              "      <th>交易筆棟數</th>\n",
              "      <th>移轉層次</th>\n",
              "      <th>總樓層數</th>\n",
              "      <th>建物型態</th>\n",
              "      <th>主要用途</th>\n",
              "      <th>主要建材</th>\n",
              "      <th>建築完成年月</th>\n",
              "      <th>建物移轉總面積平方公尺</th>\n",
              "      <th>建物現況格局-房</th>\n",
              "      <th>建物現況格局-廳</th>\n",
              "      <th>建物現況格局-衛</th>\n",
              "      <th>建物現況格局-隔間</th>\n",
              "      <th>有無管理組織</th>\n",
              "      <th>總價元</th>\n",
              "      <th>單價元平方公尺</th>\n",
              "      <th>車位類別</th>\n",
              "      <th>車位移轉總面積(平方公尺)</th>\n",
              "      <th>車位總價元</th>\n",
              "      <th>備註</th>\n",
              "      <th>編號</th>\n",
              "      <th>主建物面積</th>\n",
              "      <th>附屬建物面積</th>\n",
              "      <th>陽台面積</th>\n",
              "      <th>電梯</th>\n",
              "      <th>移轉編號</th>\n",
              "    </tr>\n",
              "  </thead>\n",
              "  <tbody>\n",
              "    <tr>\n",
              "      <th>1</th>\n",
              "      <td>文山區</td>\n",
              "      <td>房地(土地+建物)+車位</td>\n",
              "      <td>政大一街320巷91~120號</td>\n",
              "      <td>44.14</td>\n",
              "      <td>都市：其他:第一種商業區。</td>\n",
              "      <td>NaN</td>\n",
              "      <td>NaN</td>\n",
              "      <td>1100308</td>\n",
              "      <td>土地1建物1車位2</td>\n",
              "      <td>二層</td>\n",
              "      <td>十一層</td>\n",
              "      <td>住宅大樓(11層含以上有電梯)</td>\n",
              "      <td>住家用</td>\n",
              "      <td>鋼筋混凝土造</td>\n",
              "      <td>1000429</td>\n",
              "      <td>324.25</td>\n",
              "      <td>4</td>\n",
              "      <td>2</td>\n",
              "      <td>2</td>\n",
              "      <td>有</td>\n",
              "      <td>有</td>\n",
              "      <td>41500000</td>\n",
              "      <td>127988</td>\n",
              "      <td>坡道平面</td>\n",
              "      <td>81.14</td>\n",
              "      <td>0</td>\n",
              "      <td>其他增建；</td>\n",
              "      <td>RPTNMLPKMHGGFAA37DA</td>\n",
              "      <td>141.46</td>\n",
              "      <td>1.41</td>\n",
              "      <td>28.50</td>\n",
              "      <td>有</td>\n",
              "      <td>1.0</td>\n",
              "    </tr>\n",
              "    <tr>\n",
              "      <th>2</th>\n",
              "      <td>中正區</td>\n",
              "      <td>房地(土地+建物)</td>\n",
              "      <td>和平西路二段1~30號</td>\n",
              "      <td>36.25</td>\n",
              "      <td>都市：其他:第三種住宅區。</td>\n",
              "      <td>NaN</td>\n",
              "      <td>NaN</td>\n",
              "      <td>1100412</td>\n",
              "      <td>土地4建物1車位0</td>\n",
              "      <td>三層</td>\n",
              "      <td>七層</td>\n",
              "      <td>華廈(10層含以下有電梯)</td>\n",
              "      <td>見使用執照</td>\n",
              "      <td>鋼筋混凝土造</td>\n",
              "      <td>NaN</td>\n",
              "      <td>204.58</td>\n",
              "      <td>4</td>\n",
              "      <td>3</td>\n",
              "      <td>3</td>\n",
              "      <td>有</td>\n",
              "      <td>無</td>\n",
              "      <td>25000000</td>\n",
              "      <td>122202</td>\n",
              "      <td>NaN</td>\n",
              "      <td>0</td>\n",
              "      <td>0</td>\n",
              "      <td>NaN</td>\n",
              "      <td>RPWNMLOJNHGGFAA57DA</td>\n",
              "      <td>170.99</td>\n",
              "      <td>0.00</td>\n",
              "      <td>33.59</td>\n",
              "      <td>有</td>\n",
              "      <td>2.0</td>\n",
              "    </tr>\n",
              "    <tr>\n",
              "      <th>3</th>\n",
              "      <td>文山區</td>\n",
              "      <td>房地(土地+建物)</td>\n",
              "      <td>興隆路三段121~150號</td>\n",
              "      <td>6.39</td>\n",
              "      <td>都市：其他:第三種住宅區。</td>\n",
              "      <td>NaN</td>\n",
              "      <td>NaN</td>\n",
              "      <td>1100420</td>\n",
              "      <td>土地1建物1車位0</td>\n",
              "      <td>七層</td>\n",
              "      <td>十層</td>\n",
              "      <td>華廈(10層含以下有電梯)</td>\n",
              "      <td>住家用</td>\n",
              "      <td>鋼筋混凝土造</td>\n",
              "      <td>0970523</td>\n",
              "      <td>30.39</td>\n",
              "      <td>1</td>\n",
              "      <td>1</td>\n",
              "      <td>1</td>\n",
              "      <td>有</td>\n",
              "      <td>有</td>\n",
              "      <td>6900000</td>\n",
              "      <td>227048</td>\n",
              "      <td>NaN</td>\n",
              "      <td>0</td>\n",
              "      <td>0</td>\n",
              "      <td>夾層；其他增建；</td>\n",
              "      <td>RPXNMLOJNHGGFAA67DA</td>\n",
              "      <td>16.91</td>\n",
              "      <td>2.59</td>\n",
              "      <td>0.00</td>\n",
              "      <td>有</td>\n",
              "      <td>NaN</td>\n",
              "    </tr>\n",
              "    <tr>\n",
              "      <th>4</th>\n",
              "      <td>文山區</td>\n",
              "      <td>房地(土地+建物)</td>\n",
              "      <td>福興路63巷4弄1~30號</td>\n",
              "      <td>23.06</td>\n",
              "      <td>都市：其他:第三種住宅區。</td>\n",
              "      <td>NaN</td>\n",
              "      <td>NaN</td>\n",
              "      <td>1100227</td>\n",
              "      <td>土地1建物1車位0</td>\n",
              "      <td>七層</td>\n",
              "      <td>八層</td>\n",
              "      <td>華廈(10層含以下有電梯)</td>\n",
              "      <td>住家用</td>\n",
              "      <td>鋼筋混凝土造</td>\n",
              "      <td>0841116</td>\n",
              "      <td>64.04</td>\n",
              "      <td>1</td>\n",
              "      <td>1</td>\n",
              "      <td>1</td>\n",
              "      <td>有</td>\n",
              "      <td>有</td>\n",
              "      <td>10300000</td>\n",
              "      <td>160837</td>\n",
              "      <td>NaN</td>\n",
              "      <td>0</td>\n",
              "      <td>0</td>\n",
              "      <td>其他增建；</td>\n",
              "      <td>RPSPMLPJNHGGFAA47DA</td>\n",
              "      <td>47.07</td>\n",
              "      <td>0.17</td>\n",
              "      <td>4.47</td>\n",
              "      <td>有</td>\n",
              "      <td>NaN</td>\n",
              "    </tr>\n",
              "    <tr>\n",
              "      <th>5</th>\n",
              "      <td>文山區</td>\n",
              "      <td>房地(土地+建物)+車位</td>\n",
              "      <td>羅斯福路六段301~330號</td>\n",
              "      <td>28.48</td>\n",
              "      <td>都市：其他:第三種住宅區。</td>\n",
              "      <td>NaN</td>\n",
              "      <td>NaN</td>\n",
              "      <td>1100414</td>\n",
              "      <td>土地2建物1車位2</td>\n",
              "      <td>十層</td>\n",
              "      <td>十四層</td>\n",
              "      <td>住宅大樓(11層含以上有電梯)</td>\n",
              "      <td>住家用</td>\n",
              "      <td>鋼筋混凝土造</td>\n",
              "      <td>0960604</td>\n",
              "      <td>175.38</td>\n",
              "      <td>2</td>\n",
              "      <td>2</td>\n",
              "      <td>2</td>\n",
              "      <td>有</td>\n",
              "      <td>有</td>\n",
              "      <td>31500000</td>\n",
              "      <td>232838</td>\n",
              "      <td>坡道平面</td>\n",
              "      <td>50.83</td>\n",
              "      <td>2500000</td>\n",
              "      <td>車位為一汽車位一機車位，機車位未單獨計價，且已含入交易總價</td>\n",
              "      <td>RPQNMLQJNHGGFAA17DA</td>\n",
              "      <td>89.40</td>\n",
              "      <td>2.24</td>\n",
              "      <td>5.13</td>\n",
              "      <td>有</td>\n",
              "      <td>3.0</td>\n",
              "    </tr>\n",
              "  </tbody>\n",
              "</table>\n",
              "</div>"
            ],
            "text/plain": [
              "  鄉鎮市區          交易標的     土地區段位置建物區段門牌 土地移轉總面積平方公尺  ... 附屬建物面積   陽台面積 電梯 移轉編號\n",
              "1  文山區  房地(土地+建物)+車位  政大一街320巷91~120號       44.14  ...   1.41  28.50  有  1.0\n",
              "2  中正區     房地(土地+建物)      和平西路二段1~30號       36.25  ...   0.00  33.59  有  2.0\n",
              "3  文山區     房地(土地+建物)    興隆路三段121~150號        6.39  ...   2.59   0.00  有  NaN\n",
              "4  文山區     房地(土地+建物)    福興路63巷4弄1~30號       23.06  ...   0.17   4.47  有  NaN\n",
              "5  文山區  房地(土地+建物)+車位   羅斯福路六段301~330號       28.48  ...   2.24   5.13  有  3.0\n",
              "\n",
              "[5 rows x 33 columns]"
            ]
          },
          "metadata": {
            "tags": []
          },
          "execution_count": 24
        }
      ]
    },
    {
      "cell_type": "code",
      "metadata": {
        "colab": {
          "base_uri": "https://localhost:8080/"
        },
        "id": "BuMBmncQdDaH",
        "outputId": "2b31d3af-5325-43ee-8134-e1ededfd56a6"
      },
      "source": [
        "# 檢視各欄位的資料型態\n",
        "raw_data03.info()"
      ],
      "execution_count": null,
      "outputs": [
        {
          "output_type": "stream",
          "text": [
            "<class 'pandas.core.frame.DataFrame'>\n",
            "Int64Index: 788 entries, 1 to 788\n",
            "Data columns (total 33 columns):\n",
            " #   Column         Non-Null Count  Dtype  \n",
            "---  ------         --------------  -----  \n",
            " 0   鄉鎮市區           788 non-null    object \n",
            " 1   交易標的           788 non-null    object \n",
            " 2   土地區段位置建物區段門牌   788 non-null    object \n",
            " 3   土地移轉總面積平方公尺    788 non-null    object \n",
            " 4   都市土地使用分區       785 non-null    object \n",
            " 5   非都市土地使用分區      0 non-null      object \n",
            " 6   非都市土地使用編定      0 non-null      object \n",
            " 7   交易年月日          788 non-null    object \n",
            " 8   交易筆棟數          788 non-null    object \n",
            " 9   移轉層次           752 non-null    object \n",
            " 10  總樓層數           750 non-null    object \n",
            " 11  建物型態           788 non-null    object \n",
            " 12  主要用途           738 non-null    object \n",
            " 13  主要建材           751 non-null    object \n",
            " 14  建築完成年月         701 non-null    object \n",
            " 15  建物移轉總面積平方公尺    788 non-null    object \n",
            " 16  建物現況格局-房       788 non-null    object \n",
            " 17  建物現況格局-廳       788 non-null    object \n",
            " 18  建物現況格局-衛       788 non-null    object \n",
            " 19  建物現況格局-隔間      788 non-null    object \n",
            " 20  有無管理組織         788 non-null    object \n",
            " 21  總價元            788 non-null    object \n",
            " 22  單價元平方公尺        757 non-null    object \n",
            " 23  車位類別           299 non-null    object \n",
            " 24  車位移轉總面積(平方公尺)  788 non-null    object \n",
            " 25  車位總價元          788 non-null    object \n",
            " 26  備註             474 non-null    object \n",
            " 27  編號             788 non-null    object \n",
            " 28  主建物面積          788 non-null    float64\n",
            " 29  附屬建物面積         788 non-null    float64\n",
            " 30  陽台面積           788 non-null    float64\n",
            " 31  電梯             788 non-null    object \n",
            " 32  移轉編號           250 non-null    float64\n",
            "dtypes: float64(4), object(29)\n",
            "memory usage: 209.3+ KB\n"
          ],
          "name": "stdout"
        }
      ]
    },
    {
      "cell_type": "code",
      "metadata": {
        "colab": {
          "base_uri": "https://localhost:8080/"
        },
        "id": "kWvAKfyydKGF",
        "outputId": "f838a3e0-bb73-40d9-ebe5-6bfd6aee3207"
      },
      "source": [
        "print( f'每個欄位缺失值的總數：\\n{raw_data03.isnull( ).sum()}\\n' )"
      ],
      "execution_count": null,
      "outputs": [
        {
          "output_type": "stream",
          "text": [
            "每個欄位缺失值的總數：\n",
            "鄉鎮市區               0\n",
            "交易標的               0\n",
            "土地區段位置建物區段門牌       0\n",
            "土地移轉總面積平方公尺        0\n",
            "都市土地使用分區           3\n",
            "非都市土地使用分區        788\n",
            "非都市土地使用編定        788\n",
            "交易年月日              0\n",
            "交易筆棟數              0\n",
            "移轉層次              36\n",
            "總樓層數              38\n",
            "建物型態               0\n",
            "主要用途              50\n",
            "主要建材              37\n",
            "建築完成年月            87\n",
            "建物移轉總面積平方公尺        0\n",
            "建物現況格局-房           0\n",
            "建物現況格局-廳           0\n",
            "建物現況格局-衛           0\n",
            "建物現況格局-隔間          0\n",
            "有無管理組織             0\n",
            "總價元                0\n",
            "單價元平方公尺           31\n",
            "車位類別             489\n",
            "車位移轉總面積(平方公尺)      0\n",
            "車位總價元              0\n",
            "備註               314\n",
            "編號                 0\n",
            "主建物面積              0\n",
            "附屬建物面積             0\n",
            "陽台面積               0\n",
            "電梯                 0\n",
            "移轉編號             538\n",
            "dtype: int64\n",
            "\n"
          ],
          "name": "stdout"
        }
      ]
    },
    {
      "cell_type": "markdown",
      "metadata": {
        "id": "FeN8OjHvdOCY"
      },
      "source": [
        "從原始資料中篩選出【主要用途】、【建物現況格局-房】、【建物現況格局-廳】、【總價元】、【單價元平方公尺】五個欄位的資料。"
      ]
    },
    {
      "cell_type": "code",
      "metadata": {
        "id": "wWaVNQFFdQbN"
      },
      "source": [
        "plot_df03 = raw_data03[ ['主要用途','建物現況格局-房','建物現況格局-廳','總價元','單價元平方公尺'] ]"
      ],
      "execution_count": null,
      "outputs": []
    },
    {
      "cell_type": "markdown",
      "metadata": {
        "id": "kNk6QFe7dVQ7"
      },
      "source": [
        "* 檢查欄位是否存有缺失值"
      ]
    },
    {
      "cell_type": "code",
      "metadata": {
        "colab": {
          "base_uri": "https://localhost:8080/"
        },
        "id": "h5buEbEBdXWy",
        "outputId": "484cb955-a432-4716-a97d-d7bdd8f9f684"
      },
      "source": [
        "plot_df03.isnull().sum()"
      ],
      "execution_count": null,
      "outputs": [
        {
          "output_type": "execute_result",
          "data": {
            "text/plain": [
              "主要用途        50\n",
              "建物現況格局-房     0\n",
              "建物現況格局-廳     0\n",
              "總價元          0\n",
              "單價元平方公尺     31\n",
              "dtype: int64"
            ]
          },
          "metadata": {
            "tags": []
          },
          "execution_count": 28
        }
      ]
    },
    {
      "cell_type": "markdown",
      "metadata": {
        "id": "UmvvEMLRa75t"
      },
      "source": [
        "#### 02、處理有缺漏值的欄位 \n",
        "* 刪除存有缺失值的整列資料"
      ]
    },
    {
      "cell_type": "code",
      "metadata": {
        "id": "q8CoCRAubMvA"
      },
      "source": [
        "plot_df03 = plot_df03.dropna()"
      ],
      "execution_count": null,
      "outputs": []
    },
    {
      "cell_type": "markdown",
      "metadata": {
        "id": "2Sp4jWjkZKKA"
      },
      "source": [
        "#### 03、檢視與轉換欄位型態"
      ]
    },
    {
      "cell_type": "code",
      "metadata": {
        "colab": {
          "base_uri": "https://localhost:8080/",
          "height": 206
        },
        "id": "hNquiGc-ZKZP",
        "outputId": "dc92b970-99b1-4cd1-ad66-e246e2b6ebbb"
      },
      "source": [
        "# 轉換 '建物現況格局-房'、'建物現況格局-廳'、'總價元'、'單價元平方公尺' 四個欄位的型態成整數\n",
        "pd.options.mode.chained_assignment = None \n",
        "\n",
        "for col in ['建物現況格局-房','建物現況格局-廳','總價元','單價元平方公尺']: \n",
        "    plot_df03[col] = plot_df03[col].astype('int32')\n",
        "\n",
        "plot_df03.head()"
      ],
      "execution_count": null,
      "outputs": [
        {
          "output_type": "execute_result",
          "data": {
            "text/html": [
              "<div>\n",
              "<style scoped>\n",
              "    .dataframe tbody tr th:only-of-type {\n",
              "        vertical-align: middle;\n",
              "    }\n",
              "\n",
              "    .dataframe tbody tr th {\n",
              "        vertical-align: top;\n",
              "    }\n",
              "\n",
              "    .dataframe thead th {\n",
              "        text-align: right;\n",
              "    }\n",
              "</style>\n",
              "<table border=\"1\" class=\"dataframe\">\n",
              "  <thead>\n",
              "    <tr style=\"text-align: right;\">\n",
              "      <th></th>\n",
              "      <th>主要用途</th>\n",
              "      <th>建物現況格局-房</th>\n",
              "      <th>建物現況格局-廳</th>\n",
              "      <th>總價元</th>\n",
              "      <th>單價元平方公尺</th>\n",
              "    </tr>\n",
              "  </thead>\n",
              "  <tbody>\n",
              "    <tr>\n",
              "      <th>1</th>\n",
              "      <td>住家用</td>\n",
              "      <td>4</td>\n",
              "      <td>2</td>\n",
              "      <td>41500000</td>\n",
              "      <td>127988</td>\n",
              "    </tr>\n",
              "    <tr>\n",
              "      <th>2</th>\n",
              "      <td>見使用執照</td>\n",
              "      <td>4</td>\n",
              "      <td>3</td>\n",
              "      <td>25000000</td>\n",
              "      <td>122202</td>\n",
              "    </tr>\n",
              "    <tr>\n",
              "      <th>3</th>\n",
              "      <td>住家用</td>\n",
              "      <td>1</td>\n",
              "      <td>1</td>\n",
              "      <td>6900000</td>\n",
              "      <td>227048</td>\n",
              "    </tr>\n",
              "    <tr>\n",
              "      <th>4</th>\n",
              "      <td>住家用</td>\n",
              "      <td>1</td>\n",
              "      <td>1</td>\n",
              "      <td>10300000</td>\n",
              "      <td>160837</td>\n",
              "    </tr>\n",
              "    <tr>\n",
              "      <th>5</th>\n",
              "      <td>住家用</td>\n",
              "      <td>2</td>\n",
              "      <td>2</td>\n",
              "      <td>31500000</td>\n",
              "      <td>232838</td>\n",
              "    </tr>\n",
              "  </tbody>\n",
              "</table>\n",
              "</div>"
            ],
            "text/plain": [
              "    主要用途  建物現況格局-房  建物現況格局-廳       總價元  單價元平方公尺\n",
              "1    住家用         4         2  41500000   127988\n",
              "2  見使用執照         4         3  25000000   122202\n",
              "3    住家用         1         1   6900000   227048\n",
              "4    住家用         1         1  10300000   160837\n",
              "5    住家用         2         2  31500000   232838"
            ]
          },
          "metadata": {
            "tags": []
          },
          "execution_count": 30
        }
      ]
    },
    {
      "cell_type": "markdown",
      "metadata": {
        "id": "lMN5r8UgZOdy"
      },
      "source": [
        "#### 04、篩選資料\n",
        "篩選出下列條件的資料： \n",
        "* 【主要用途】為「住家用」  \n",
        "* 【建物現況格局-房】為 1 到 3 房    \n",
        "* 【建物現況格局-廳】為 1 到 2 廳  "
      ]
    },
    {
      "cell_type": "code",
      "metadata": {
        "colab": {
          "base_uri": "https://localhost:8080/"
        },
        "id": "nepouJyRZOmZ",
        "outputId": "bf0b52c8-6c63-4f06-d4b8-111cb79e9e77"
      },
      "source": [
        "plot_df03['主要用途'].unique()"
      ],
      "execution_count": null,
      "outputs": [
        {
          "output_type": "execute_result",
          "data": {
            "text/plain": [
              "array(['住家用', '見使用執照', '集合住宅', '一般事務所', '多戶住宅，（Ｈ２）集合住宅', '商業用', '住商用',\n",
              "       '工業用', '住工用', 'Ｈ２多戶住宅', '（Ｈ２）集合住宅', '一至三層：集合住宅、屋突一層：樓梯間、屋突二層：水箱',\n",
              "       '多戶住宅', '策略性產業（資訊服務業）', '辦公室', '第二組多戶住宅', '策略性產業（Ｇ２）（資訊服務業）',\n",
              "       '集合住宅，多戶住宅', '（Ｈ２）集合住宅，第二組：多戶住宅'], dtype=object)"
            ]
          },
          "metadata": {
            "tags": []
          },
          "execution_count": 31
        }
      ]
    },
    {
      "cell_type": "code",
      "metadata": {
        "colab": {
          "base_uri": "https://localhost:8080/",
          "height": 206
        },
        "id": "YlhQLU8uZT1E",
        "outputId": "2ae89499-fb07-417f-a328-7a7d1621c071"
      },
      "source": [
        "plot_df03 = plot_df03[ (plot_df03['主要用途']=='住家用')&(plot_df03['建物現況格局-房']>=1)&(plot_df03['建物現況格局-房']<=3)&(plot_df03['建物現況格局-廳']>=1)&(plot_df03['建物現況格局-廳']<=2) ]\n",
        "plot_df03.head()"
      ],
      "execution_count": null,
      "outputs": [
        {
          "output_type": "execute_result",
          "data": {
            "text/html": [
              "<div>\n",
              "<style scoped>\n",
              "    .dataframe tbody tr th:only-of-type {\n",
              "        vertical-align: middle;\n",
              "    }\n",
              "\n",
              "    .dataframe tbody tr th {\n",
              "        vertical-align: top;\n",
              "    }\n",
              "\n",
              "    .dataframe thead th {\n",
              "        text-align: right;\n",
              "    }\n",
              "</style>\n",
              "<table border=\"1\" class=\"dataframe\">\n",
              "  <thead>\n",
              "    <tr style=\"text-align: right;\">\n",
              "      <th></th>\n",
              "      <th>主要用途</th>\n",
              "      <th>建物現況格局-房</th>\n",
              "      <th>建物現況格局-廳</th>\n",
              "      <th>總價元</th>\n",
              "      <th>單價元平方公尺</th>\n",
              "    </tr>\n",
              "  </thead>\n",
              "  <tbody>\n",
              "    <tr>\n",
              "      <th>3</th>\n",
              "      <td>住家用</td>\n",
              "      <td>1</td>\n",
              "      <td>1</td>\n",
              "      <td>6900000</td>\n",
              "      <td>227048</td>\n",
              "    </tr>\n",
              "    <tr>\n",
              "      <th>4</th>\n",
              "      <td>住家用</td>\n",
              "      <td>1</td>\n",
              "      <td>1</td>\n",
              "      <td>10300000</td>\n",
              "      <td>160837</td>\n",
              "    </tr>\n",
              "    <tr>\n",
              "      <th>5</th>\n",
              "      <td>住家用</td>\n",
              "      <td>2</td>\n",
              "      <td>2</td>\n",
              "      <td>31500000</td>\n",
              "      <td>232838</td>\n",
              "    </tr>\n",
              "    <tr>\n",
              "      <th>6</th>\n",
              "      <td>住家用</td>\n",
              "      <td>1</td>\n",
              "      <td>1</td>\n",
              "      <td>9500000</td>\n",
              "      <td>146199</td>\n",
              "    </tr>\n",
              "    <tr>\n",
              "      <th>7</th>\n",
              "      <td>住家用</td>\n",
              "      <td>3</td>\n",
              "      <td>2</td>\n",
              "      <td>16000000</td>\n",
              "      <td>166372</td>\n",
              "    </tr>\n",
              "  </tbody>\n",
              "</table>\n",
              "</div>"
            ],
            "text/plain": [
              "  主要用途  建物現況格局-房  建物現況格局-廳       總價元  單價元平方公尺\n",
              "3  住家用         1         1   6900000   227048\n",
              "4  住家用         1         1  10300000   160837\n",
              "5  住家用         2         2  31500000   232838\n",
              "6  住家用         1         1   9500000   146199\n",
              "7  住家用         3         2  16000000   166372"
            ]
          },
          "metadata": {
            "tags": []
          },
          "execution_count": 32
        }
      ]
    },
    {
      "cell_type": "markdown",
      "metadata": {
        "id": "BojOEy52ZWP-"
      },
      "source": [
        "#### 05、單位轉換\n",
        "* 由於常聽到一坪的價格，故轉換單價的面積單位為坪，依 1 平方公尺 = 0.3025 坪進行轉換"
      ]
    },
    {
      "cell_type": "code",
      "metadata": {
        "colab": {
          "base_uri": "https://localhost:8080/",
          "height": 223
        },
        "id": "KNreQVOzZWgP",
        "outputId": "f4f3d4d8-6686-4b8d-b167-6eed18635bd9"
      },
      "source": [
        "plot_df03['單價元坪'] = plot_df03['單價元平方公尺']/0.3025\n",
        "plot_df03.head()"
      ],
      "execution_count": null,
      "outputs": [
        {
          "output_type": "execute_result",
          "data": {
            "text/html": [
              "<div>\n",
              "<style scoped>\n",
              "    .dataframe tbody tr th:only-of-type {\n",
              "        vertical-align: middle;\n",
              "    }\n",
              "\n",
              "    .dataframe tbody tr th {\n",
              "        vertical-align: top;\n",
              "    }\n",
              "\n",
              "    .dataframe thead th {\n",
              "        text-align: right;\n",
              "    }\n",
              "</style>\n",
              "<table border=\"1\" class=\"dataframe\">\n",
              "  <thead>\n",
              "    <tr style=\"text-align: right;\">\n",
              "      <th></th>\n",
              "      <th>主要用途</th>\n",
              "      <th>建物現況格局-房</th>\n",
              "      <th>建物現況格局-廳</th>\n",
              "      <th>總價元</th>\n",
              "      <th>單價元平方公尺</th>\n",
              "      <th>單價元坪</th>\n",
              "    </tr>\n",
              "  </thead>\n",
              "  <tbody>\n",
              "    <tr>\n",
              "      <th>3</th>\n",
              "      <td>住家用</td>\n",
              "      <td>1</td>\n",
              "      <td>1</td>\n",
              "      <td>6900000</td>\n",
              "      <td>227048</td>\n",
              "      <td>750571.900826</td>\n",
              "    </tr>\n",
              "    <tr>\n",
              "      <th>4</th>\n",
              "      <td>住家用</td>\n",
              "      <td>1</td>\n",
              "      <td>1</td>\n",
              "      <td>10300000</td>\n",
              "      <td>160837</td>\n",
              "      <td>531692.561983</td>\n",
              "    </tr>\n",
              "    <tr>\n",
              "      <th>5</th>\n",
              "      <td>住家用</td>\n",
              "      <td>2</td>\n",
              "      <td>2</td>\n",
              "      <td>31500000</td>\n",
              "      <td>232838</td>\n",
              "      <td>769712.396694</td>\n",
              "    </tr>\n",
              "    <tr>\n",
              "      <th>6</th>\n",
              "      <td>住家用</td>\n",
              "      <td>1</td>\n",
              "      <td>1</td>\n",
              "      <td>9500000</td>\n",
              "      <td>146199</td>\n",
              "      <td>483302.479339</td>\n",
              "    </tr>\n",
              "    <tr>\n",
              "      <th>7</th>\n",
              "      <td>住家用</td>\n",
              "      <td>3</td>\n",
              "      <td>2</td>\n",
              "      <td>16000000</td>\n",
              "      <td>166372</td>\n",
              "      <td>549990.082645</td>\n",
              "    </tr>\n",
              "  </tbody>\n",
              "</table>\n",
              "</div>"
            ],
            "text/plain": [
              "  主要用途  建物現況格局-房  建物現況格局-廳       總價元  單價元平方公尺           單價元坪\n",
              "3  住家用         1         1   6900000   227048  750571.900826\n",
              "4  住家用         1         1  10300000   160837  531692.561983\n",
              "5  住家用         2         2  31500000   232838  769712.396694\n",
              "6  住家用         1         1   9500000   146199  483302.479339\n",
              "7  住家用         3         2  16000000   166372  549990.082645"
            ]
          },
          "metadata": {
            "tags": []
          },
          "execution_count": 33
        }
      ]
    },
    {
      "cell_type": "markdown",
      "metadata": {
        "id": "91lNf1EeyqRz"
      },
      "source": [
        "### Step 3：繪圖"
      ]
    },
    {
      "cell_type": "code",
      "metadata": {
        "id": "DH3EXbM4yqdF",
        "colab": {
          "base_uri": "https://localhost:8080/",
          "height": 448
        },
        "outputId": "eb6fd4dc-b6b4-4d9b-c127-38b6a8b302ac"
      },
      "source": [
        "# 直方圖 Histograms \n",
        "plt.hist( plot_df03['單價元坪'], bins=20 )\n",
        "plt.show()"
      ],
      "execution_count": null,
      "outputs": [
        {
          "output_type": "display_data",
          "data": {
            "image/png": "[encoded data removed]",
            "text/plain": [
              "<Figure size 640x480 with 1 Axes>"
            ]
          },
          "metadata": {
            "tags": []
          }
        }
      ]
    },
    {
      "cell_type": "markdown",
      "metadata": {
        "id": "-YjR0Jk0gv5X"
      },
      "source": [
        "## 實作範例 - 鐵達尼號"
      ]
    },
    {
      "cell_type": "markdown",
      "metadata": {
        "id": "KoUGC4mPutQp"
      },
      "source": [
        "* 資料來源：自 Kaggle 上 [鐵達尼號生存預測比賽](https://www.kaggle.com/c/titanic/overview/description) 取得，鐵達尼號已成為歷史上最著名的船舶之一。\n",
        "<br>\n",
        "* 資料說明：1912 年 4 月 10 日，鐵達尼號展開首航，也是唯一一次的載客出航，最終目的地為紐約。部分乘客為當時世界上頂尖富豪，以及許多來自英國、愛爾蘭、斯堪地那維亞和歐洲其他地區的移民，他們尋求在美國展開新生活的機會。4月15日在中途發生擦撞冰山後沉沒的嚴重災難。2,224 名船上人員中有 1,514 人罹難，成為近代史上最嚴重的和平時期船難。船長愛德華·約翰·史密斯最終與船一起沉沒，鐵達尼號總設計師湯瑪斯·安德魯斯也在這起災難中死亡。\n",
        "<br>\n",
        "* Kaggle 目標：儘管倖存有一些運氣，但似乎有些人比其他人更有可能生存。在 Kaggle 比賽中，要求使用乘客數據 (如：姓名、年齡、性別、社會經濟階層等) 建立一個能夠「什麼樣的人更有可能生存」的模型。"
      ]
    },
    {
      "cell_type": "code",
      "metadata": {
        "id": "lP39v3ZwZogl"
      },
      "source": [
        "#鐵達尼號 from kaggle\n",
        "titanic_train = pd.read_csv( '/content/Machine-Learning-Basic/Content/Titanic/train.csv' )\n",
        "titanic_test = pd.read_csv( '/content/Machine-Learning-Basic/Content/Titanic/test.csv' )\n",
        "titanic_submit = pd.read_csv( '/content/Machine-Learning-Basic/Content/Titanic/gender_submission.csv' )"
      ],
      "execution_count": null,
      "outputs": []
    },
    {
      "cell_type": "code",
      "metadata": {
        "colab": {
          "base_uri": "https://localhost:8080/",
          "height": 503
        },
        "id": "BFG99oaNZs2T",
        "outputId": "20d97d83-1b3b-4fd1-d40b-210bcd7e8d74"
      },
      "source": [
        "# 合併 train 及 test 的資料 \n",
        "titanic_data = titanic_train.append( titanic_test, sort=False )\n",
        "titanic_data.head()"
      ],
      "execution_count": null,
      "outputs": [
        {
          "output_type": "execute_result",
          "data": {
            "text/html": [
              "<div>\n",
              "<style scoped>\n",
              "    .dataframe tbody tr th:only-of-type {\n",
              "        vertical-align: middle;\n",
              "    }\n",
              "\n",
              "    .dataframe tbody tr th {\n",
              "        vertical-align: top;\n",
              "    }\n",
              "\n",
              "    .dataframe thead th {\n",
              "        text-align: right;\n",
              "    }\n",
              "</style>\n",
              "<table border=\"1\" class=\"dataframe\">\n",
              "  <thead>\n",
              "    <tr style=\"text-align: right;\">\n",
              "      <th></th>\n",
              "      <th>PassengerId</th>\n",
              "      <th>Survived</th>\n",
              "      <th>Pclass</th>\n",
              "      <th>Name</th>\n",
              "      <th>Sex</th>\n",
              "      <th>Age</th>\n",
              "      <th>SibSp</th>\n",
              "      <th>Parch</th>\n",
              "      <th>Ticket</th>\n",
              "      <th>Fare</th>\n",
              "      <th>Cabin</th>\n",
              "      <th>Embarked</th>\n",
              "    </tr>\n",
              "  </thead>\n",
              "  <tbody>\n",
              "    <tr>\n",
              "      <th>0</th>\n",
              "      <td>1</td>\n",
              "      <td>0.0</td>\n",
              "      <td>3</td>\n",
              "      <td>Braund, Mr. Owen Harris</td>\n",
              "      <td>male</td>\n",
              "      <td>22.0</td>\n",
              "      <td>1</td>\n",
              "      <td>0</td>\n",
              "      <td>A/5 21171</td>\n",
              "      <td>7.2500</td>\n",
              "      <td>NaN</td>\n",
              "      <td>S</td>\n",
              "    </tr>\n",
              "    <tr>\n",
              "      <th>1</th>\n",
              "      <td>2</td>\n",
              "      <td>1.0</td>\n",
              "      <td>1</td>\n",
              "      <td>Cumings, Mrs. John Bradley (Florence Briggs Th...</td>\n",
              "      <td>female</td>\n",
              "      <td>38.0</td>\n",
              "      <td>1</td>\n",
              "      <td>0</td>\n",
              "      <td>PC 17599</td>\n",
              "      <td>71.2833</td>\n",
              "      <td>C85</td>\n",
              "      <td>C</td>\n",
              "    </tr>\n",
              "    <tr>\n",
              "      <th>2</th>\n",
              "      <td>3</td>\n",
              "      <td>1.0</td>\n",
              "      <td>3</td>\n",
              "      <td>Heikkinen, Miss. Laina</td>\n",
              "      <td>female</td>\n",
              "      <td>26.0</td>\n",
              "      <td>0</td>\n",
              "      <td>0</td>\n",
              "      <td>STON/O2. 3101282</td>\n",
              "      <td>7.9250</td>\n",
              "      <td>NaN</td>\n",
              "      <td>S</td>\n",
              "    </tr>\n",
              "    <tr>\n",
              "      <th>3</th>\n",
              "      <td>4</td>\n",
              "      <td>1.0</td>\n",
              "      <td>1</td>\n",
              "      <td>Futrelle, Mrs. Jacques Heath (Lily May Peel)</td>\n",
              "      <td>female</td>\n",
              "      <td>35.0</td>\n",
              "      <td>1</td>\n",
              "      <td>0</td>\n",
              "      <td>113803</td>\n",
              "      <td>53.1000</td>\n",
              "      <td>C123</td>\n",
              "      <td>S</td>\n",
              "    </tr>\n",
              "    <tr>\n",
              "      <th>4</th>\n",
              "      <td>5</td>\n",
              "      <td>0.0</td>\n",
              "      <td>3</td>\n",
              "      <td>Allen, Mr. William Henry</td>\n",
              "      <td>male</td>\n",
              "      <td>35.0</td>\n",
              "      <td>0</td>\n",
              "      <td>0</td>\n",
              "      <td>373450</td>\n",
              "      <td>8.0500</td>\n",
              "      <td>NaN</td>\n",
              "      <td>S</td>\n",
              "    </tr>\n",
              "  </tbody>\n",
              "</table>\n",
              "</div>"
            ],
            "text/plain": [
              "   PassengerId  Survived  Pclass  ...     Fare Cabin  Embarked\n",
              "0            1       0.0       3  ...   7.2500   NaN         S\n",
              "1            2       1.0       1  ...  71.2833   C85         C\n",
              "2            3       1.0       3  ...   7.9250   NaN         S\n",
              "3            4       1.0       1  ...  53.1000  C123         S\n",
              "4            5       0.0       3  ...   8.0500   NaN         S\n",
              "\n",
              "[5 rows x 12 columns]"
            ]
          },
          "metadata": {
            "tags": []
          },
          "execution_count": 36
        }
      ]
    },
    {
      "cell_type": "code",
      "metadata": {
        "colab": {
          "base_uri": "https://localhost:8080/"
        },
        "id": "h_vQnyafZwu-",
        "outputId": "721a7d2f-5b83-4ff1-c9df-7e4bba8e3c0f"
      },
      "source": [
        "print( f'原始資料長相：{titanic_data.shape}\\n' )\n",
        "print( f'每個欄位缺失值的總數：\\n{titanic_data.isnull( ).sum()}\\n' )"
      ],
      "execution_count": null,
      "outputs": [
        {
          "output_type": "stream",
          "text": [
            "原始資料長相：(1309, 12)\n",
            "\n",
            "每個欄位缺失值的總數：\n",
            "PassengerId       0\n",
            "Survived        418\n",
            "Pclass            0\n",
            "Name              0\n",
            "Sex               0\n",
            "Age             263\n",
            "SibSp             0\n",
            "Parch             0\n",
            "Ticket            0\n",
            "Fare              1\n",
            "Cabin          1014\n",
            "Embarked          2\n",
            "dtype: int64\n",
            "\n"
          ],
          "name": "stdout"
        }
      ]
    },
    {
      "cell_type": "markdown",
      "metadata": {
        "id": "QFwetXtQ28QX"
      },
      "source": [
        "### Step 2：資料處理"
      ]
    },
    {
      "cell_type": "markdown",
      "metadata": {
        "id": "HUiCSLS1yN4h"
      },
      "source": [
        "#### 01、新增欄位：標註 Age 是否為缺漏值的欄位 "
      ]
    },
    {
      "cell_type": "code",
      "metadata": {
        "id": "u863shTa5CCx"
      },
      "source": [
        "titanic_data['isAge'] = titanic_data['Age'].isnull().map( lambda x:0 if x==True else 1 )  # 有缺漏標為0"
      ],
      "execution_count": null,
      "outputs": []
    },
    {
      "cell_type": "markdown",
      "metadata": {
        "id": "yDzIo1wi5R9P"
      },
      "source": [
        "#### 02、抓出 Age 無缺漏，Pclass 非 3，存活者和死亡者的資料"
      ]
    },
    {
      "cell_type": "code",
      "metadata": {
        "id": "0Hdx4Bpb5VoG"
      },
      "source": [
        "index_S = (titanic_data.isAge==1)&(titanic_data.Pclass!=3)&(titanic_data.Survived==1)\n",
        "index_D = (titanic_data.isAge==1)&(titanic_data.Pclass!=3)&(titanic_data.Survived==0)"
      ],
      "execution_count": null,
      "outputs": []
    },
    {
      "cell_type": "markdown",
      "metadata": {
        "id": "RnMzCn8crbUQ"
      },
      "source": [
        "### Step 3：繪圖"
      ]
    },
    {
      "cell_type": "markdown",
      "metadata": {
        "id": "vNi5XUm4aA2J"
      },
      "source": [
        "最後，可以來看 Pclass 為 1 和 2 的分布"
      ]
    },
    {
      "cell_type": "code",
      "metadata": {
        "colab": {
          "base_uri": "https://localhost:8080/",
          "height": 274
        },
        "id": "TZrFlh3oaCtO",
        "outputId": "727bbb53-f844-473d-c665-3ef7d5af42ce"
      },
      "source": [
        "plt.figure( figsize=(14,5) )\n",
        "\n",
        "sns.histplot( titanic_data.loc[index_S, 'Age'], bins=20, color='blue', label='Survived' )\n",
        "sns.histplot( titanic_data.loc[index_D, 'Age'], bins=20, color='red', label='Dead' )\n",
        "\n",
        "plt.title( 'Pclass = 1 or 2' )\n",
        "plt.legend( )\n",
        "plt.show( )"
      ],
      "execution_count": null,
      "outputs": [
        {
          "output_type": "display_data",
          "data": {
            "image/png": "[encoded data removed]",
            "text/plain": [
              "<Figure size 1400x500 with 1 Axes>"
            ]
          },
          "metadata": {
            "tags": []
          }
        }
      ]
    },
    {
      "cell_type": "markdown",
      "metadata": {
        "id": "U4v6UCzWNNEd"
      },
      "source": [
        "# 結論"
      ]
    },
    {
      "cell_type": "markdown",
      "metadata": {
        "id": "t_1KntT6czq3"
      },
      "source": [
        "如同 Wikipedia 所述，有效的視覺化可以幫助用戶分析和推理資料和證據。它使複雜的資料更容易理解、理解和使用。當日後在進行資料分析時，建議讀者官方文件 [Matplotlib Tutorial](https://matplotlib.org/stable/tutorials/index.html) 及 [Seaborn Tutorial](https://seaborn.pydata.org/tutorial.html) 尋找方法，以累積程式除錯的能力與經驗。<br>\n",
        "針對本文的內容，若讀者們有發現任何的錯誤或疑問，非常歡迎您 [來信 sueshow2006@gmail.com](mailto:sueshow2006@gmail.com) 給予建議及討論，讓我們一同來學習成長！"
      ]
    },
    {
      "cell_type": "markdown",
      "metadata": {
        "id": "nwVrXSCDgw0a"
      },
      "source": [
        "# 參考資料"
      ]
    },
    {
      "cell_type": "markdown",
      "metadata": {
        "id": "Zf4SYTb8gyrI"
      },
      "source": [
        "* [Select by partial string from a pandas DataFrame](https://stackoverflow.com/questions/11350770/select-by-partial-string-from-a-pandas-dataframe)\n",
        "* [Titanic - Feature understanding from Plots](https://www.kaggle.com/saisivasriram/titanic-feature-understanding-from-plots)\n",
        "* [Titanic Analysis_Learning to Swim with Python](https://www.kaggle.com/sgus1318/titanic-analysis-learning-to-swim-with-python)\n",
        "* [python pandas pivot_table count frequency in one column](https://stackoverflow.com/questions/22412033/python-pandas-pivot-table-count-frequency-in-one-column)  \n",
        "* [matplotlib (上)](https://blog.csdn.net/bryant_meng/article/details/80980820)\n",
        "* [matplotlib and seaborn (下)](https://blog.csdn.net/bryant_meng/article/details/86383749)\n",
        "* [How to delete the last row of data of a pandas dataframe](https://stackoverflow.com/questions/26921651/how-to-delete-the-last-row-of-data-of-a-pandas-dataframe) \n",
        "* [如何在 Colab 中透過 Kaggle API 下載資料集](https://blog.toright.com/posts/6817/%E5%A6%82%E4%BD%95%E5%9C%A8-colab-%E4%B8%AD%E9%80%8F%E9%81%8E-kaggle-api-%E4%B8%8B%E8%BC%89%E8%B3%87%E6%96%99%E9%9B%86.html)"
      ]
    },
    {
      "cell_type": "markdown",
      "metadata": {
        "id": "NY3HmF15aTRm"
      },
      "source": [
        "# 返回 [課程大綱](https://github.com/AI-FREE-Team/Machine-Learning-Basic)"
      ]
    }
  ]
}