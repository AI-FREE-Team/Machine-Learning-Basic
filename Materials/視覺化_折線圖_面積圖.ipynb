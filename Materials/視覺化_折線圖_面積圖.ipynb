{
  "nbformat": 4,
  "nbformat_minor": 0,
  "metadata": {
    "colab": {
      "name": "視覺化-折線圖/面積圖.ipynb",
      "provenance": [],
      "collapsed_sections": [
        "U4v6UCzWNNEd",
        "NY3HmF15aTRm"
      ],
      "toc_visible": true,
      "authorship_tag": "ABX9TyPZHSZhwYJ9FbdmabNYH784",
      "include_colab_link": true
    },
    "kernelspec": {
      "name": "python3",
      "display_name": "Python 3"
    },
    "language_info": {
      "name": "python"
    }
  },
  "cells": [
    {
      "cell_type": "markdown",
      "metadata": {
        "id": "view-in-github",
        "colab_type": "text"
      },
      "source": [
        "<a href=\"https://colab.research.google.com/github/AI-FREE-Team/Machine-Learning-Basic/blob/master/Materials/%E8%A6%96%E8%A6%BA%E5%8C%96_%E6%8A%98%E7%B7%9A%E5%9C%96_%E9%9D%A2%E7%A9%8D%E5%9C%96.ipynb\" target=\"_parent\"><img src=\"https://colab.research.google.com/assets/colab-badge.svg\" alt=\"Open In Colab\"/></a>"
      ]
    },
    {
      "cell_type": "markdown",
      "metadata": {
        "id": "vH1Z1Vx3gnON"
      },
      "source": [
        "![Logo](https://raw.githubusercontent.com/AI-FREE-Team/Machine-Learning-Basic/main/README_imgs/aifreeteam.png) \n",
        "<center>Welcome to the course《Python: from business analytics to Artificial Intelligence》by AI . FREE Team.</center>\n",
        "<center>歡迎大家來到 AI . FREE Team 《Python 從商業分析到人工智慧》的第二堂課 - 機器學習(ML)基礎教學。 </center>\n",
        "<br/>\n",
        "\n",
        "<center>作者: Michelle Chuang (<a href=\"https://github.com/sueshow\">Github</a>)</center>\n",
        "<center>AI . FREE Team: <a href=\"https://aifreeblog.herokuapp.com/\">https://aifreeblog.herokuapp.com/</a></center>\n",
        "<br>"
      ]
    },
    {
      "cell_type": "markdown",
      "metadata": {
        "id": "cYuQGWSkgqIQ"
      },
      "source": [
        "# 前言"
      ]
    },
    {
      "cell_type": "markdown",
      "metadata": {
        "id": "T-xoBT8Y3cFd"
      },
      "source": [
        "本文開始帶領大家以視覺化的統計圖表探索資料，將介紹 <font color=\"#00dd00\">**Line Chart**</font> 和 <font color=\"#00dd00\">**Area Plot**</font> ，讓大家瞭解如何善用統計圖表說明資料。在開始之前別忘了匯入中文字型喔！要先把檔案放到右側 file 夾中，確認上傳完成後再執行下面的語法"
      ]
    },
    {
      "cell_type": "code",
      "metadata": {
        "id": "3dHuCd804rq4"
      },
      "source": [
        "import matplotlib as mpl\n",
        "\n",
        "mpl.font_manager.fontManager.addfont( 'taipei_sans_tc_beta.ttf' )\n",
        "mpl.rc( 'font', family='Taipei Sans TC Beta' )"
      ],
      "execution_count": null,
      "outputs": []
    },
    {
      "cell_type": "markdown",
      "metadata": {
        "id": "JHXRhR45gvX0"
      },
      "source": [
        "## 匯入基本套件"
      ]
    },
    {
      "cell_type": "code",
      "metadata": {
        "id": "q6YGgfZ9ig_D",
        "colab": {
          "base_uri": "https://localhost:8080/"
        },
        "outputId": "44dcb0d8-8187-4b98-bde8-a30f4526ca4a"
      },
      "source": [
        "import numpy as np \n",
        "import pandas as pd \n",
        "import matplotlib\n",
        "import matplotlib.pyplot as plt   # 繪製影像 \n",
        "\n",
        "print( 'NumPy 版本: ', np.__version__ )\n",
        "print( 'Pandas 版本: ', pd.__version__ )  \n",
        "print( 'Matplotlib 版本: ', matplotlib.__version__ )"
      ],
      "execution_count": null,
      "outputs": [
        {
          "output_type": "stream",
          "text": [
            "NumPy 版本:  1.19.5\n",
            "Pandas 版本:  1.1.5\n",
            "Matplotlib 版本:  3.2.2\n"
          ],
          "name": "stdout"
        }
      ]
    },
    {
      "cell_type": "markdown",
      "metadata": {
        "id": "0eMf1TSMgwbA"
      },
      "source": [
        "## 簡介資料集"
      ]
    },
    {
      "cell_type": "markdown",
      "metadata": {
        "id": "B0s4E7NZiRXu"
      },
      "source": [
        "### 資料集03 - Wine Reviews"
      ]
    },
    {
      "cell_type": "markdown",
      "metadata": {
        "id": "7oFCLMtTiXCQ"
      },
      "source": [
        "* 資料來源：自 Kaggle 上 [Wine Reviews](https://www.kaggle.com/zynicide/wine-reviews) 取得\n",
        "<br>\n",
        "* 資料說明：在 2017 年 6 月 15 日那周從 [WineEnthusiast](https://www.winemag.com/?s=&drink_type=wine) 取得。\n",
        "<br>\n",
        "* Kaggle 目標：根據侍酒師的評論來識別葡萄酒的品種。"
      ]
    },
    {
      "cell_type": "code",
      "metadata": {
        "id": "i4MbgQFFhrtE"
      },
      "source": [
        "wine_reviews = pd.read_csv('/content/drive/My Drive/Colab Notebooks/視覺化/Input/winemag-data-130k-v2.csv', index_col=0)\n",
        "wine_reviews.head()"
      ],
      "execution_count": null,
      "outputs": []
    },
    {
      "cell_type": "markdown",
      "metadata": {
        "id": "K1EzOQNmhrBY"
      },
      "source": [
        "# 折線圖/趨勢線 (Line Chart)"
      ]
    },
    {
      "cell_type": "markdown",
      "metadata": {
        "id": "as5h5wABi2TK"
      },
      "source": [
        "折線圖 (Line Chart) 常用來觀察資料的變化趨勢，如：公司每月的營收、網站一天中各時段的瀏覽量等。</br>"
      ]
    },
    {
      "cell_type": "markdown",
      "metadata": {
        "id": "aEAGzYhKruqJ"
      },
      "source": [
        "## 實際應用：COVID-19"
      ]
    },
    {
      "cell_type": "code",
      "metadata": {
        "cellView": "form",
        "colab": {
          "base_uri": "https://localhost:8080/",
          "height": 621
        },
        "id": "BHeqCw2oi5AB",
        "outputId": "ba059ae9-c8cf-4a00-a1b2-e74e0afaf0f9"
      },
      "source": [
        "#@markdown 資料來源：[Our World in Data](https://ourworldindata.org/explorers/coronavirus-data-explorer?zoomToSelection=true&time=earliest..2021-05-03&pickerSort=asc&pickerMetric=location&Metric=Confirmed+cases&Interval=7-day+rolling+average&Relative+to+Population=true&Align+outbreaks=false&country=USA~GBR~DEU~CHN~KOR~TWN~JPN)\n",
        "\n",
        "from IPython.core.display import HTML\n",
        "\n",
        "HTML('<iframe src=\"https://ourworldindata.org/explorers/coronavirus-data-explorer?zoomToSelection=true&time=earliest..2021-05-03&pickerSort=asc&pickerMetric=location&Metric=Confirmed+cases&Interval=7-day+rolling+average&Relative+to+Population=true&Align+outbreaks=false&country=USA~GBR~DEU~CHN~KOR~TWN~JPN&hideControls=true\" loading=\"lazy\" style=\"width: 100%; height: 600px; border: 0px none;\"></iframe>' )"
      ],
      "execution_count": null,
      "outputs": [
        {
          "output_type": "execute_result",
          "data": {
            "text/html": [
              "<iframe src=\"https://ourworldindata.org/explorers/coronavirus-data-explorer?zoomToSelection=true&time=earliest..2021-05-03&pickerSort=asc&pickerMetric=location&Metric=Confirmed+cases&Interval=7-day+rolling+average&Relative+to+Population=true&Align+outbreaks=false&country=USA~GBR~DEU~CHN~KOR~TWN~JPN&hideControls=true\" loading=\"lazy\" style=\"width: 100%; height: 600px; border: 0px none;\"></iframe>"
            ],
            "text/plain": [
              "<IPython.core.display.HTML object>"
            ]
          },
          "metadata": {
            "tags": []
          },
          "execution_count": 1
        }
      ]
    },
    {
      "cell_type": "markdown",
      "metadata": {
        "id": "ugKRcg6XpkbZ"
      },
      "source": [
        "* 資料特性：會隨時間變動\n",
        "* 指令：[`matplotlib.pyplot.plot()`](https://matplotlib.org/stable/api/_as_gen/matplotlib.pyplot.plot.html)\n",
        "* 說明：可在直角坐標平面中繪製折線圖\n",
        "* 常用參數\n",
        "  * linestyle (ls)：線條的樣式，其他的樣式請參考 [Linestyles](https://matplotlib.org/stable/gallery/lines_bars_and_markers/linestyles.html)\n",
        "    * '-'：實線\n",
        "    * '--'：虛線\n",
        "    * '_.'：點虛線\n",
        "    * ':'：點線\n",
        "  * linewidth (lw)：線條的寬度    \n",
        "  * marker：標記點的樣式，其他的樣式請參考 [matplotlib.markers](https://matplotlib.org/stable/api/markers_api.html#module-matplotlib.markers)\n",
        "    * 'o'：圓圈 \n",
        "    * '*'：星號\n",
        "    * '+'：加號   \n",
        "  * markersize：標記點的大小\n",
        "  * color：線條與標記點的顏色，可透過顏色代號或 RGB 序對進行設定，下列為常用的顏色代號與序對  \n",
        "    * 紅色：'r' / (1,0,0) \n",
        "    * 綠色：'g' / (0,1,0) \n",
        "    * 藍色：'b' / (0,0,1) \n",
        "    * 黃色：'y' / (1,1,0)   \n",
        "  * alpha：折線圖的透明度，參數範圍為 $[0,1]$，其中，0 表示完全透明，1 表示不透明。"
      ]
    },
    {
      "cell_type": "markdown",
      "metadata": {
        "id": "fXgSTgKF23lm"
      },
      "source": [
        "## 小範例"
      ]
    },
    {
      "cell_type": "code",
      "metadata": {
        "colab": {
          "base_uri": "https://localhost:8080/",
          "height": 265
        },
        "id": "sdOhNuF72-l3",
        "outputId": "ddd15c0b-a098-41e9-b0a8-c6529bee447b"
      },
      "source": [
        "# Data \n",
        "x = np.arange(0,5,0.2)\n",
        "y1 = x \n",
        "y2 = x**2\n",
        "\n",
        "# 折線圖 Line Chart\n",
        "plt.plot( x, y1, linestyle='-', linewidth=1, marker='o', color='r' )\n",
        "plt.plot( x, y2, linestyle='--', linewidth=5, marker='*', color='b', alpha=0.5 )\n",
        "\n",
        "plt.show()"
      ],
      "execution_count": null,
      "outputs": [
        {
          "output_type": "display_data",
          "data": {
            "image/png": "[encoded data removed]",
            "text/plain": [
              "<Figure size 432x288 with 1 Axes>"
            ]
          },
          "metadata": {
            "tags": [],
            "needs_background": "light"
          }
        }
      ]
    },
    {
      "cell_type": "markdown",
      "metadata": {
        "id": "kFjzgOs-gvvu"
      },
      "source": [
        "## 實作範例 - COVID-19 疫情"
      ]
    },
    {
      "cell_type": "markdown",
      "metadata": {
        "id": "06-trgjRWrsf"
      },
      "source": [
        "* 資料來源 : [COVID-19 全球疫情地圖](https://covid-19.nchc.org.tw/dt_005-covidTable_taiwan.php?downloadall=yes) COVID-19 疫情紀錄表單  \n",
        "* 資料下載時間 : 2021/6/12 09:15 PM"
      ]
    },
    {
      "cell_type": "markdown",
      "metadata": {
        "id": "t6NE11W2t4zx"
      },
      "source": [
        "### Step 1：匯入資料"
      ]
    },
    {
      "cell_type": "markdown",
      "metadata": {
        "id": "JmTtg50x1E8n"
      },
      "source": [
        "首先，透過程式碼將資料集檔案 (excel) 從 GitHub 下載"
      ]
    },
    {
      "cell_type": "code",
      "metadata": {
        "colab": {
          "base_uri": "https://localhost:8080/"
        },
        "id": "tB87xF7Zz_cv",
        "outputId": "b69ecc4e-aeb8-4ce2-bf78-cc16edb81af5"
      },
      "source": [
        "!git clone https://github.com/AI-FREE-Team/Machine-Learning-Basic.git"
      ],
      "execution_count": null,
      "outputs": [
        {
          "output_type": "stream",
          "text": [
            "Cloning into 'Machine-Learning-Basic'...\n",
            "remote: Enumerating objects: 164, done.\u001b[K\n",
            "remote: Counting objects: 100% (164/164), done.\u001b[K\n",
            "remote: Compressing objects: 100% (141/141), done.\u001b[K\n",
            "remote: Total 164 (delta 64), reused 68 (delta 16), pack-reused 0\u001b[K\n",
            "Receiving objects: 100% (164/164), 11.61 MiB | 22.65 MiB/s, done.\n",
            "Resolving deltas: 100% (64/64), done.\n"
          ],
          "name": "stdout"
        }
      ]
    },
    {
      "cell_type": "code",
      "metadata": {
        "id": "tBGyqOqRYU92"
      },
      "source": [
        "#若需要重新下載資料，語法：\n",
        "#!rm -r /content/Machine-Learning-Basic"
      ],
      "execution_count": null,
      "outputs": []
    },
    {
      "cell_type": "code",
      "metadata": {
        "id": "Dvjg0q11hsSI",
        "colab": {
          "base_uri": "https://localhost:8080/",
          "height": 486
        },
        "outputId": "bb9bbb7b-ea14-485f-a6a5-61315656cc1f"
      },
      "source": [
        "# 匯入 xlsx 檔\n",
        "raw_data = pd.read_excel( '/content/Machine-Learning-Basic/Content/COVID-19/owl_tw.xlsx', header=1  )\n",
        "raw_data.head()"
      ],
      "execution_count": null,
      "outputs": [
        {
          "output_type": "execute_result",
          "data": {
            "text/html": [
              "<div>\n",
              "<style scoped>\n",
              "    .dataframe tbody tr th:only-of-type {\n",
              "        vertical-align: middle;\n",
              "    }\n",
              "\n",
              "    .dataframe tbody tr th {\n",
              "        vertical-align: top;\n",
              "    }\n",
              "\n",
              "    .dataframe thead th {\n",
              "        text-align: right;\n",
              "    }\n",
              "</style>\n",
              "<table border=\"1\" class=\"dataframe\">\n",
              "  <thead>\n",
              "    <tr style=\"text-align: right;\">\n",
              "      <th></th>\n",
              "      <th>ID</th>\n",
              "      <th>iso_code</th>\n",
              "      <th>洲名</th>\n",
              "      <th>國家</th>\n",
              "      <th>日期</th>\n",
              "      <th>總確診數</th>\n",
              "      <th>新增確診數</th>\n",
              "      <th>七天移動平均新增確診數</th>\n",
              "      <th>總死亡數</th>\n",
              "      <th>新增死亡數</th>\n",
              "      <th>七天移動平均新增死亡數</th>\n",
              "      <th>每百萬人確診數</th>\n",
              "      <th>每百萬人死亡數</th>\n",
              "      <th>傳染率</th>\n",
              "      <th>新增檢驗件數</th>\n",
              "      <th>總檢驗件數</th>\n",
              "      <th>每千人檢驗件數</th>\n",
              "      <th>七天移動平均新增檢驗件數</th>\n",
              "      <th>陽性率</th>\n",
              "      <th>每確診案例相對檢驗數量</th>\n",
              "      <th>疫苗總接種總劑數</th>\n",
              "      <th>疫苗總接種人數</th>\n",
              "      <th>疫苗新增接種劑數</th>\n",
              "      <th>七天移動平均疫苗新增接種劑數</th>\n",
              "      <th>每百人接種疫苗劑數</th>\n",
              "      <th>每百人接種疫苗人數</th>\n",
              "      <th>疫情控管指數</th>\n",
              "      <th>總人口數</th>\n",
              "      <th>中位數年紀</th>\n",
              "      <th>70歲以上人口比例</th>\n",
              "      <th>平均壽命</th>\n",
              "    </tr>\n",
              "  </thead>\n",
              "  <tbody>\n",
              "    <tr>\n",
              "      <th>0</th>\n",
              "      <td>513</td>\n",
              "      <td>TWN</td>\n",
              "      <td>亞洲</td>\n",
              "      <td>台灣</td>\n",
              "      <td>2021-06-11</td>\n",
              "      <td>12500</td>\n",
              "      <td>278</td>\n",
              "      <td>293.429</td>\n",
              "      <td>385</td>\n",
              "      <td>24</td>\n",
              "      <td>28.286</td>\n",
              "      <td>524.840</td>\n",
              "      <td>16.165</td>\n",
              "      <td>0.00</td>\n",
              "      <td>0</td>\n",
              "      <td>0</td>\n",
              "      <td>0.000</td>\n",
              "      <td>0</td>\n",
              "      <td>0.000</td>\n",
              "      <td>0.0</td>\n",
              "      <td>799129</td>\n",
              "      <td>799129</td>\n",
              "      <td>16829</td>\n",
              "      <td>17244</td>\n",
              "      <td>3.36</td>\n",
              "      <td>3.36</td>\n",
              "      <td>0.0</td>\n",
              "      <td>23816775</td>\n",
              "      <td>42.2</td>\n",
              "      <td>8.353</td>\n",
              "      <td>80.46</td>\n",
              "    </tr>\n",
              "    <tr>\n",
              "      <th>1</th>\n",
              "      <td>512</td>\n",
              "      <td>TWN</td>\n",
              "      <td>亞洲</td>\n",
              "      <td>台灣</td>\n",
              "      <td>2021-06-10</td>\n",
              "      <td>12222</td>\n",
              "      <td>254</td>\n",
              "      <td>321.143</td>\n",
              "      <td>361</td>\n",
              "      <td>28</td>\n",
              "      <td>27.857</td>\n",
              "      <td>513.168</td>\n",
              "      <td>15.157</td>\n",
              "      <td>0.00</td>\n",
              "      <td>22852</td>\n",
              "      <td>804931</td>\n",
              "      <td>33.797</td>\n",
              "      <td>25468</td>\n",
              "      <td>0.013</td>\n",
              "      <td>79.3</td>\n",
              "      <td>782300</td>\n",
              "      <td>782300</td>\n",
              "      <td>22554</td>\n",
              "      <td>22595</td>\n",
              "      <td>3.28</td>\n",
              "      <td>3.28</td>\n",
              "      <td>0.0</td>\n",
              "      <td>23816775</td>\n",
              "      <td>42.2</td>\n",
              "      <td>8.353</td>\n",
              "      <td>80.46</td>\n",
              "    </tr>\n",
              "    <tr>\n",
              "      <th>2</th>\n",
              "      <td>511</td>\n",
              "      <td>TWN</td>\n",
              "      <td>亞洲</td>\n",
              "      <td>台灣</td>\n",
              "      <td>2021-06-09</td>\n",
              "      <td>11968</td>\n",
              "      <td>274</td>\n",
              "      <td>368.429</td>\n",
              "      <td>333</td>\n",
              "      <td>25</td>\n",
              "      <td>26.286</td>\n",
              "      <td>502.503</td>\n",
              "      <td>13.982</td>\n",
              "      <td>1.25</td>\n",
              "      <td>29800</td>\n",
              "      <td>782079</td>\n",
              "      <td>32.837</td>\n",
              "      <td>26200</td>\n",
              "      <td>0.014</td>\n",
              "      <td>71.1</td>\n",
              "      <td>759746</td>\n",
              "      <td>759746</td>\n",
              "      <td>16168</td>\n",
              "      <td>28245</td>\n",
              "      <td>3.19</td>\n",
              "      <td>3.19</td>\n",
              "      <td>0.0</td>\n",
              "      <td>23816775</td>\n",
              "      <td>42.2</td>\n",
              "      <td>8.353</td>\n",
              "      <td>80.46</td>\n",
              "    </tr>\n",
              "    <tr>\n",
              "      <th>3</th>\n",
              "      <td>510</td>\n",
              "      <td>TWN</td>\n",
              "      <td>亞洲</td>\n",
              "      <td>台灣</td>\n",
              "      <td>2021-06-08</td>\n",
              "      <td>11694</td>\n",
              "      <td>203</td>\n",
              "      <td>407.429</td>\n",
              "      <td>308</td>\n",
              "      <td>22</td>\n",
              "      <td>24.429</td>\n",
              "      <td>490.998</td>\n",
              "      <td>12.932</td>\n",
              "      <td>1.25</td>\n",
              "      <td>29954</td>\n",
              "      <td>752279</td>\n",
              "      <td>31.586</td>\n",
              "      <td>26049</td>\n",
              "      <td>0.016</td>\n",
              "      <td>63.9</td>\n",
              "      <td>743578</td>\n",
              "      <td>743578</td>\n",
              "      <td>18759</td>\n",
              "      <td>30264</td>\n",
              "      <td>3.12</td>\n",
              "      <td>3.12</td>\n",
              "      <td>0.0</td>\n",
              "      <td>23816775</td>\n",
              "      <td>42.2</td>\n",
              "      <td>8.353</td>\n",
              "      <td>80.46</td>\n",
              "    </tr>\n",
              "    <tr>\n",
              "      <th>4</th>\n",
              "      <td>509</td>\n",
              "      <td>TWN</td>\n",
              "      <td>亞洲</td>\n",
              "      <td>台灣</td>\n",
              "      <td>2021-06-07</td>\n",
              "      <td>11491</td>\n",
              "      <td>193</td>\n",
              "      <td>425.714</td>\n",
              "      <td>286</td>\n",
              "      <td>26</td>\n",
              "      <td>23.143</td>\n",
              "      <td>482.475</td>\n",
              "      <td>12.008</td>\n",
              "      <td>1.26</td>\n",
              "      <td>32829</td>\n",
              "      <td>722325</td>\n",
              "      <td>30.328</td>\n",
              "      <td>26179</td>\n",
              "      <td>0.016</td>\n",
              "      <td>61.5</td>\n",
              "      <td>724819</td>\n",
              "      <td>724819</td>\n",
              "      <td>25632</td>\n",
              "      <td>31912</td>\n",
              "      <td>3.04</td>\n",
              "      <td>3.04</td>\n",
              "      <td>0.0</td>\n",
              "      <td>23816775</td>\n",
              "      <td>42.2</td>\n",
              "      <td>8.353</td>\n",
              "      <td>80.46</td>\n",
              "    </tr>\n",
              "  </tbody>\n",
              "</table>\n",
              "</div>"
            ],
            "text/plain": [
              "    ID iso_code  洲名  國家          日期  ...  疫情控管指數      總人口數  中位數年紀  70歲以上人口比例   平均壽命\n",
              "0  513      TWN  亞洲  台灣  2021-06-11  ...     0.0  23816775   42.2      8.353  80.46\n",
              "1  512      TWN  亞洲  台灣  2021-06-10  ...     0.0  23816775   42.2      8.353  80.46\n",
              "2  511      TWN  亞洲  台灣  2021-06-09  ...     0.0  23816775   42.2      8.353  80.46\n",
              "3  510      TWN  亞洲  台灣  2021-06-08  ...     0.0  23816775   42.2      8.353  80.46\n",
              "4  509      TWN  亞洲  台灣  2021-06-07  ...     0.0  23816775   42.2      8.353  80.46\n",
              "\n",
              "[5 rows x 31 columns]"
            ]
          },
          "metadata": {
            "tags": []
          },
          "execution_count": 21
        }
      ]
    },
    {
      "cell_type": "code",
      "metadata": {
        "colab": {
          "base_uri": "https://localhost:8080/"
        },
        "id": "7bhF24q-ZgQV",
        "outputId": "b5d25730-d824-42f0-802e-b2d11d5c3499"
      },
      "source": [
        "# 檢視各欄位的資料型態\n",
        "raw_data.info()"
      ],
      "execution_count": null,
      "outputs": [
        {
          "output_type": "stream",
          "text": [
            "<class 'pandas.core.frame.DataFrame'>\n",
            "RangeIndex: 513 entries, 0 to 512\n",
            "Data columns (total 31 columns):\n",
            " #   Column          Non-Null Count  Dtype  \n",
            "---  ------          --------------  -----  \n",
            " 0   ID              513 non-null    int64  \n",
            " 1   iso_code        513 non-null    object \n",
            " 2   洲名              513 non-null    object \n",
            " 3   國家              513 non-null    object \n",
            " 4   日期              513 non-null    object \n",
            " 5   總確診數            513 non-null    int64  \n",
            " 6   新增確診數           513 non-null    int64  \n",
            " 7   七天移動平均新增確診數     513 non-null    float64\n",
            " 8   總死亡數            513 non-null    int64  \n",
            " 9   新增死亡數           513 non-null    int64  \n",
            " 10  七天移動平均新增死亡數     513 non-null    float64\n",
            " 11  每百萬人確診數         513 non-null    float64\n",
            " 12  每百萬人死亡數         513 non-null    float64\n",
            " 13  傳染率             513 non-null    float64\n",
            " 14  新增檢驗件數          513 non-null    int64  \n",
            " 15  總檢驗件數           513 non-null    int64  \n",
            " 16  每千人檢驗件數         513 non-null    float64\n",
            " 17  七天移動平均新增檢驗件數    513 non-null    int64  \n",
            " 18  陽性率             513 non-null    float64\n",
            " 19  每確診案例相對檢驗數量     513 non-null    float64\n",
            " 20  疫苗總接種總劑數        513 non-null    int64  \n",
            " 21  疫苗總接種人數         513 non-null    int64  \n",
            " 22  疫苗新增接種劑數        513 non-null    int64  \n",
            " 23  七天移動平均疫苗新增接種劑數  513 non-null    int64  \n",
            " 24  每百人接種疫苗劑數       513 non-null    float64\n",
            " 25  每百人接種疫苗人數       513 non-null    float64\n",
            " 26  疫情控管指數          513 non-null    float64\n",
            " 27  總人口數            513 non-null    int64  \n",
            " 28  中位數年紀           513 non-null    float64\n",
            " 29  70歲以上人口比例       513 non-null    float64\n",
            " 30  平均壽命            513 non-null    float64\n",
            "dtypes: float64(14), int64(13), object(4)\n",
            "memory usage: 124.4+ KB\n"
          ],
          "name": "stdout"
        }
      ]
    },
    {
      "cell_type": "markdown",
      "metadata": {
        "id": "tw4sXXvryp51"
      },
      "source": [
        "### Step 2：資料處理"
      ]
    },
    {
      "cell_type": "code",
      "metadata": {
        "id": "eJN7a-ADyqG0"
      },
      "source": [
        ""
      ],
      "execution_count": null,
      "outputs": []
    },
    {
      "cell_type": "markdown",
      "metadata": {
        "id": "91lNf1EeyqRz"
      },
      "source": [
        "### Step 3：繪圖"
      ]
    },
    {
      "cell_type": "code",
      "metadata": {
        "id": "DH3EXbM4yqdF"
      },
      "source": [
        ""
      ],
      "execution_count": null,
      "outputs": []
    },
    {
      "cell_type": "markdown",
      "metadata": {
        "id": "-YjR0Jk0gv5X"
      },
      "source": [
        "# 面積圖 (Area Plot)"
      ]
    },
    {
      "cell_type": "markdown",
      "metadata": {
        "id": "KoUGC4mPutQp"
      },
      "source": [
        "面積圖 (Stacked Area Chart) 係用來觀察整體資料中不同類別之間的變化趨勢，非常適合用以表示多個類別與整體係如何隨著時間變化，如：公司所有產品每月的銷售量等。"
      ]
    },
    {
      "cell_type": "markdown",
      "metadata": {
        "id": "wyrvfsOrwAyp"
      },
      "source": [
        "## 實際應用：$CO_2$"
      ]
    },
    {
      "cell_type": "code",
      "metadata": {
        "cellView": "form",
        "colab": {
          "base_uri": "https://localhost:8080/",
          "height": 621
        },
        "id": "ecwrTybivdG5",
        "outputId": "addd98fc-8790-44d3-f630-7f4279ea3e56"
      },
      "source": [
        "#@markdown 資料來源: [Our World in Data](https://ourworldindata.org/grapher/annual-co-emissions-by-region)\n",
        "\n",
        "from IPython.core.display import HTML\n",
        "\n",
        "HTML('<iframe src=\"https://ourworldindata.org/grapher/annual-co-emissions-by-region\" loading=\"lazy\" style=\"width: 100%; height: 600px; border: 0px none;\"></iframe>')"
      ],
      "execution_count": null,
      "outputs": [
        {
          "output_type": "execute_result",
          "data": {
            "text/html": [
              "<iframe src=\"https://ourworldindata.org/grapher/annual-co-emissions-by-region\" loading=\"lazy\" style=\"width: 100%; height: 600px; border: 0px none;\"></iframe>"
            ],
            "text/plain": [
              "<IPython.core.display.HTML object>"
            ]
          },
          "metadata": {
            "tags": []
          },
          "execution_count": 2
        }
      ]
    },
    {
      "cell_type": "markdown",
      "metadata": {
        "id": "QFwetXtQ28QX"
      },
      "source": [
        "## 小範例"
      ]
    },
    {
      "cell_type": "markdown",
      "metadata": {
        "id": "HUiCSLS1yN4h"
      },
      "source": [
        "我們可透過兩種方式來繪製堆疊面積圖 :   \n",
        "* 方法一 : 使用 [`matplotlib.pyplot.fill_between()`](https://matplotlib.org/stable/api/_as_gen/matplotlib.pyplot.fill_between.html) 函數填滿折線圖( Line Chart )的折線下面積"
      ]
    },
    {
      "cell_type": "code",
      "metadata": {
        "id": "u863shTa5CCx"
      },
      "source": [
        "# Data \n",
        "x = np.arange(0,5,0.2)\n",
        "y1 = x \n",
        "y2 = x**2\n",
        "y3 = y1+y2\n",
        "\n",
        "# 堆疊面積圖 Stacked Area Chart\n",
        "plt.plot( x, y3, color='r', label='y=x+x^2' )\n",
        "plt.plot( x, y2, color='g', label='y=x^2' )\n",
        "plt.plot( x, y1, color='b',label='y=x' )\n",
        "plt.fill_between( x, y3, color='r' )\n",
        "plt.fill_between( x, y2, color='g' )\n",
        "plt.fill_between( x, y1, color='b' )\n",
        "\n",
        "# 設定圖例的位置\n",
        "plt.legend( loc='upper left' )\n",
        "\n",
        "plt.show()"
      ],
      "execution_count": null,
      "outputs": []
    },
    {
      "cell_type": "markdown",
      "metadata": {
        "id": "yDzIo1wi5R9P"
      },
      "source": [
        "* 方法二 : 使用 [`matplotlib.pyplot.stackplot()`](https://matplotlib.org/stable/api/_as_gen/matplotlib.pyplot.stackplot.html) 函數繪製堆疊面積圖。"
      ]
    },
    {
      "cell_type": "code",
      "metadata": {
        "id": "0Hdx4Bpb5VoG"
      },
      "source": [
        "# Data \n",
        "x = np.arange(0,5,0.2)\n",
        "y1 = x \n",
        "y2 = x**2\n",
        "y3 = y1+y2\n",
        "\n",
        "# 堆疊面積圖 Stacked Area Chart\n",
        "plt.stackplot( x, y1, y2, y3, colors=['b','g','r'], labels=['y=x','y=x^2','y=x+x^2'] )\n",
        "\n",
        "# 設定圖例的位置\n",
        "plt.legend( loc='upper left' )\n",
        "\n",
        "plt.show()"
      ],
      "execution_count": null,
      "outputs": []
    },
    {
      "cell_type": "markdown",
      "metadata": {
        "id": "Gltmyn2qwOPn"
      },
      "source": [
        "## 實作範例 - 鐵達尼號"
      ]
    },
    {
      "cell_type": "markdown",
      "metadata": {
        "id": "s-dg30Qzxqx1"
      },
      "source": [
        "### Step 1：匯入資料"
      ]
    },
    {
      "cell_type": "markdown",
      "metadata": {
        "id": "38xaRlpViDpu"
      },
      "source": [
        "* 資料來源：自 Kaggle 上 [鐵達尼號生存預測比賽](https://www.kaggle.com/c/titanic/overview/description) 取得，鐵達尼號已成為歷史上最著名的船舶之一。\n",
        "<br>\n",
        "* 資料說明：1912 年 4 月 10 日，鐵達尼號展開首航，也是唯一一次的載客出航，最終目的地為紐約。部分乘客為當時世界上頂尖富豪，以及許多來自英國、愛爾蘭、斯堪地那維亞和歐洲其他地區的移民，他們尋求在美國展開新生活的機會。4月15日在中途發生擦撞冰山後沉沒的嚴重災難。2,224 名船上人員中有 1,514 人罹難，成為近代史上最嚴重的和平時期船難。船長愛德華·約翰·史密斯最終與船一起沉沒，鐵達尼號總設計師湯瑪斯·安德魯斯也在這起災難中死亡。\n",
        "<br>\n",
        "* Kaggle 目標：儘管倖存有一些運氣，但似乎有些人比其他人更有可能生存。在 Kaggle 比賽中，要求使用乘客數據 (如：姓名、年齡、性別、社會經濟階層等) 建立一個能夠「什麼樣的人更有可能生存」的模型。"
      ]
    },
    {
      "cell_type": "markdown",
      "metadata": {
        "id": "V2A5rIi5ZMM6"
      },
      "source": [
        "要記得把資料集檔案 (csv) 從 GitHub 下載下來喔！"
      ]
    },
    {
      "cell_type": "code",
      "metadata": {
        "id": "0vJfyBKMhf3B"
      },
      "source": [
        "#鐵達尼號 from kaggle\n",
        "titanic_train = pd.read_csv( '/content/Machine-Learning-Basic/Content/titanic/train.csv' )\n",
        "titanic_test = pd.read_csv( '/content/Machine-Learning-Basic/Content/titanic/test.csv' )\n",
        "titanic_submit = pd.read_csv( '/content/Machine-Learning-Basic/Content/titanic/gender_submission.csv' )"
      ],
      "execution_count": null,
      "outputs": []
    },
    {
      "cell_type": "code",
      "metadata": {
        "id": "hGtqa31ehiKm",
        "colab": {
          "base_uri": "https://localhost:8080/",
          "height": 345
        },
        "outputId": "84fa3f37-c993-4352-91e7-66e25799a6d8"
      },
      "source": [
        "# 合併 train 及 test 的資料 \n",
        "titanic_data = titanic_train.append( titanic_test, sort=False )\n",
        "titanic_data.head()"
      ],
      "execution_count": null,
      "outputs": [
        {
          "output_type": "execute_result",
          "data": {
            "text/html": [
              "<div>\n",
              "<style scoped>\n",
              "    .dataframe tbody tr th:only-of-type {\n",
              "        vertical-align: middle;\n",
              "    }\n",
              "\n",
              "    .dataframe tbody tr th {\n",
              "        vertical-align: top;\n",
              "    }\n",
              "\n",
              "    .dataframe thead th {\n",
              "        text-align: right;\n",
              "    }\n",
              "</style>\n",
              "<table border=\"1\" class=\"dataframe\">\n",
              "  <thead>\n",
              "    <tr style=\"text-align: right;\">\n",
              "      <th></th>\n",
              "      <th>PassengerId</th>\n",
              "      <th>Survived</th>\n",
              "      <th>Pclass</th>\n",
              "      <th>Name</th>\n",
              "      <th>Sex</th>\n",
              "      <th>Age</th>\n",
              "      <th>SibSp</th>\n",
              "      <th>Parch</th>\n",
              "      <th>Ticket</th>\n",
              "      <th>Fare</th>\n",
              "      <th>Cabin</th>\n",
              "      <th>Embarked</th>\n",
              "    </tr>\n",
              "  </thead>\n",
              "  <tbody>\n",
              "    <tr>\n",
              "      <th>0</th>\n",
              "      <td>1</td>\n",
              "      <td>0.0</td>\n",
              "      <td>3</td>\n",
              "      <td>Braund, Mr. Owen Harris</td>\n",
              "      <td>male</td>\n",
              "      <td>22.0</td>\n",
              "      <td>1</td>\n",
              "      <td>0</td>\n",
              "      <td>A/5 21171</td>\n",
              "      <td>7.2500</td>\n",
              "      <td>NaN</td>\n",
              "      <td>S</td>\n",
              "    </tr>\n",
              "    <tr>\n",
              "      <th>1</th>\n",
              "      <td>2</td>\n",
              "      <td>1.0</td>\n",
              "      <td>1</td>\n",
              "      <td>Cumings, Mrs. John Bradley (Florence Briggs Th...</td>\n",
              "      <td>female</td>\n",
              "      <td>38.0</td>\n",
              "      <td>1</td>\n",
              "      <td>0</td>\n",
              "      <td>PC 17599</td>\n",
              "      <td>71.2833</td>\n",
              "      <td>C85</td>\n",
              "      <td>C</td>\n",
              "    </tr>\n",
              "    <tr>\n",
              "      <th>2</th>\n",
              "      <td>3</td>\n",
              "      <td>1.0</td>\n",
              "      <td>3</td>\n",
              "      <td>Heikkinen, Miss. Laina</td>\n",
              "      <td>female</td>\n",
              "      <td>26.0</td>\n",
              "      <td>0</td>\n",
              "      <td>0</td>\n",
              "      <td>STON/O2. 3101282</td>\n",
              "      <td>7.9250</td>\n",
              "      <td>NaN</td>\n",
              "      <td>S</td>\n",
              "    </tr>\n",
              "    <tr>\n",
              "      <th>3</th>\n",
              "      <td>4</td>\n",
              "      <td>1.0</td>\n",
              "      <td>1</td>\n",
              "      <td>Futrelle, Mrs. Jacques Heath (Lily May Peel)</td>\n",
              "      <td>female</td>\n",
              "      <td>35.0</td>\n",
              "      <td>1</td>\n",
              "      <td>0</td>\n",
              "      <td>113803</td>\n",
              "      <td>53.1000</td>\n",
              "      <td>C123</td>\n",
              "      <td>S</td>\n",
              "    </tr>\n",
              "    <tr>\n",
              "      <th>4</th>\n",
              "      <td>5</td>\n",
              "      <td>0.0</td>\n",
              "      <td>3</td>\n",
              "      <td>Allen, Mr. William Henry</td>\n",
              "      <td>male</td>\n",
              "      <td>35.0</td>\n",
              "      <td>0</td>\n",
              "      <td>0</td>\n",
              "      <td>373450</td>\n",
              "      <td>8.0500</td>\n",
              "      <td>NaN</td>\n",
              "      <td>S</td>\n",
              "    </tr>\n",
              "  </tbody>\n",
              "</table>\n",
              "</div>"
            ],
            "text/plain": [
              "   PassengerId  Survived  Pclass  ...     Fare Cabin  Embarked\n",
              "0            1       0.0       3  ...   7.2500   NaN         S\n",
              "1            2       1.0       1  ...  71.2833   C85         C\n",
              "2            3       1.0       3  ...   7.9250   NaN         S\n",
              "3            4       1.0       1  ...  53.1000  C123         S\n",
              "4            5       0.0       3  ...   8.0500   NaN         S\n",
              "\n",
              "[5 rows x 12 columns]"
            ]
          },
          "metadata": {
            "tags": []
          },
          "execution_count": 9
        }
      ]
    },
    {
      "cell_type": "markdown",
      "metadata": {
        "id": "KgCBQ_-hhq5n"
      },
      "source": [
        "欄位說明如下：\n",
        "* PassengerId 乘客編號\n",
        "* Survived 是否倖存\n",
        "* Pclass 船票等級\n",
        "* Name 乘客姓名\n",
        "* Sex 乘客性別\n",
        "* Age 年齡\n",
        "* SibSp 堂兄弟妹\n",
        "* Parch 父母與小孩\n",
        "* Ticket 船票號碼\n",
        "* Fare 船票價格\n",
        "* Cabin 船艙\n",
        "* Embarked 登入港口"
      ]
    },
    {
      "cell_type": "markdown",
      "metadata": {
        "id": "fabGeWytxfS_"
      },
      "source": [
        "### Step 2：資料處理"
      ]
    },
    {
      "cell_type": "markdown",
      "metadata": {
        "id": "0lKkUuAZxiEX"
      },
      "source": [
        "* 新增欄位：標註 Age 是否為缺漏值的欄位 "
      ]
    },
    {
      "cell_type": "code",
      "metadata": {
        "id": "55x6-AMNgwHf"
      },
      "source": [
        "titanic_data['isAge'] = titanic_data['Age'].isnull().map( lambda x:0 if x==True else 1 )  # 有缺漏標為0"
      ],
      "execution_count": null,
      "outputs": []
    },
    {
      "cell_type": "markdown",
      "metadata": {
        "id": "g31dwx3ZybYZ"
      },
      "source": [
        "* 抓出 Age 無缺漏，Pclass 非 3，存活者和死亡者的資料"
      ]
    },
    {
      "cell_type": "code",
      "metadata": {
        "id": "4Z6T-Zq6yY9p"
      },
      "source": [
        "index_S = (titanic_data.isAge==1)&(titanic_data.Pclass!=3)&(titanic_data.Survived==1)\n",
        "index_D = (titanic_data.isAge==1)&(titanic_data.Pclass!=3)&(titanic_data.Survived==0)"
      ],
      "execution_count": null,
      "outputs": []
    },
    {
      "cell_type": "markdown",
      "metadata": {
        "id": "iIqJKPalx9vO"
      },
      "source": [
        "### Step 3：繪圖"
      ]
    },
    {
      "cell_type": "markdown",
      "metadata": {
        "id": "v3xKY9gDy0R6"
      },
      "source": [
        "最後，可以來看 Pclass 為 1 和 2 的分布"
      ]
    },
    {
      "cell_type": "code",
      "metadata": {
        "id": "mF3MUHM5x96Y"
      },
      "source": [
        "plt.figure( figsize=(14,5) )\n",
        "sns.histplot( titanic_data.loc[index_S,'Age'], bins=20, color='blue', label='Survived' )\n",
        "sns.histplot( titanic_data.loc[index_D,'Age'], bins=20, color='red', label='Dead' )\n",
        "plt.title( 'Pclass = 1 or 2' )\n",
        "plt.legend( )\n",
        "plt.show( )"
      ],
      "execution_count": null,
      "outputs": []
    },
    {
      "cell_type": "markdown",
      "metadata": {
        "id": "U4v6UCzWNNEd"
      },
      "source": [
        "# 結論"
      ]
    },
    {
      "cell_type": "markdown",
      "metadata": {
        "id": "nwVrXSCDgw0a"
      },
      "source": [
        "# 參考資料"
      ]
    },
    {
      "cell_type": "markdown",
      "metadata": {
        "id": "Zf4SYTb8gyrI"
      },
      "source": [
        "* [如何在 Colab 中透過 Kaggle API 下載資料集](https://blog.toright.com/posts/6817/%E5%A6%82%E4%BD%95%E5%9C%A8-colab-%E4%B8%AD%E9%80%8F%E9%81%8E-kaggle-api-%E4%B8%8B%E8%BC%89%E8%B3%87%E6%96%99%E9%9B%86.html)\n",
        "* [Titanic - Feature understanding from Plots](https://www.kaggle.com/saisivasriram/titanic-feature-understanding-from-plots)\n",
        "* [Titanic Analysis_Learning to Swim with Python](https://www.kaggle.com/sgus1318/titanic-analysis-learning-to-swim-with-python)"
      ]
    },
    {
      "cell_type": "markdown",
      "metadata": {
        "id": "NY3HmF15aTRm"
      },
      "source": [
        "# 返回 [課程大綱](https://github.com/AI-FREE-Team/Machine-Learning-Basic)"
      ]
    }
  ]
}