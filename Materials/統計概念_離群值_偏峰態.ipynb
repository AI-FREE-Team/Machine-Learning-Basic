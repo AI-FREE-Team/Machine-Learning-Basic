{
  "nbformat": 4,
  "nbformat_minor": 0,
  "metadata": {
    "colab": {
      "name": "統計概念_離群值_偏峰態.ipynb",
      "provenance": [],
      "collapsed_sections": [],
      "include_colab_link": true
    },
    "kernelspec": {
      "name": "python3",
      "display_name": "Python 3"
    },
    "language_info": {
      "name": "python"
    }
  },
  "cells": [
    {
      "cell_type": "markdown",
      "metadata": {
        "id": "view-in-github",
        "colab_type": "text"
      },
      "source": [
        "<a href=\"https://github.com/AI-FREE-Team/Machine-Learning-Basic/blob/main/Materials/%E7%B5%B1%E8%A8%88%E6%A6%82%E5%BF%B5_%E9%9B%A2%E7%BE%A4%E5%80%BC_%E5%81%8F%E5%B3%B0%E6%85%8B.ipynb\" target=\"_parent\"><img src=\"https://colab.research.google.com/assets/colab-badge.svg\" alt=\"Open In Colab\"/></a>"
      ]
    },
    {
      "cell_type": "markdown",
      "metadata": {
        "id": "Q72ayOpSma0X"
      },
      "source": [
        "![Logo](https://raw.githubusercontent.com/AI-FREE-Team/Machine-Learning-Basic/main/README_imgs/aifreeteam.png) \n",
        "<center>Welcome to the course《Python: from business analytics to Artificial Intelligence》by AI . FREE Team.</center>\n",
        "<center>歡迎大家來到 AI . FREE Team 《Python 從商業分析到人工智慧》的第二堂課 - 機器學習(ML)基礎教學。 </center>\n",
        "<br/>\n",
        "\n",
        "<center>作者: Michelle Chuang (<a href=\"https://github.com/sueshow\">Github</a>)</center>\n",
        "<center>AI . FREE Team: <a href=\"https://aifreeblog.herokuapp.com/\">https://aifreeblog.herokuapp.com/</a></center>\n",
        "<br>\n"
      ]
    },
    {
      "cell_type": "markdown",
      "metadata": {
        "id": "n5tvudOgCwqL"
      },
      "source": [
        "# 前言"
      ]
    },
    {
      "cell_type": "markdown",
      "metadata": {
        "id": "lL4Ft4WY0xra"
      },
      "source": [
        "本篇文章以 <font color=\"#00dd00\">**Python**</font> 3.7.10、<font color=\"#00dd00\">**Numpy**</font> 1.19.5、<font color=\"#00dd00\">**Pandas**</font> 1.1.5、<font color=\"#00dd00\">**Matplotlib**</font> 3.2.2、<font color=\"#00dd00\">**Seaborn**</font> 0.11.1、<font color=\"#00dd00\">**SciPy**</font> 1.4.1 進行教學。本篇文章將介紹如何偵測及處理離群值，以及瞭解分佈的樣貌。"
      ]
    },
    {
      "cell_type": "markdown",
      "metadata": {
        "id": "zst0-qqTm6qf"
      },
      "source": [
        "## 匯入基本套件"
      ]
    },
    {
      "cell_type": "code",
      "metadata": {
        "id": "WgaGB4wNnFzJ",
        "colab": {
          "base_uri": "https://localhost:8080/"
        },
        "outputId": "c605d124-fc6d-4426-a1eb-0c9bc4e8e91d"
      },
      "source": [
        "!python --version"
      ],
      "execution_count": null,
      "outputs": [
        {
          "output_type": "stream",
          "text": [
            "Python 3.7.11\n"
          ],
          "name": "stdout"
        }
      ]
    },
    {
      "cell_type": "code",
      "metadata": {
        "id": "vBnIfD8EnIk8",
        "colab": {
          "base_uri": "https://localhost:8080/"
        },
        "outputId": "f74c1166-ddec-48bf-c151-83daf57bd45e"
      },
      "source": [
        "import numpy as np \n",
        "import pandas as pd \n",
        "import matplotlib\n",
        "import matplotlib.pyplot as plt   # 繪製影像 \n",
        "import seaborn as sns\n",
        "import scipy as sp\n",
        "\n",
        "print( 'NumPy 版本: ', np.__version__ )\n",
        "print( 'Pandas 版本: ', pd.__version__ )  \n",
        "print( 'Matplotlib 版本: ', matplotlib.__version__ )\n",
        "print( 'Seaborn 版本: ', sns.__version__ )\n",
        "print( 'SciPy 版本: ', sp.__version__ )"
      ],
      "execution_count": null,
      "outputs": [
        {
          "output_type": "stream",
          "text": [
            "NumPy 版本:  1.19.5\n",
            "Pandas 版本:  1.1.5\n",
            "Matplotlib 版本:  3.2.2\n",
            "Seaborn 版本:  0.11.1\n",
            "SciPy 版本:  1.4.1\n"
          ],
          "name": "stdout"
        }
      ]
    },
    {
      "cell_type": "markdown",
      "metadata": {
        "id": "57icPdp_MS6i"
      },
      "source": [
        "在此並匯入在這篇文章常用到的套件 `stats` 喔！"
      ]
    },
    {
      "cell_type": "code",
      "metadata": {
        "id": "ipCN8Wb7MSqR"
      },
      "source": [
        "from scipy import stats"
      ],
      "execution_count": null,
      "outputs": []
    },
    {
      "cell_type": "markdown",
      "metadata": {
        "id": "Y00WgV3Bl3zt"
      },
      "source": [
        "# 離群值(Outlier/Noise)"
      ]
    },
    {
      "cell_type": "markdown",
      "metadata": {
        "id": "__leYEgzwnFS"
      },
      "source": [
        "* 平均值是通過將我們想要的所有值相加並除以項目數來計算的，而中位數是通過簡單地重新排列項目來找到的。如果我們的數據中有異常值，即遠高於或低於其他值的項目，則可能會對均值產生不利影響。也就是說，均值對異常值不穩健。\n",
        "* 在統計中，離群值是不屬於某個群體的數據點。這是一個遠離其他值的異常觀察。異常值是與其他結構良好的數據不同的觀察結果。檢測離群值或異常是在數據挖掘中的核心問題之一。在為機器學習模型準備數據集時，檢測所有異常值並去除它們或分析它們以了解為什麼首先將它們放在那裡非常重要。"
      ]
    },
    {
      "cell_type": "markdown",
      "metadata": {
        "id": "z-6VkuRfPc-1"
      },
      "source": [
        "* 辨識異常值/離群值 (Anomaly/Outlier) 的方法：\n",
        "  1. 常態分佈：5% 的資料在兩個標準差外，0.3% 的資料在三個標準差外\n",
        "  2. 四分位數 (箱形圖)：小於 (Q1-1.5IQR) 或大於 (Q3+1.5IQR)\n",
        "  3. 散步圖"
      ]
    },
    {
      "cell_type": "markdown",
      "metadata": {
        "id": "spYEDsPVQq7f"
      },
      "source": [
        "* 我們將使用包含在 sklearn 數據集 API 中的波士頓房屋定價數據集。"
      ]
    },
    {
      "cell_type": "code",
      "metadata": {
        "id": "RQtPR4KcfGp3"
      },
      "source": [
        "from sklearn import datasets\n",
        "\n",
        "boston = datasets.load_boston()\n",
        "x = boston.data\n",
        "y = boston.target\n",
        "columns = boston.feature_names"
      ],
      "execution_count": null,
      "outputs": []
    },
    {
      "cell_type": "code",
      "metadata": {
        "colab": {
          "base_uri": "https://localhost:8080/",
          "height": 203
        },
        "id": "FExXkTuchJK5",
        "outputId": "a2af30b8-4ddb-4073-ff50-3e5202610d33"
      },
      "source": [
        "boston_df = pd.DataFrame(boston.data)\n",
        "boston_df.columns = columns\n",
        "boston_df.head()"
      ],
      "execution_count": null,
      "outputs": [
        {
          "output_type": "execute_result",
          "data": {
            "text/html": [
              "<div>\n",
              "<style scoped>\n",
              "    .dataframe tbody tr th:only-of-type {\n",
              "        vertical-align: middle;\n",
              "    }\n",
              "\n",
              "    .dataframe tbody tr th {\n",
              "        vertical-align: top;\n",
              "    }\n",
              "\n",
              "    .dataframe thead th {\n",
              "        text-align: right;\n",
              "    }\n",
              "</style>\n",
              "<table border=\"1\" class=\"dataframe\">\n",
              "  <thead>\n",
              "    <tr style=\"text-align: right;\">\n",
              "      <th></th>\n",
              "      <th>CRIM</th>\n",
              "      <th>ZN</th>\n",
              "      <th>INDUS</th>\n",
              "      <th>CHAS</th>\n",
              "      <th>NOX</th>\n",
              "      <th>RM</th>\n",
              "      <th>AGE</th>\n",
              "      <th>DIS</th>\n",
              "      <th>RAD</th>\n",
              "      <th>TAX</th>\n",
              "      <th>PTRATIO</th>\n",
              "      <th>B</th>\n",
              "      <th>LSTAT</th>\n",
              "    </tr>\n",
              "  </thead>\n",
              "  <tbody>\n",
              "    <tr>\n",
              "      <th>0</th>\n",
              "      <td>0.00632</td>\n",
              "      <td>18.0</td>\n",
              "      <td>2.31</td>\n",
              "      <td>0.0</td>\n",
              "      <td>0.538</td>\n",
              "      <td>6.575</td>\n",
              "      <td>65.2</td>\n",
              "      <td>4.0900</td>\n",
              "      <td>1.0</td>\n",
              "      <td>296.0</td>\n",
              "      <td>15.3</td>\n",
              "      <td>396.90</td>\n",
              "      <td>4.98</td>\n",
              "    </tr>\n",
              "    <tr>\n",
              "      <th>1</th>\n",
              "      <td>0.02731</td>\n",
              "      <td>0.0</td>\n",
              "      <td>7.07</td>\n",
              "      <td>0.0</td>\n",
              "      <td>0.469</td>\n",
              "      <td>6.421</td>\n",
              "      <td>78.9</td>\n",
              "      <td>4.9671</td>\n",
              "      <td>2.0</td>\n",
              "      <td>242.0</td>\n",
              "      <td>17.8</td>\n",
              "      <td>396.90</td>\n",
              "      <td>9.14</td>\n",
              "    </tr>\n",
              "    <tr>\n",
              "      <th>2</th>\n",
              "      <td>0.02729</td>\n",
              "      <td>0.0</td>\n",
              "      <td>7.07</td>\n",
              "      <td>0.0</td>\n",
              "      <td>0.469</td>\n",
              "      <td>7.185</td>\n",
              "      <td>61.1</td>\n",
              "      <td>4.9671</td>\n",
              "      <td>2.0</td>\n",
              "      <td>242.0</td>\n",
              "      <td>17.8</td>\n",
              "      <td>392.83</td>\n",
              "      <td>4.03</td>\n",
              "    </tr>\n",
              "    <tr>\n",
              "      <th>3</th>\n",
              "      <td>0.03237</td>\n",
              "      <td>0.0</td>\n",
              "      <td>2.18</td>\n",
              "      <td>0.0</td>\n",
              "      <td>0.458</td>\n",
              "      <td>6.998</td>\n",
              "      <td>45.8</td>\n",
              "      <td>6.0622</td>\n",
              "      <td>3.0</td>\n",
              "      <td>222.0</td>\n",
              "      <td>18.7</td>\n",
              "      <td>394.63</td>\n",
              "      <td>2.94</td>\n",
              "    </tr>\n",
              "    <tr>\n",
              "      <th>4</th>\n",
              "      <td>0.06905</td>\n",
              "      <td>0.0</td>\n",
              "      <td>2.18</td>\n",
              "      <td>0.0</td>\n",
              "      <td>0.458</td>\n",
              "      <td>7.147</td>\n",
              "      <td>54.2</td>\n",
              "      <td>6.0622</td>\n",
              "      <td>3.0</td>\n",
              "      <td>222.0</td>\n",
              "      <td>18.7</td>\n",
              "      <td>396.90</td>\n",
              "      <td>5.33</td>\n",
              "    </tr>\n",
              "  </tbody>\n",
              "</table>\n",
              "</div>"
            ],
            "text/plain": [
              "      CRIM    ZN  INDUS  CHAS    NOX  ...  RAD    TAX  PTRATIO       B  LSTAT\n",
              "0  0.00632  18.0   2.31   0.0  0.538  ...  1.0  296.0     15.3  396.90   4.98\n",
              "1  0.02731   0.0   7.07   0.0  0.469  ...  2.0  242.0     17.8  396.90   9.14\n",
              "2  0.02729   0.0   7.07   0.0  0.469  ...  2.0  242.0     17.8  392.83   4.03\n",
              "3  0.03237   0.0   2.18   0.0  0.458  ...  3.0  222.0     18.7  394.63   2.94\n",
              "4  0.06905   0.0   2.18   0.0  0.458  ...  3.0  222.0     18.7  396.90   5.33\n",
              "\n",
              "[5 rows x 13 columns]"
            ]
          },
          "metadata": {
            "tags": []
          },
          "execution_count": 6
        }
      ]
    },
    {
      "cell_type": "markdown",
      "metadata": {
        "id": "Zl7IsBwfQuvg"
      },
      "source": [
        "## 常態分佈"
      ]
    },
    {
      "cell_type": "markdown",
      "metadata": {
        "id": "PvoHb_wKQzWa"
      },
      "source": [
        "* 在統計學中，如果數據分佈近似正態，那麼大約 68% 的數據值位於平均值的一個標準偏差內，大約 95% 位於兩個標準偏差內，大約 99.7% 位於三個標準偏差內。\n",
        "* 偏差多少才算異常呢？在解決這個問題，我們先了解 Z-Score 是甚麼，當標準差不為 0 且不為較接近於 0 的數時，Z-Score 代表測量值距均值相差的標準差數，通常當 Z-Score 的絕對值大於3將視為異常："
      ]
    },
    {
      "cell_type": "markdown",
      "metadata": {
        "id": "yQpNLhUcIMS-"
      },
      "source": [
        "![常態分佈](https://raw.githubusercontent.com/AI-FREE-Team/Machine-Learning-Basic/main/Content/distrubution.jpeg)"
      ]
    },
    {
      "cell_type": "code",
      "metadata": {
        "id": "tOIH30DPThzx"
      },
      "source": [
        "# Function to Detection Outlier on one-dimentional datasets.\n",
        "def find_anomalies(random_data):\n",
        "    #define a list to accumlate anomalies\n",
        "    anomalies = []\n",
        "    \n",
        "    # Set upper and lower limit to 3 standard deviation\n",
        "    random_data_std = np.std(random_data)\n",
        "    random_data_mean = np.mean(random_data)\n",
        "    anomaly_cut_off = random_data_std * 3\n",
        "    \n",
        "    lower_limit = random_data_mean - anomaly_cut_off \n",
        "    upper_limit = random_data_mean + anomaly_cut_off\n",
        "    \n",
        "    # Generate outliers\n",
        "    for outlier in random_data:\n",
        "        if outlier > upper_limit or outlier < lower_limit:\n",
        "            anomalies.append(outlier)\n",
        "    return anomalies"
      ],
      "execution_count": null,
      "outputs": []
    },
    {
      "cell_type": "code",
      "metadata": {
        "colab": {
          "base_uri": "https://localhost:8080/"
        },
        "id": "FJwBtaCCDSd-",
        "outputId": "2143e726-2d0e-4cf0-c127-28af77cfc4a7"
      },
      "source": [
        "find_anomalies(boston_df['DIS'])"
      ],
      "execution_count": null,
      "outputs": [
        {
          "output_type": "execute_result",
          "data": {
            "text/plain": [
              "[10.7103, 10.7103, 12.1265, 10.5857, 10.5857]"
            ]
          },
          "metadata": {
            "tags": []
          },
          "execution_count": 10
        }
      ]
    },
    {
      "cell_type": "markdown",
      "metadata": {
        "id": "8dTeECiyiuZ-"
      },
      "source": [
        "查看上面的代碼和輸出，很難說哪個數據點是異常值。讓我們嘗試定義一個閾值來識別異常值。"
      ]
    },
    {
      "cell_type": "markdown",
      "metadata": {
        "id": "y4ih5wnhQLG4"
      },
      "source": [
        "### 偵測"
      ]
    },
    {
      "cell_type": "code",
      "metadata": {
        "colab": {
          "base_uri": "https://localhost:8080/"
        },
        "id": "d8yKbm-InLxK",
        "outputId": "c473af51-f3f7-4cd0-da90-788b0d8b826c"
      },
      "source": [
        "z_dis = np.abs(stats.zscore(boston_df['DIS']))\n",
        "print(z_dis)"
      ],
      "execution_count": null,
      "outputs": [
        {
          "output_type": "stream",
          "text": [
            "[1.40213603e-01 5.57159875e-01 5.57159875e-01 1.07773662e+00\n",
            " 1.07773662e+00 1.07773662e+00 8.39243922e-01 1.02463789e+00\n",
            " 1.08719646e+00 1.32963473e+00 1.21297914e+00 1.15593484e+00\n",
            " 7.87143464e-01 4.33754047e-01 3.17003386e-01 3.34449434e-01\n",
            " 3.34449434e-01 2.20028082e-01 6.92761271e-04 6.92761271e-04\n",
            " 1.35827806e-03 1.03277421e-01 8.64493539e-02 1.42685523e-01\n",
            " 2.87387889e-01 3.13533191e-01 4.21632134e-01 3.12962749e-01\n",
            " 3.13580728e-01 2.11043605e-01 2.08191390e-01 1.80619980e-01\n",
            " 9.26766896e-02 3.72817172e-03 1.67532861e-02 2.06663257e-01\n",
            " 1.98296760e-01 6.61510917e-02 2.48415135e-02 7.63470081e-01\n",
            " 7.63470081e-01 9.15493132e-01 9.15493132e-01 9.15493132e-01\n",
            " 9.15493132e-01 6.20526581e-01 6.20526581e-01 9.00519004e-01\n",
            " 9.86370670e-01 1.08985853e+00 1.43545190e+00 1.43545190e+00\n",
            " 1.43545190e+00 1.43545190e+00 1.67551331e+00 2.33004908e+00\n",
            " 2.56345533e+00 2.15330683e+00 1.91086857e+00 1.49121270e+00\n",
            " 1.63068600e+00 1.43725830e+00 1.63073354e+00 1.98982739e+00\n",
            " 2.58023586e+00 1.33885689e+00 1.33885689e+00 1.28490249e+00\n",
            " 1.28490249e+00 1.28490249e+00 7.09373073e-01 7.09373073e-01\n",
            " 7.09373073e-01 7.09373073e-01 2.16985719e-01 3.36350910e-01\n",
            " 1.22244650e-01 1.40451288e-01 5.79502225e-01 3.36350910e-01\n",
            " 7.63279934e-01 7.63279934e-01 7.63279934e-01 7.63279934e-01\n",
            " 4.67933088e-01 3.05499453e-01 3.00508077e-01 2.25527896e-02\n",
            " 1.77475592e-01 1.80898250e-01 3.34062186e-01 3.34157260e-01\n",
            " 6.13904482e-02 6.13904482e-02 8.55867374e-02 1.42535960e-01\n",
            " 1.42535960e-01 1.42535960e-01 1.42535960e-01 1.42535960e-01\n",
            " 4.83565780e-01 4.46344377e-01 5.13561573e-01 5.13561573e-01\n",
            " 6.53177489e-01 8.02490936e-01 7.53005008e-01 7.95122714e-01\n",
            " 6.47520596e-01 5.94184179e-01 4.83565780e-01 5.31245305e-01\n",
            " 6.85312443e-01 5.92805608e-01 7.31375712e-01 6.33164448e-01\n",
            " 5.06240888e-01 4.98017002e-01 6.26319133e-01 4.92407646e-01\n",
            " 7.30805269e-01 7.59470029e-01 8.11998318e-01 8.79738421e-01\n",
            " 8.50313071e-01 8.56683017e-01 9.68727523e-01 9.53943543e-01\n",
            " 9.42439610e-01 8.62862816e-01 7.96976654e-01 7.24482860e-01\n",
            " 6.97672040e-01 6.29931938e-01 6.88830174e-01 8.00684533e-01\n",
            " 8.69042615e-01 9.24708341e-01 1.01084523e+00 1.01079769e+00\n",
            " 1.03779866e+00 1.11979984e+00 1.17579832e+00 1.13292002e+00\n",
            " 1.16424685e+00 1.12944983e+00 1.08310134e+00 1.10962694e+00\n",
            " 1.07692154e+00 1.07877548e+00 1.03489891e+00 1.04744865e+00\n",
            " 1.03860679e+00 1.03242699e+00 9.72435403e-01 9.74289342e-01\n",
            " 9.78615201e-01 9.11635690e-01 9.68679986e-01 9.64591812e-01\n",
            " 9.49142315e-01 8.67141138e-01 8.33960373e-01 7.76298096e-01\n",
            " 6.52702120e-01 7.18588283e-01 8.31488453e-01 6.50848180e-01\n",
            " 8.05770983e-01 7.28523498e-01 6.50848180e-01 6.68531912e-01\n",
            " 5.69940353e-01 5.46076822e-01 5.19646298e-01 3.15047421e-01\n",
            " 1.14156423e-01 2.27009056e-01 4.18202524e-01 4.59226880e-01\n",
            " 5.01059365e-01 5.69084688e-01 5.20264278e-01 4.50670236e-01\n",
            " 3.83690724e-01 2.44978010e-01 2.83245225e-01 3.06265493e-03\n",
            " 3.66822072e-01 3.66822072e-01 1.27625077e+00 1.27625077e+00\n",
            " 1.27625077e+00 1.15255972e+00 1.15255972e+00 8.81028869e-01\n",
            " 1.67042686e+00 1.67042686e+00 1.67042686e+00 1.83414399e+00\n",
            " 1.83414399e+00 1.17651833e+00 1.17651833e+00 6.28893078e-01\n",
            " 6.28893078e-01 7.14752260e-02 2.66138888e-01 2.66138888e-01\n",
            " 2.11138679e-01 3.80092387e-02 3.90075139e-02 6.18182805e-02\n",
            " 6.77128578e-02 7.14752260e-02 9.86593887e-02 7.14752260e-02\n",
            " 3.24649877e-01 1.77760813e-01 4.30562121e-01 2.05237150e-01\n",
            " 4.43682310e-01 3.55121039e-01 2.48590815e-01 2.48590815e-01\n",
            " 4.28137739e-01 4.28137739e-01 2.75401635e-01 2.75401635e-01\n",
            " 1.99627794e-01 1.99627794e-01 5.87283811e-02 5.87283811e-02\n",
            " 2.06107282e-02 6.80456162e-02 6.80456162e-02 6.80456162e-02\n",
            " 1.67785014e-01 1.67785014e-01 1.13844126e+00 1.13844126e+00\n",
            " 1.20794023e+00 1.20794023e+00 1.54041340e+00 1.54041340e+00\n",
            " 1.97746779e+00 1.97746779e+00 2.02528992e+00 2.02528992e+00\n",
            " 1.91643039e+00 1.91643039e+00 1.71211673e+00 1.71211673e+00\n",
            " 2.42992413e+00 2.42992413e+00 2.57899990e+00 2.57899990e+00\n",
            " 1.20794023e+00 9.47906355e-01 9.03411804e-01 8.48221447e-01\n",
            " 8.00019016e-01 7.86851291e-01 7.16163900e-01 8.15848808e-01\n",
            " 8.86536199e-01 8.59725380e-01 7.90131338e-01 6.52892268e-01\n",
            " 4.38786008e-01 5.82124271e-02 3.01363742e-01 3.01363742e-01\n",
            " 5.82124271e-02 2.71653170e-01 1.34319026e-01 2.24496552e-01\n",
            " 4.71640967e-01 5.07578874e-01 1.64124671e-01 1.45300053e-01\n",
            " 4.27669322e-01 6.89122348e-01 6.73530240e-01 9.93501208e-01\n",
            " 1.66961873e+00 1.66961873e+00 2.51667900e+00 1.67432489e+00\n",
            " 1.67432489e+00 1.67432489e+00 6.28275098e-01 6.28275098e-01\n",
            " 6.28275098e-01 8.11767586e-01 8.11767586e-01 1.02934404e+00\n",
            " 1.02934404e+00 1.20028678e+00 1.91704837e+00 1.91704837e+00\n",
            " 1.91704837e+00 8.06538525e-01 8.06538525e-01 8.06538525e-01\n",
            " 1.07888502e-01 2.02052176e-01 3.30782139e-01 2.91088816e-01\n",
            " 2.27009056e-01 3.29213421e-01 6.06401166e-01 5.48929037e-01\n",
            " 4.56850035e-01 2.53011748e-01 9.16239255e-02 7.12850784e-02\n",
            " 9.67648642e-02 1.12499583e-01 1.24804691e-01 9.83335824e-02\n",
            " 3.54319864e-01 3.54319864e-01 4.40219067e-01 4.40219067e-01\n",
            " 4.40219067e-01 7.70505545e-01 7.70505545e-01 7.70505545e-01\n",
            " 6.74813737e-01 6.74813737e-01 9.88081999e-01 1.35273767e+00\n",
            " 1.35273767e+00 1.26607787e+00 1.26607787e+00 1.04118073e+00\n",
            " 6.82657328e-01 8.65151540e-01 4.83525195e-01 4.83525195e-01\n",
            " 4.83525195e-01 1.54155429e+00 1.17504468e+00 9.20817266e-01\n",
            " 1.26940546e+00 2.00537196e+00 2.00537196e+00 2.25337204e+00\n",
            " 2.16243392e+00 2.37544683e+00 2.37544683e+00 3.28729991e+00\n",
            " 3.28729991e+00 3.96051769e+00 3.22806892e+00 3.22806892e+00\n",
            " 7.95217788e-01 6.13151408e-01 5.09758620e-01 6.11297468e-01\n",
            " 6.06971609e-01 7.12836316e-01 8.04059654e-01 8.98610575e-01\n",
            " 8.98610575e-01 1.03718068e+00 9.71056832e-01 1.08595355e+00\n",
            " 1.17061680e+00 1.15911286e+00 1.23246232e+00 1.24829211e+00\n",
            " 1.26706919e+00 1.24586773e+00 1.26355146e+00 1.17831778e+00\n",
            " 1.16472222e+00 1.15849488e+00 1.14513701e+00 1.14513701e+00\n",
            " 1.13068579e+00 1.08186538e+00 1.05277279e+00 1.07525775e+00\n",
            " 1.11975230e+00 1.12612225e+00 1.10658457e+00 1.08224567e+00\n",
            " 1.04844693e+00 9.82560765e-01 8.88247528e-01 7.73540955e-01\n",
            " 9.62642798e-01 9.52564973e-01 9.56890832e-01 9.83701651e-01\n",
            " 1.00694720e+00 1.02757822e+00 1.09593630e+00 1.09080232e+00\n",
            " 1.04877969e+00 1.05576761e+00 1.02491616e+00 9.94587605e-01\n",
            " 1.03993782e+00 1.12645500e+00 1.24401379e+00 1.19310176e+00\n",
            " 1.11252669e+00 1.10739270e+00 1.13234958e+00 1.07791981e+00\n",
            " 1.06537007e+00 1.04849446e+00 1.01578907e+00 9.31886415e-01\n",
            " 9.39112026e-01 1.02087552e+00 9.47145764e-01 9.51233939e-01\n",
            " 9.20382482e-01 9.12919186e-01 8.76505910e-01 8.42944849e-01\n",
            " 8.23121956e-01 8.96281267e-01 8.54448782e-01 9.18481005e-01\n",
            " 8.83921669e-01 8.68424635e-01 8.28255943e-01 8.11380338e-01\n",
            " 7.58043921e-01 7.03186322e-01 7.47680874e-01 7.94029365e-01\n",
            " 8.52071937e-01 8.94094569e-01 9.38589120e-01 9.40205375e-01\n",
            " 9.16912287e-01 8.22361366e-01 8.51026125e-01 8.63575870e-01\n",
            " 9.02936435e-01 8.59059863e-01 8.19081318e-01 7.59184807e-01\n",
            " 7.28951330e-01 7.65364606e-01 6.99478443e-01 6.84456778e-01\n",
            " 6.78276980e-01 6.38108287e-01 6.17477267e-01 6.46142026e-01\n",
            " 5.77308575e-01 4.82900264e-01 4.81046324e-01 5.12230539e-01\n",
            " 5.69274836e-01 5.83726058e-01 5.04196801e-01 4.72251995e-01\n",
            " 3.95337268e-01 3.46326710e-01 4.39023692e-01 5.96465951e-01\n",
            " 4.21482571e-01 4.61746337e-01 3.62061429e-01 3.30734602e-01\n",
            " 4.27139464e-01 5.99983682e-01 6.48994241e-01 7.55381854e-01\n",
            " 7.08177698e-01 8.05438224e-01 7.72257458e-01 8.76505910e-01\n",
            " 1.76287169e-01 2.20258814e-01 1.82752189e-01 1.44159167e-01\n",
            " 3.37715013e-02 9.34848172e-02 1.18434745e-01 3.05540038e-01\n",
            " 9.38446509e-01 9.69583188e-01 9.37638382e-01 9.16009086e-01\n",
            " 8.01064828e-01 6.71859496e-01 6.71859496e-01 4.73678102e-01\n",
            " 4.73678102e-01 4.28945866e-01 6.58834382e-01 6.63207778e-01\n",
            " 6.16478992e-01 6.25796227e-01 7.16639269e-01 7.73683566e-01\n",
            " 6.68436838e-01 6.13246481e-01]\n"
          ],
          "name": "stdout"
        }
      ]
    },
    {
      "cell_type": "markdown",
      "metadata": {
        "id": "4vB1lvrEnYY5"
      },
      "source": [
        "以上輸出只是部分數據的快照；list(z) 的實際長度是 506，即行數。它打印列的每個數據項的 z 得分值\n",
        "\n",
        "現在要定義一個異常值閾值，通常選擇 3.0。由於 99.7% 的數據點位於 +/- 3 標準偏差之間"
      ]
    },
    {
      "cell_type": "code",
      "metadata": {
        "colab": {
          "base_uri": "https://localhost:8080/"
        },
        "id": "Zmm28OS7iTZf",
        "outputId": "b48a9db7-5304-477d-d923-b476d7bd328d"
      },
      "source": [
        "z_all = np.abs(stats.zscore(boston_df))\n",
        "print(z_all)"
      ],
      "execution_count": null,
      "outputs": [
        {
          "output_type": "stream",
          "text": [
            "[[0.41978194 0.28482986 1.2879095  ... 1.45900038 0.44105193 1.0755623 ]\n",
            " [0.41733926 0.48772236 0.59338101 ... 0.30309415 0.44105193 0.49243937]\n",
            " [0.41734159 0.48772236 0.59338101 ... 0.30309415 0.39642699 1.2087274 ]\n",
            " ...\n",
            " [0.41344658 0.48772236 0.11573841 ... 1.17646583 0.44105193 0.98304761]\n",
            " [0.40776407 0.48772236 0.11573841 ... 1.17646583 0.4032249  0.86530163]\n",
            " [0.41500016 0.48772236 0.11573841 ... 1.17646583 0.44105193 0.66905833]]\n"
          ],
          "name": "stdout"
        }
      ]
    },
    {
      "cell_type": "code",
      "metadata": {
        "colab": {
          "base_uri": "https://localhost:8080/"
        },
        "id": "Lk2QXFoAigig",
        "outputId": "a33f0d7f-4776-472a-9c2a-2aadf2f5cd14"
      },
      "source": [
        "threshold = 3\n",
        "print( np.where(z_all > 3) )"
      ],
      "execution_count": null,
      "outputs": [
        {
          "output_type": "stream",
          "text": [
            "(array([ 55,  56,  57, 102, 141, 142, 152, 154, 155, 160, 162, 163, 199,\n",
            "       200, 201, 202, 203, 204, 208, 209, 210, 211, 212, 216, 218, 219,\n",
            "       220, 221, 222, 225, 234, 236, 256, 257, 262, 269, 273, 274, 276,\n",
            "       277, 282, 283, 283, 284, 347, 351, 352, 353, 353, 354, 355, 356,\n",
            "       357, 358, 363, 364, 364, 365, 367, 369, 370, 372, 373, 374, 374,\n",
            "       380, 398, 404, 405, 406, 410, 410, 411, 412, 412, 414, 414, 415,\n",
            "       416, 418, 418, 419, 423, 424, 425, 426, 427, 427, 429, 431, 436,\n",
            "       437, 438, 445, 450, 454, 455, 456, 457, 466]), array([ 1,  1,  1, 11, 12,  3,  3,  3,  3,  3,  3,  3,  1,  1,  1,  1,  1,\n",
            "        1,  3,  3,  3,  3,  3,  3,  3,  3,  3,  3,  3,  5,  3,  3,  1,  5,\n",
            "        5,  3,  3,  3,  3,  3,  3,  1,  3,  1,  1,  7,  7,  1,  7,  7,  7,\n",
            "        3,  3,  3,  3,  3,  5,  5,  5,  3,  3,  3, 12,  5, 12,  0,  0,  0,\n",
            "        0,  5,  0, 11, 11, 11, 12,  0, 12, 11, 11,  0, 11, 11, 11, 11, 11,\n",
            "       11,  0, 11, 11, 11, 11, 11, 11, 11, 11, 11, 11, 11, 11, 11]))\n"
          ],
          "name": "stdout"
        }
      ]
    },
    {
      "cell_type": "markdown",
      "metadata": {
        "id": "vGqJub4xi2SJ"
      },
      "source": [
        "不要對結果感到困惑。第一個數組包含行號列表和第二個數組各自的列號，這意味著 z[55][1] 的 Z-score 高於 3。"
      ]
    },
    {
      "cell_type": "code",
      "metadata": {
        "colab": {
          "base_uri": "https://localhost:8080/"
        },
        "id": "--1yQOV0ij1p",
        "outputId": "c69d0bff-c21e-45c3-ebaa-e3b5e38245d7"
      },
      "source": [
        "print( z_all[55][1] ) "
      ],
      "execution_count": null,
      "outputs": [
        {
          "output_type": "stream",
          "text": [
            "3.375038763517309\n"
          ],
          "name": "stdout"
        }
      ]
    },
    {
      "cell_type": "markdown",
      "metadata": {
        "id": "IfKA8VeKQGm5"
      },
      "source": [
        "### 處理"
      ]
    },
    {
      "cell_type": "code",
      "metadata": {
        "colab": {
          "base_uri": "https://localhost:8080/"
        },
        "id": "evC0YfkGnVtW",
        "outputId": "d7fd87ac-0791-4323-a4a4-2df692c29beb"
      },
      "source": [
        "threshold = 3\n",
        "boston_df_o = boston_df['DIS']\n",
        "boston_df_o.drop(np.where(z_dis > 3)[0].tolist(), inplace=True)\n",
        "\n",
        "# Position of the outlier\n",
        "print(np.where(z_dis > 3))\n",
        "print('Old Shape: ', boston_df['DIS'].shape)\n",
        "print('New Shape: ', boston_df_o.shape)"
      ],
      "execution_count": null,
      "outputs": [
        {
          "output_type": "stream",
          "text": [
            "(array([351, 352, 353, 354, 355]),)\n",
            "Old Shape:  (506,)\n",
            "New Shape:  (501,)\n"
          ],
          "name": "stdout"
        }
      ]
    },
    {
      "cell_type": "markdown",
      "metadata": {
        "id": "BxWqX3IB5BC2"
      },
      "source": [
        "## 箱線圖"
      ]
    },
    {
      "cell_type": "markdown",
      "metadata": {
        "id": "-6JpyadPTNvv"
      },
      "source": [
        "* 箱線圖是通過分位數對數值數據的圖形描述。這是一種非常簡單但有效的可視化異常值的方法。將下須和上須視為數據分佈的邊界。任何顯示在晶須上方或下方的數據點都可以被視為異常值或異常值。"
      ]
    },
    {
      "cell_type": "markdown",
      "metadata": {
        "id": "xzoX15ukVKVG"
      },
      "source": [
        "* 箱線圖說明：四分位距 (IQR) 的概念用於構建箱線圖。IQR 是統計學中的一個概念，用於通過將數據集劃分為四分位數來衡量統計離散度和數據可變性。\n",
        "* 簡而言之，任何數據集或任何一組觀察都根據數據的值以及它們與整個數據集的比較情況分為四個定義的間隔，四分位數是將數據分為三個點和四個區間。"
      ]
    },
    {
      "cell_type": "markdown",
      "metadata": {
        "id": "KYpaSS5eGBDt"
      },
      "source": [
        "![outliner](https://raw.githubusercontent.com/AI-FREE-Team/Machine-Learning-Basic/main/Content/outliner.PNG)"
      ]
    },
    {
      "cell_type": "markdown",
      "metadata": {
        "id": "b1W1m4_ubso0"
      },
      "source": [
        "### 視覺化"
      ]
    },
    {
      "cell_type": "code",
      "metadata": {
        "id": "BsNF_5BZhYOW",
        "colab": {
          "base_uri": "https://localhost:8080/",
          "height": 296
        },
        "outputId": "1494dd85-6511-4719-d9fd-f2ea7ff537b3"
      },
      "source": [
        "sns.boxplot( x=boston_df['DIS'] )"
      ],
      "execution_count": null,
      "outputs": [
        {
          "output_type": "execute_result",
          "data": {
            "text/plain": [
              "<matplotlib.axes._subplots.AxesSubplot at 0x7fa5e3dfccd0>"
            ]
          },
          "metadata": {
            "tags": []
          },
          "execution_count": 16
        },
        {
          "output_type": "display_data",
          "data": {
            "image/png": "[encoded data removed]",
            "text/plain": [
              "<Figure size 432x288 with 1 Axes>"
            ]
          },
          "metadata": {
            "tags": [],
            "needs_background": "light"
          }
        }
      ]
    },
    {
      "cell_type": "code",
      "metadata": {
        "colab": {
          "base_uri": "https://localhost:8080/"
        },
        "id": "JIq-RMP2l3kq",
        "outputId": "8a473289-3210-4aa7-e84d-6356accc945f"
      },
      "source": [
        "# Position of the Outlier\n",
        "print(np.where(boston_df['DIS']>10))"
      ],
      "execution_count": null,
      "outputs": [
        {
          "output_type": "stream",
          "text": [
            "(array([351, 352, 353, 354, 355]),)\n"
          ],
          "name": "stdout"
        }
      ]
    },
    {
      "cell_type": "markdown",
      "metadata": {
        "id": "Tb7j65BZhqiQ"
      },
      "source": [
        "結論：上圖顯示 10 到 12 之間的五個點，這些是異常值，因為沒有包含在其他觀察的框中，即沒有靠近四分位數。"
      ]
    },
    {
      "cell_type": "markdown",
      "metadata": {
        "id": "jwxO-0dkQSEH"
      },
      "source": [
        "### 偵測"
      ]
    },
    {
      "cell_type": "code",
      "metadata": {
        "colab": {
          "base_uri": "https://localhost:8080/"
        },
        "id": "lx2YIxyznkzI",
        "outputId": "15967f0f-0bac-4d29-c8ae-48f8043d52ac"
      },
      "source": [
        "# IQR\n",
        "Q1 = np.percentile(boston_df['DIS'], 25, interpolation='midpoint') \n",
        "Q3 = np.percentile(boston_df['DIS'], 75, interpolation='midpoint') \n",
        "IQR = Q3 - Q1 \n",
        "print(IQR)"
      ],
      "execution_count": null,
      "outputs": [
        {
          "output_type": "stream",
          "text": [
            "3.0646000000000004\n"
          ],
          "name": "stdout"
        }
      ]
    },
    {
      "cell_type": "code",
      "metadata": {
        "colab": {
          "base_uri": "https://localhost:8080/"
        },
        "id": "hq5MeKIZn8Tu",
        "outputId": "6010d331-139c-4818-8246-c472e7de1f13"
      },
      "source": [
        "# Above Upper bound\n",
        "upper = boston_df['DIS'] >= (Q3+1.5*IQR)\n",
        "  \n",
        "print('Upper bound: ', upper)\n",
        "print('='*20)\n",
        "print(np.where(upper))\n",
        "  \n",
        "# Below Lower bound\n",
        "lower = boston_df['DIS'] <= (Q1-1.5*IQR)\n",
        "print('Lower bound: ', lower)\n",
        "print('='*20)\n",
        "print(np.where(lower))"
      ],
      "execution_count": null,
      "outputs": [
        {
          "output_type": "stream",
          "text": [
            "Upper bound:  0      False\n",
            "1      False\n",
            "2      False\n",
            "3      False\n",
            "4      False\n",
            "       ...  \n",
            "501    False\n",
            "502    False\n",
            "503    False\n",
            "504    False\n",
            "505    False\n",
            "Name: DIS, Length: 506, dtype: bool\n",
            "====================\n",
            "(array([351, 352, 353, 354, 355]),)\n",
            "Lower bound:  0      False\n",
            "1      False\n",
            "2      False\n",
            "3      False\n",
            "4      False\n",
            "       ...  \n",
            "501    False\n",
            "502    False\n",
            "503    False\n",
            "504    False\n",
            "505    False\n",
            "Name: DIS, Length: 506, dtype: bool\n",
            "====================\n",
            "(array([], dtype=int64),)\n"
          ],
          "name": "stdout"
        }
      ]
    },
    {
      "cell_type": "markdown",
      "metadata": {
        "id": "wtbovz-mQVPb"
      },
      "source": [
        "### 處理"
      ]
    },
    {
      "cell_type": "markdown",
      "metadata": {
        "id": "AhObARL4osER"
      },
      "source": [
        "為了去除異常值，必須遵循使用其在數據集中的確切位置從數據集中刪除條目的相同過程，因為在上述所有檢測異常值的方法中，最終結果是滿足異常值定義的所有數據項的列表根據使用的方法。"
      ]
    },
    {
      "cell_type": "code",
      "metadata": {
        "colab": {
          "base_uri": "https://localhost:8080/"
        },
        "id": "WXxDwAtBop9M",
        "outputId": "ad88ddcc-855d-4944-b06c-8e184100dbd6"
      },
      "source": [
        "print('Old Shape: ', boston_df.shape)\n",
        "\n",
        "# Removing the Outliers \n",
        "boston_df.drop(np.where(upper)[0].tolist(), inplace=True)\n",
        "\n",
        "print('New Shape: ', boston_df.shape) "
      ],
      "execution_count": null,
      "outputs": [
        {
          "output_type": "stream",
          "text": [
            "Old Shape:  (506, 13)\n",
            "New Shape:  (501, 13)\n"
          ],
          "name": "stdout"
        }
      ]
    },
    {
      "cell_type": "markdown",
      "metadata": {
        "id": "XcjnGcNvh3Dv"
      },
      "source": [
        "## 散佈圖"
      ]
    },
    {
      "cell_type": "markdown",
      "metadata": {
        "id": "aGShOrwWh9kA"
      },
      "source": [
        "* 散點圖是一種類型的曲線圖，或者使用笛卡爾坐標來對一組數據的顯示通常是兩個變量的值的數學圖中。數據顯示為一組點，每個點都有一個變量的值確定水平軸上的位置，另一個 變量的值確定垂直軸上的位置。"
      ]
    },
    {
      "cell_type": "code",
      "metadata": {
        "colab": {
          "base_uri": "https://localhost:8080/",
          "height": 397
        },
        "id": "L5P6WBWDiAy_",
        "outputId": "1ab8c38f-7a3b-4851-8198-9a6213897e44"
      },
      "source": [
        "fig, ax = plt.subplots(figsize=(16,8))\n",
        "# Scatter plot\n",
        "ax.scatter(boston_df['INDUS'], boston_df['TAX'])\n",
        "\n",
        "# x-axis label\n",
        "ax.set_xlabel('Proportion of non-retail business acres per town')\n",
        "\n",
        "# y-axis label\n",
        "ax.set_ylabel('Full-value property-tax rate per $10,000')\n",
        "plt.show()"
      ],
      "execution_count": null,
      "outputs": [
        {
          "output_type": "display_data",
          "data": {
            "image/png": "[encoded data removed]",
            "text/plain": [
              "<Figure size 1152x576 with 1 Axes>"
            ]
          },
          "metadata": {
            "tags": [],
            "needs_background": "light"
          }
        }
      ]
    },
    {
      "cell_type": "markdown",
      "metadata": {
        "id": "6WZIQ6HWmvYI"
      },
      "source": [
        "查看圖表可以總結出大多數數據點位於圖表的左下角，但很少有點正好相反，即圖表的右上角。右上角的那些點可以被視為異常值。\n",
        "\n",
        "使用近似可以說所有 x>20 和 y>600 的數據點都是異常值。以下代碼可以獲取滿足這些條件的所有點的確切位置。"
      ]
    },
    {
      "cell_type": "code",
      "metadata": {
        "colab": {
          "base_uri": "https://localhost:8080/"
        },
        "id": "7j8yqvUWm4tS",
        "outputId": "85700fda-856d-4cd4-e3a9-629e8dd19a4e"
      },
      "source": [
        "# Position of the Outlier\n",
        "print(np.where((boston_df['INDUS']>20) & (boston_df['TAX']>600)))"
      ],
      "execution_count": null,
      "outputs": [
        {
          "output_type": "stream",
          "text": [
            "(array([483, 484, 485, 486, 487]),)\n"
          ],
          "name": "stdout"
        }
      ]
    },
    {
      "cell_type": "markdown",
      "metadata": {
        "id": "t7LqGouDDj5g"
      },
      "source": [
        "# 分布型態：偏態與峰態"
      ]
    },
    {
      "cell_type": "markdown",
      "metadata": {
        "id": "XEovdgVwXaW2"
      },
      "source": [
        "## 偏態 (Skewness)"
      ]
    },
    {
      "cell_type": "markdown",
      "metadata": {
        "id": "IAOqu1cUXZCF"
      },
      "source": [
        "* 說明：衡量資料分佈的不對稱性與偏斜方向程度，是統計資料分佈非對稱程度的數字特徵。\n",
        "* 類型：\n",
        "  * 負偏態或左偏態 ($Skewness<0$)：左側的尾部更長，分布的主體集中在右側，左側有較多極端值\n",
        "  * 正偏態或右偏態 ($Skewness>0$)：右側的尾部更長，分布的主體集中在左側，右側有較多極端值，日常生活數據常見右偏態分布\n",
        "  * 如果分布對稱 ($Skewness=0$)，那麼平均值=中位數，偏度為零 (此外，如果分布為單峰分布，那麽平均值=中位數=眾數)\n",
        "* 語法\n",
        "  ```\n",
        "  stats.skew(data)\n",
        "  ```\n",
        "\n",
        "* 定義：有 𝑛 元素的數據集\n",
        "  * 常用：$(n^2/((n-1)(n-2)))(\\sum_i(x_i-mean(x))^3/(ns^3))$\n",
        "  * 調整後的 Fisher-Pearson 標準化矩係數： $\\sum_i(x_i-mean(x))^3 n/((n-1)(n-2)s^3)$，其中 $i=1,2,...,n$\n"
      ]
    },
    {
      "cell_type": "markdown",
      "metadata": {
        "id": "zMoZsoYqDazf"
      },
      "source": [
        "![Skew](https://raw.githubusercontent.com/AI-FREE-Team/Machine-Learning-Basic/main/Content/skew.png)"
      ]
    },
    {
      "cell_type": "markdown",
      "metadata": {
        "id": "cMDtIxGWXlCz"
      },
      "source": [
        "## 峰態 (Kurtosis)"
      ]
    },
    {
      "cell_type": "markdown",
      "metadata": {
        "id": "9goRi7_kXjcF"
      },
      "source": [
        "* 說明：峰態反映了峰部的尖度，也代表變異數的來源來自於不常出現的尾巴兩端的數值\n",
        "* 類型：\n",
        "  * 高峻峰：k>0\n",
        "  * 常態峰：k=0\n",
        "  * 低闊峰：k<0\n",
        "* 資料中越可能會出現數值很極端的離群值\n",
        "  ```\n",
        "  stats.kurtosis(data)\n",
        "  ```"
      ]
    },
    {
      "cell_type": "markdown",
      "metadata": {
        "id": "84eZKbyEEnqv"
      },
      "source": [
        "![Kurtosis](https://raw.githubusercontent.com/AI-FREE-Team/Machine-Learning-Basic/main/Content/kurtosis.png)"
      ]
    },
    {
      "cell_type": "markdown",
      "metadata": {
        "id": "KwmM0xFjD2bp"
      },
      "source": [
        "### 範例一"
      ]
    },
    {
      "cell_type": "markdown",
      "metadata": {
        "id": "bo65CNzQDlue"
      },
      "source": [
        "* 匯入資料"
      ]
    },
    {
      "cell_type": "code",
      "metadata": {
        "id": "swPiO1GzDksZ"
      },
      "source": [
        "boys=[164, 176, 169, 169, 165, 175, 159, 151, 144, 160,\n",
        "      183, 165, 156, 170, 164, 173, 165, 163, 177, 171]\n",
        "girl=[169, 183, 170, 168, 182, 170, 173, 185, 151, 156,\n",
        "      162, 169, 162, 181, 159, 154, 167, 175, 170, 160]"
      ],
      "execution_count": null,
      "outputs": []
    },
    {
      "cell_type": "markdown",
      "metadata": {
        "id": "hUjgLUp-DscQ"
      },
      "source": [
        "* 計算峰度和偏度"
      ]
    },
    {
      "cell_type": "code",
      "metadata": {
        "colab": {
          "base_uri": "https://localhost:8080/"
        },
        "id": "cmiwTGGCXCka",
        "outputId": "5df067c3-484f-4dde-dc3a-834a285d689f"
      },
      "source": [
        "print('偏度=', stats.skew(boys))\n",
        "print('峰度=', stats.kurtosis(boys))"
      ],
      "execution_count": null,
      "outputs": [
        {
          "output_type": "stream",
          "text": [
            "偏度= -0.47132127317376954\n",
            "峰度= 0.19395882957876331\n"
          ],
          "name": "stdout"
        }
      ]
    },
    {
      "cell_type": "markdown",
      "metadata": {
        "id": "as-X9B4uDXQp"
      },
      "source": [
        "* 設定參數：bias=False，啟用對統計偏差的校正"
      ]
    },
    {
      "cell_type": "code",
      "metadata": {
        "colab": {
          "base_uri": "https://localhost:8080/"
        },
        "id": "2PK1Fg8SwInj",
        "outputId": "5ca3528d-db34-4d0e-9e25-2ceca47ff94f"
      },
      "source": [
        "print('偏度=', stats.skew(boys, bias=False))\n",
        "print('峰度=', stats.kurtosis(boys, bias=False, fisher=True))"
      ],
      "execution_count": null,
      "outputs": [
        {
          "output_type": "stream",
          "text": [
            "偏度= -0.5104301688842507\n",
            "峰度= 0.6254561209213283\n"
          ],
          "name": "stdout"
        }
      ]
    },
    {
      "cell_type": "markdown",
      "metadata": {
        "id": "czl6D4l6DcPO"
      },
      "source": [
        "* 自訂函數：與設定 bias=False 相同"
      ]
    },
    {
      "cell_type": "code",
      "metadata": {
        "colab": {
          "base_uri": "https://localhost:8080/"
        },
        "id": "u7ra18v7DWfL",
        "outputId": "252e6e70-b089-4c69-bbe7-1b4a2f802b00"
      },
      "source": [
        "n = len(boys)\n",
        "mean_boys = sum(boys) / n\n",
        "var_boys = sum((item - mean_boys)**2 for item in boys) / (n - 1)\n",
        "std_boys = var_boys ** 0.5\n",
        "skew_boys = (sum((item - mean_boys)**3 for item in boys)\n",
        "        * n / ((n - 1) * (n - 2) * std_boys**3))\n",
        "print(skew_boys)"
      ],
      "execution_count": null,
      "outputs": [
        {
          "output_type": "stream",
          "text": [
            "-0.5104301688842505\n"
          ],
          "name": "stdout"
        }
      ]
    },
    {
      "cell_type": "markdown",
      "metadata": {
        "id": "9DD1M-tLxB6V"
      },
      "source": [
        "* 檢定是否符合標準常態分布"
      ]
    },
    {
      "cell_type": "code",
      "metadata": {
        "colab": {
          "base_uri": "https://localhost:8080/"
        },
        "id": "TehRNZ05xCPr",
        "outputId": "4e0fd7c7-df58-449e-988d-ae452a8e2316"
      },
      "source": [
        "stats.jarque_bera(boys)"
      ],
      "execution_count": null,
      "outputs": [
        {
          "output_type": "execute_result",
          "data": {
            "text/plain": [
              "(0.7718291647967804, 0.6798285925281997)"
            ]
          },
          "metadata": {
            "tags": []
          },
          "execution_count": 27
        }
      ]
    },
    {
      "cell_type": "markdown",
      "metadata": {
        "id": "b95X4MplxsIH"
      },
      "source": [
        "p 值為 0.67982859 > 0.05，因此沒有足夠的證據拒絕虛無假設 $H_0$，顯著此為標準常態分布"
      ]
    },
    {
      "cell_type": "code",
      "metadata": {
        "colab": {
          "base_uri": "https://localhost:8080/",
          "height": 430
        },
        "id": "jRJnB0qMyD9t",
        "outputId": "5ab17706-d3f1-4c85-842b-f0979141f789"
      },
      "source": [
        "plt.style.use( 'default' )\n",
        "\n",
        "plt.hist( boys, bins=20 )\n",
        "plt.show()"
      ],
      "execution_count": null,
      "outputs": [
        {
          "output_type": "display_data",
          "data": {
            "image/png": "[encoded data removed]",
            "text/plain": [
              "<Figure size 640x480 with 1 Axes>"
            ]
          },
          "metadata": {
            "tags": []
          }
        }
      ]
    },
    {
      "cell_type": "markdown",
      "metadata": {
        "id": "Foa_-hjqEFIw"
      },
      "source": [
        "### 範例二：結合軸的概念"
      ]
    },
    {
      "cell_type": "code",
      "metadata": {
        "colab": {
          "base_uri": "https://localhost:8080/",
          "height": 142
        },
        "id": "kafcx7loabe3",
        "outputId": "86016021-332a-47e4-91f9-ce2dcc631a42"
      },
      "source": [
        "df = pd.DataFrame(np.array([[85, 68, 90], [82, 63, 88], [84, 90, 78]]), \n",
        "                  columns=['數學', '英文', '國文'], \n",
        "                  index=['小美', '小王', '小豬'])\n",
        "df"
      ],
      "execution_count": null,
      "outputs": [
        {
          "output_type": "execute_result",
          "data": {
            "text/html": [
              "<div>\n",
              "<style scoped>\n",
              "    .dataframe tbody tr th:only-of-type {\n",
              "        vertical-align: middle;\n",
              "    }\n",
              "\n",
              "    .dataframe tbody tr th {\n",
              "        vertical-align: top;\n",
              "    }\n",
              "\n",
              "    .dataframe thead th {\n",
              "        text-align: right;\n",
              "    }\n",
              "</style>\n",
              "<table border=\"1\" class=\"dataframe\">\n",
              "  <thead>\n",
              "    <tr style=\"text-align: right;\">\n",
              "      <th></th>\n",
              "      <th>數學</th>\n",
              "      <th>英文</th>\n",
              "      <th>國文</th>\n",
              "    </tr>\n",
              "  </thead>\n",
              "  <tbody>\n",
              "    <tr>\n",
              "      <th>小美</th>\n",
              "      <td>85</td>\n",
              "      <td>68</td>\n",
              "      <td>90</td>\n",
              "    </tr>\n",
              "    <tr>\n",
              "      <th>小王</th>\n",
              "      <td>82</td>\n",
              "      <td>63</td>\n",
              "      <td>88</td>\n",
              "    </tr>\n",
              "    <tr>\n",
              "      <th>小豬</th>\n",
              "      <td>84</td>\n",
              "      <td>90</td>\n",
              "      <td>78</td>\n",
              "    </tr>\n",
              "  </tbody>\n",
              "</table>\n",
              "</div>"
            ],
            "text/plain": [
              "    數學  英文  國文\n",
              "小美  85  68  90\n",
              "小王  82  63  88\n",
              "小豬  84  90  78"
            ]
          },
          "metadata": {
            "tags": []
          },
          "execution_count": 29
        }
      ]
    },
    {
      "cell_type": "markdown",
      "metadata": {
        "id": "eMMV3c65M3p2"
      },
      "source": [
        "* axis可以採用以下任何值：\n",
        "  * axis=None：計算數組中所有數據的統計信息。上面的例子是這樣工作的。此行為通常是 NumPy 中的默認設置。\n",
        "  * axis=0：計算所有行的統計信息，即數組的每一列。這種行為通常是 SciPy 統計函數的默認行為。\n",
        "  * axis=1：計算所有列的統計信息，即數組的每一行。"
      ]
    },
    {
      "cell_type": "markdown",
      "metadata": {
        "id": "DBt2CZU7aoVp"
      },
      "source": [
        "計算第二行的偏度："
      ]
    },
    {
      "cell_type": "code",
      "metadata": {
        "id": "wZodT7MFaoFQ",
        "colab": {
          "base_uri": "https://localhost:8080/"
        },
        "outputId": "4c90d3ea-ffc1-499f-8587-5118244fcaec"
      },
      "source": [
        "df.iloc[1, :].skew()"
      ],
      "execution_count": null,
      "outputs": [
        {
          "output_type": "execute_result",
          "data": {
            "text/plain": [
              "-1.3294040702410526"
            ]
          },
          "metadata": {
            "tags": []
          },
          "execution_count": 30
        }
      ]
    },
    {
      "cell_type": "markdown",
      "metadata": {
        "id": "-KedSQgoat2F"
      },
      "source": [
        "計算所有列的偏度："
      ]
    },
    {
      "cell_type": "code",
      "metadata": {
        "colab": {
          "base_uri": "https://localhost:8080/"
        },
        "id": "DZgg8-xrabx_",
        "outputId": "dddf1400-0b00-4241-bb26-5c62afd0fc70"
      },
      "source": [
        "df.skew(axis = 0)"
      ],
      "execution_count": null,
      "outputs": [
        {
          "output_type": "execute_result",
          "data": {
            "text/plain": [
              "數學   -0.935220\n",
              "英文    1.498959\n",
              "國文   -1.545393\n",
              "dtype: float64"
            ]
          },
          "metadata": {
            "tags": []
          },
          "execution_count": 31
        }
      ]
    },
    {
      "cell_type": "markdown",
      "metadata": {
        "id": "QnixuzMxayhl"
      },
      "source": [
        "計算所有行的偏度："
      ]
    },
    {
      "cell_type": "code",
      "metadata": {
        "colab": {
          "base_uri": "https://localhost:8080/"
        },
        "id": "A9qraZlwaypl",
        "outputId": "a8e8e017-fafc-4972-a175-f1fda8d7a155"
      },
      "source": [
        "df.skew(axis = 1)"
      ],
      "execution_count": null,
      "outputs": [
        {
          "output_type": "execute_result",
          "data": {
            "text/plain": [
              "小美   -1.373033\n",
              "小王   -1.329404\n",
              "小豬    0.000000\n",
              "dtype: float64"
            ]
          },
          "metadata": {
            "tags": []
          },
          "execution_count": 32
        }
      ]
    },
    {
      "cell_type": "markdown",
      "metadata": {
        "id": "h_roR63uwNCh"
      },
      "source": [
        "# 結語 "
      ]
    },
    {
      "cell_type": "markdown",
      "metadata": {
        "id": "sQl00IpEkwFn"
      },
      "source": [
        "本篇文章介紹常見偵測與處理離群值的方法，以及統計如何透過統計量來瞭解分布情形，讀者可透過本篇文章的介紹更進一步瞭解如何觀察資料的樣貌。<br>\n",
        "針對本文的內容，若讀者們有發現任何的錯誤或疑問，非常歡迎您 [來信 sueshow2006@gmail.com](mailto:sueshow2006@gmail.com) 給予建議及討論，讓我們一同來學習成長！"
      ]
    },
    {
      "cell_type": "markdown",
      "metadata": {
        "id": "uQmCKUBULt9b"
      },
      "source": [
        "# 參考資料"
      ]
    },
    {
      "cell_type": "markdown",
      "metadata": {
        "id": "qg9ItOg8rNth"
      },
      "source": [
        "* [模擬的機率分佈：統計方法的實證作用](https://scgeeker.github.io/BasicStatistics/distribution.html)\n",
        "* [30天搞懂Python-常態分配](https://ithelp.ithome.com.tw/articles/10239607)\n",
        "* [python 如何判斷一組數據是否符合正態分布](https://codingnote.cc/zh-tw/p/149154/)\n",
        "* [统计概率思维及几种分布的Python实现](https://zhuanlan.zhihu.com/p/268212254)\n",
        "* [統計學：常態分佈、平均值、變異數與標準差](http://slashview.com/archive2014/20140506.html)\n",
        "* [Ways to Detect and Remove the Outliers](https://towardsdatascience.com/ways-to-detect-and-remove-the-outliers-404d16608dba)\n",
        "* [機器學習百日馬拉松Day9:離群值(Outlier)及其處理](https://slony958.wordpress.com/2020/11/02/%E6%A9%9F%E5%99%A8%E5%AD%B8%E7%BF%92%E7%99%BE%E6%97%A5%E9%A6%AC%E6%8B%89%E6%9D%BEday9%E9%9B%A2%E7%BE%A4%E5%80%BCoutlier%E5%8F%8A%E5%85%B6%E8%99%95%E7%90%86/)\n",
        "* [5 Ways to Detect Outliers/Anomalies That Every Data Scientist Should Know (Python Code)](https://towardsdatascience.com/5-ways-to-detect-outliers-that-every-data-scientist-should-know-python-code-70a54335a623)\n",
        "* [Ways to Detect and Remove the Outliers](https://towardsdatascience.com/ways-to-detect-and-remove-the-outliers-404d16608dba)\n",
        "* [機器學習百日馬拉松Day9:離群值(Outlier)及其處理](https://slony958.wordpress.com/2020/11/02/%E6%A9%9F%E5%99%A8%E5%AD%B8%E7%BF%92%E7%99%BE%E6%97%A5%E9%A6%AC%E6%8B%89%E6%9D%BEday9%E9%9B%A2%E7%BE%A4%E5%80%BCoutlier%E5%8F%8A%E5%85%B6%E8%99%95%E7%90%86/)\n",
        "* [4 Automatic Outlier Detection Algorithms in Python](https://machinelearningmastery.com/model-based-outlier-detection-and-removal-in-python/)"
      ]
    },
    {
      "cell_type": "markdown",
      "metadata": {
        "id": "G-D3dsWTrXMp"
      },
      "source": [
        "# 返回 [課程大綱](https://github.com/AI-FREE-Team/Machine-Learning-Basic#%E8%AA%B2%E7%A8%8B%E5%A4%A7%E7%B6%B1-course-outline)"
      ]
    }
  ]
}