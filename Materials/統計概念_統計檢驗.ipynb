{
  "nbformat": 4,
  "nbformat_minor": 0,
  "metadata": {
    "colab": {
      "name": "統計概念_統計檢驗.ipynb",
      "provenance": [],
      "collapsed_sections": [],
      "toc_visible": true,
      "include_colab_link": true
    },
    "kernelspec": {
      "name": "python3",
      "display_name": "Python 3"
    },
    "language_info": {
      "name": "python"
    }
  },
  "cells": [
    {
      "cell_type": "markdown",
      "metadata": {
        "id": "view-in-github",
        "colab_type": "text"
      },
      "source": [
        "<a href=\"https://github.com/AI-FREE-Team/Machine-Learning-Basic/blob/main/Materials/%E7%B5%B1%E8%A8%88%E6%A6%82%E5%BF%B5_%E7%B5%B1%E8%A8%88%E6%AA%A2%E9%A9%97.ipynb\" target=\"_parent\"><img src=\"https://colab.research.google.com/assets/colab-badge.svg\" alt=\"Open In Colab\"/></a>"
      ]
    },
    {
      "cell_type": "markdown",
      "metadata": {
        "id": "Q72ayOpSma0X"
      },
      "source": [
        "![Logo](https://raw.githubusercontent.com/AI-FREE-Team/Machine-Learning-Basic/main/README_imgs/aifreeteam.png) \n",
        "<center>Welcome to the course《Python: from business analytics to Artificial Intelligence》by AI . FREE Team.</center>\n",
        "<center>歡迎大家來到 AI . FREE Team 《Python 從商業分析到人工智慧》的第二堂課 - 機器學習(ML)基礎教學。 </center>\n",
        "<br/>\n",
        "\n",
        "<center>作者: Michelle Chuang (<a href=\"https://github.com/sueshow\">Github</a>)</center>\n",
        "<center>AI . FREE Team: <a href=\"https://aifreeblog.herokuapp.com/\">https://aifreeblog.herokuapp.com/</a></center>\n",
        "<br>\n"
      ]
    },
    {
      "cell_type": "markdown",
      "metadata": {
        "id": "n5tvudOgCwqL"
      },
      "source": [
        "# 前言"
      ]
    },
    {
      "cell_type": "markdown",
      "metadata": {
        "id": "lL4Ft4WY0xra"
      },
      "source": [
        "本篇文章以 <font color=\"#00dd00\">**Python**</font> 3.7.10、<font color=\"#00dd00\">**Numpy**</font> 1.19.5、<font color=\"#00dd00\">**Pandas**</font> 1.1.5、<font color=\"#00dd00\">**Matplotlib**</font> 3.2.2、<font color=\"#00dd00\">**Seaborn**</font> 0.11.1、<font color=\"#00dd00\">**SciPy**</font> 1.4.1 進行教學。本篇文章將介紹各類型的假設檢定，依不同目的分類：\n",
        "* 虛無假設的範圍\n",
        "* 樣本範圍\n",
        "* 檢定目的"
      ]
    },
    {
      "cell_type": "markdown",
      "metadata": {
        "id": "zst0-qqTm6qf"
      },
      "source": [
        "## 匯入基本套件"
      ]
    },
    {
      "cell_type": "code",
      "metadata": {
        "id": "WgaGB4wNnFzJ",
        "colab": {
          "base_uri": "https://localhost:8080/"
        },
        "outputId": "306a5e68-5f09-44d3-a051-c2e8374d1f2d"
      },
      "source": [
        "!python --version"
      ],
      "execution_count": null,
      "outputs": [
        {
          "output_type": "stream",
          "text": [
            "Python 3.7.11\n"
          ],
          "name": "stdout"
        }
      ]
    },
    {
      "cell_type": "code",
      "metadata": {
        "id": "vBnIfD8EnIk8",
        "colab": {
          "base_uri": "https://localhost:8080/"
        },
        "outputId": "f24eee01-86b5-4be8-a428-bb83e25aca65"
      },
      "source": [
        "import numpy as np \n",
        "import pandas as pd \n",
        "import matplotlib\n",
        "import matplotlib.pyplot as plt   # 繪製影像 \n",
        "import seaborn as sns\n",
        "import scipy as sp\n",
        "\n",
        "print( 'NumPy 版本: ', np.__version__ )\n",
        "print( 'Pandas 版本: ', pd.__version__ )  \n",
        "print( 'Matplotlib 版本: ', matplotlib.__version__ )\n",
        "print( 'Seaborn 版本: ', sns.__version__ )\n",
        "print( 'SciPy 版本: ', sp.__version__ )"
      ],
      "execution_count": null,
      "outputs": [
        {
          "output_type": "stream",
          "text": [
            "NumPy 版本:  1.19.5\n",
            "Pandas 版本:  1.1.5\n",
            "Matplotlib 版本:  3.2.2\n",
            "Seaborn 版本:  0.11.1\n",
            "SciPy 版本:  1.4.1\n"
          ],
          "name": "stdout"
        }
      ]
    },
    {
      "cell_type": "markdown",
      "metadata": {
        "id": "PzdZnb0gUE6N"
      },
      "source": [
        "# 統計檢驗"
      ]
    },
    {
      "cell_type": "markdown",
      "metadata": {
        "id": "VwU9-Zr7XeV8"
      },
      "source": [
        "## 假設檢定"
      ]
    },
    {
      "cell_type": "markdown",
      "metadata": {
        "id": "3wKAWhfvXjMH"
      },
      "source": [
        "* 根據 $H_1$ 所定訂範圍分類，可分為\n",
        "  * 右尾檢定：店長認為品牌市占率至少 12%，$ H_1: \\mu < 0.12$\n",
        "  * 雙尾檢定：店長認為品牌市占率為 12%，$ H_1: \\mu \\neq 0.12$\n",
        "  * 左尾檢定：店長認為品牌市占率至多 12%，$ H_1: \\mu > 0.12$"
      ]
    },
    {
      "cell_type": "markdown",
      "metadata": {
        "id": "NH4ayfInZTrT"
      },
      "source": [
        "* 根據樣本的範圍，可分為\n",
        "\n",
        "\n",
        "<table border=\"1\" width=\"110%\">\n",
        "    <tr>\n",
        "        <th width=\"10%\"> 類型 </a>\n",
        "        <th width=\"10%\"> 資料特性 </a>\n",
        "        <th width=\"30%\"> 使用情境 </a>\n",
        "        <th width=\"30%\"> 使用時機 </a>\n",
        "        <th width=\"30%\"> 平均數檢定 </a>\n",
        "    </tr>\n",
        "    <tr>\n",
        "        <td style=\"text-align:center\"> 單樣本檢定 </td>\n",
        "        <td style=\"text-align:center\"> 做實驗只分一組 </td>\n",
        "        <td style=\"text-align:left\"> 一位店長認為其品牌在市場之佔有率至多為 12%，一共訪問 300 位消費者，其中有 31 位表示喜歡 </td>\n",
        "        <td style=\"text-align:left\"> 檢樣我們收集的樣本，所算出的統計值，是否高於、低於或等於某一特定值 </td>\n",
        "        <td style=\"text-align:left\"> $H_0: \\mu \\leq 0.12$, $H_1: \\mu < 0.12$ </td>\n",
        "    </tr>\n",
        "    <tr>\n",
        "        <td style=\"text-align:center\"> 雙樣本檢定(非相依) </td>\n",
        "        <td style=\"text-align:center\"> 做實驗分成兩組 </td>\n",
        "        <td style=\"text-align:left\"> * 想比較男女生在薪資上是否有差異性？ <br>\n",
        "             * 父親每日陪伴孩子時間和母親每日陪伴孩子的時間是否有差異？ </td>\n",
        "        <td rowspan=\"2\" style=\"text-align:left\"> 需比較兩種群體或選擇，哪個較好 </td>\n",
        "        <td style=\"text-align:left\"> $H_0: \\mu_女 = \\mu_男$, $H_1: \\mu_女 \\neq \\mu_男 $ </td>\n",
        "    </tr>\n",
        "    <tr>\n",
        "        <td style=\"text-align:center\"> 成對樣本檢定(相依) </td>\n",
        "        <td style=\"text-align:center\"> 分成兩組，但兩租有前後或相依的特性 </td>\n",
        "        <td style=\"text-align:left\"> * 成對樣本：分析夫妻分別的年收入多寡是否有差異 <br>\n",
        "             * 重複量測：參加減肥試驗的一群人，參加試驗前與規律運動 3 個月後的體重是否有差異 </td>\n",
        "        <td style=\"text-align:left\"> $H_0: D \\geq 0$, $H_1: D > 0$, 其中 $D = X_夫-X_妻$ </td>\n",
        "    </tr>\n",
        "</table>"
      ]
    },
    {
      "cell_type": "markdown",
      "metadata": {
        "id": "G8dep38LZOuk"
      },
      "source": [
        "* 根據檢定目的，可分為(以雙樣本為例)\n",
        "\n",
        "<table border=\"1\" width=\"50%\">\n",
        "    <tr>\n",
        "        <th width=\"10%\">類型</a>\n",
        "        <th width=\"20%\">使用情境</a>\n",
        "        <th width=\"20%\">平均數檢定</a>\n",
        "    </tr>\n",
        "    <tr>\n",
        "        <td style=\"text-align:center\"> 平均數檢定 </td>\n",
        "        <td style=\"text-align:left\"> 台灣男性的平均腰圍是否比女性腰圍來的多 </td>\n",
        "        <td style=\"text-align:left\"> $H_0:\\mu_男-\\mu_女 \\leq 0$,  $H_1:\\mu_男-\\mu_女 > 0$ </td>\n",
        "    </tr>\n",
        "    <tr>\n",
        "        <td style=\"text-align:center\"> 比例檢定 </td>\n",
        "        <td style=\"text-align:left\"> 兩種不同的email主旨，50封是統一式開頭，50封是個人化開頭，請問個人化的開信率有比統一的開信率來的高？ </td>\n",
        "        <td style=\"text-align:left\"> $H_0:p_客-p_統 \\leq 0$,  $H_1:p_客-p_統 > 0$ </td>\n",
        "    </tr>\n",
        "</table>"
      ]
    },
    {
      "cell_type": "markdown",
      "metadata": {
        "id": "q9qNv7oDZa7s"
      },
      "source": [
        "* 假設檢定的誤差類型\n",
        "\n",
        "<table border=\"1\" width=\"100%\">\n",
        "    <tr>\n",
        "        <th width=\"20%\">  </a>\n",
        "        <th width=\"20%\">  </a>\n",
        "        <th width=\"20%\">  </a>\n",
        "        <th width=\"20%\">  </a>\n",
        "        <th width=\"20%\">  </a>\n",
        "    </tr>\n",
        "    <tr>\n",
        "        <td>  </td>\n",
        "        <td>  </td>\n",
        "        <td colspan=\"2\"> Truth(Decision) </td>\n",
        "        <td>  </td>\n",
        "    </tr>\n",
        "    <tr>\n",
        "        <td colspan=\"2\">  </td>\n",
        "        <td> Positive </td>\n",
        "        <td> Negative </td>\n",
        "        <td>  </td>\n",
        "    </tr>\n",
        "    <tr>\n",
        "        <td rawspan=\"2\"> Test(Truth) </td>\n",
        "        <td> Positive </td>\n",
        "        <td> True Positive </td>\n",
        "        <td> False Positive <br> \n",
        "             Type I $\\alpha$  </td>\n",
        "        <td> Total Testing Positive </td>\n",
        "    </tr>\n",
        "    <tr>\n",
        "        <td>  </td>\n",
        "        <td> Negative </td>\n",
        "        <td> False Negative <br> \n",
        "             Type II $\\beta$  </td>\n",
        "        <td> True Negative </td>\n",
        "        <td> Total Testing Negative </td>\n",
        "    </tr>\n",
        "    <tr>\n",
        "        <td>  </td>\n",
        "        <td>  </td>\n",
        "        <td> Total Truly Positive </td>\n",
        "        <td> Total Truly Negative </td>\n",
        "        <td> Total </td>\n",
        "    </tr>\n",
        "</table>\n",
        "\n",
        "* $\\alpha$：Type I error/型一誤差，又稱偽陽性 false positive，$H_0$ 是對的，但是我們做了實驗後，卻拒絕 $H_0$，又稱顯著水準(significant level)，設定 $\\alpha$ 值愈小，表示希望檢測時的誤判機率愈低(即希望檢定能愈準確)，又稱偽陽性 false positive\n",
        "* $\\beta$：Type II error/型二誤差，又稱偽陰性 false negative，H0 是錯的，但是我們做了實驗後，卻沒有證據拒絕 $H_0$，又稱偽陰性false negative\n",
        "* $1-\\beta$：又稱檢定力，$H_0$ 是錯的，但是我們做了實驗後拒絕 $H_0$ 的能力\n",
        "* 範例說明\n",
        "  * 若用驗孕棒為一位未懷孕的女士驗孕，結果是已懷孕(positive)，這是第一型錯誤\n",
        "  * 若用驗孕棒為一位已懷孕的女士驗孕，結果是未懷孕(negativ)，這是第二型錯誤"
      ]
    },
    {
      "cell_type": "markdown",
      "metadata": {
        "id": "W-UXFFk1YsOl"
      },
      "source": [
        "## 根據樣本的範圍"
      ]
    },
    {
      "cell_type": "markdown",
      "metadata": {
        "id": "HltEd8lNV0uv"
      },
      "source": [
        "### 單變數：`stats.ttest_1samp`"
      ]
    },
    {
      "cell_type": "markdown",
      "metadata": {
        "id": "PcmUj1nhV4_R"
      },
      "source": [
        "* 計算一組分數的平均值的 T 檢驗。這是對零假設的雙邊檢驗，即獨立觀察樣本 'a' 的預期值(平均值)等於給定的總體平均值\n",
        "  * $H_0：\\bar{X} = \\mu$\n",
        "  * $H_1：\\bar{X} \\neq \\mu$"
      ]
    },
    {
      "cell_type": "code",
      "metadata": {
        "colab": {
          "base_uri": "https://localhost:8080/"
        },
        "id": "QxhPnAl4ytpV",
        "outputId": "8f6e0404-0450-4562-cbe8-4363f75235d3"
      },
      "source": [
        "rvs = stats.norm.rvs(loc=5, scale=10, size=(50,2))\n",
        "print( stats.ttest_1samp(rvs, 5.0) )"
      ],
      "execution_count": null,
      "outputs": [
        {
          "output_type": "stream",
          "text": [
            "Ttest_1sampResult(statistic=array([-1.42397263, -0.26692139]), pvalue=array([0.16079167, 0.79064987]))\n"
          ],
          "name": "stdout"
        }
      ]
    },
    {
      "cell_type": "markdown",
      "metadata": {
        "id": "_-81H3uwGa5Y"
      },
      "source": [
        "### 比較兩個獨立樣本：`stats.ttest_ind`"
      ]
    },
    {
      "cell_type": "markdown",
      "metadata": {
        "id": "ySG2Vy1Z9slp"
      },
      "source": [
        "* 計算兩個獨立分數樣本均值的 T 檢驗。這是零假設的雙側檢驗，即兩個獨立樣本具有相同的平均值。該檢驗假設群體有相同的方差。\n",
        "* 用 T test 來確定兩組觀測值的均值是否顯著不同：\n",
        "  * $H_0：\\mu_a = \\mu_b$\n",
        "  * $H_1：\\mu_a \\neq \\mu_b$ "
      ]
    },
    {
      "cell_type": "markdown",
      "metadata": {
        "id": "wSukNLT6Gshu"
      },
      "source": [
        "* 問題：是否有某些產品，在颱風天時會與平時的銷售狀\n",
        "況特別不㇐樣"
      ]
    },
    {
      "cell_type": "code",
      "metadata": {
        "colab": {
          "base_uri": "https://localhost:8080/"
        },
        "id": "9O3u_kDP9oiQ",
        "outputId": "eb75eabd-114a-4418-d947-75954f033d60"
      },
      "source": [
        "a = np.random.normal(0, 1, size=100)\n",
        "b = np.random.normal(1, 1, size=10)\n",
        "stats.ttest_ind(a, b) "
      ],
      "execution_count": null,
      "outputs": [
        {
          "output_type": "execute_result",
          "data": {
            "text/plain": [
              "Ttest_indResult(statistic=-3.209398178960087, pvalue=0.0017516646456460685)"
            ]
          },
          "metadata": {
            "tags": []
          },
          "execution_count": 247
        }
      ]
    },
    {
      "cell_type": "markdown",
      "metadata": {
        "id": "iIGZDnSn-RWX"
      },
      "source": [
        "* 結論：\n",
        "  * T 統計量=-3.2178：其符號與兩個隨機過程的差值成正比，其大小與該差值的顯著性有關。\n",
        "  * p-value=0.0017055：接近 1 表示兩個分佈十分相近，越接近 0 表示具有不同均值的可能性越大。"
      ]
    },
    {
      "cell_type": "markdown",
      "metadata": {
        "id": "7-lvQaYnGiPK"
      },
      "source": [
        "### 比較兩個樣本：`stats.ttest_ind_from_stats`"
      ]
    },
    {
      "cell_type": "code",
      "metadata": {
        "colab": {
          "base_uri": "https://localhost:8080/"
        },
        "id": "J0olrR4pGhFi",
        "outputId": "146a0ed0-d4fa-4e3d-dc83-846a61bac840"
      },
      "source": [
        "mean1 = 30.97\n",
        "mean2 = 21.79\n",
        "std1 = 26.7\n",
        "std2 = 12.1\n",
        "nobs1 = 10\n",
        "nobs2 = 10\n",
        "\n",
        "modified_std1 = np.sqrt(np.float32(nobs1)/np.float32(nobs1-1)) * std1\n",
        "modified_std2 = np.sqrt(np.float32(nobs2)/np.float32(nobs2-1)) * std2\n",
        "(statistic, pvalue) = stats.ttest_ind_from_stats(mean1=mean1, std1=modified_std1, nobs1=10, mean2=mean2, std2=modified_std2, nobs2=10)\n",
        "print('t statistic is: ', statistic)\n",
        "print('pvalue is: ', pvalue)"
      ],
      "execution_count": null,
      "outputs": [
        {
          "output_type": "stream",
          "text": [
            "t statistic is:  0.9394886573346275\n",
            "pvalue is:  0.35991721678518696\n"
          ],
          "name": "stdout"
        }
      ]
    },
    {
      "cell_type": "markdown",
      "metadata": {
        "id": "GEgOGMiSJAGc"
      },
      "source": [
        "* 結論：\n",
        "  * p-value=0.35991：不能拒絕 $H_0$ 假設，就是這兩種作物產量沒有顯著差異"
      ]
    },
    {
      "cell_type": "markdown",
      "metadata": {
        "id": "_Z3xuIKNZwCD"
      },
      "source": [
        "### 雙樣本比例檢定"
      ]
    },
    {
      "cell_type": "markdown",
      "metadata": {
        "id": "H1LJfTUBZ0mr"
      },
      "source": [
        "* 透過套件運算\n",
        "  * 參考資料：`statsmodelsh.stats.proportion.proportions_ztest`\n",
        "  * 語法 for 雙樣本比例檢定\n",
        "    * statsmodels.stats.proportion.proportions_ztest(A, B, alternative='smaller')\n",
        "  * 參數說明：\n",
        "    * A：兩組開信的人數\n",
        "    * B：兩組的總人數\n",
        "    * alternative：'two-sided', 'smaller', 'larger' 分別代表 雙尾檢定，左尾檢定與右尾檢定\n",
        "  * 輸出\n",
        "    * Z-test：檢定量\n",
        "    * P-value：這樣檢定量下的 p-value值"
      ]
    },
    {
      "cell_type": "code",
      "metadata": {
        "id": "4buIukngZ9sw"
      },
      "source": [
        "import statsmodels.stats.proportion"
      ],
      "execution_count": null,
      "outputs": []
    },
    {
      "cell_type": "code",
      "metadata": {
        "colab": {
          "base_uri": "https://localhost:8080/"
        },
        "id": "ufzuYzXqaZeD",
        "outputId": "9fcf07f1-8072-4e77-8a91-e106eade24fc"
      },
      "source": [
        "A = [5,15] # 有開信的個數\n",
        "B = [50,50] #各組實驗總個數\n",
        "statsmodels.stats.proportion.proportions_ztest(A, B, alternative='smaller')"
      ],
      "execution_count": null,
      "outputs": [
        {
          "output_type": "execute_result",
          "data": {
            "text/plain": [
              "(-2.4999999999999996, 0.006209665325776138)"
            ]
          },
          "metadata": {
            "tags": []
          },
          "execution_count": 251
        }
      ]
    },
    {
      "cell_type": "markdown",
      "metadata": {
        "id": "ay8sLxVTaeuu"
      },
      "source": [
        "* 結論：\n",
        "  * P值 = 0.006 < α = 0.05\n",
        "  * 結果傾向拒絕 $p_a - p_b \\geq 0$，說明右邊客製化的開信率優於統一式的開信率"
      ]
    },
    {
      "cell_type": "markdown",
      "metadata": {
        "id": "S67pU_FPa4hA"
      },
      "source": [
        "* 比例檢定單樣本語法，網站：[statsmodels.stats.proportion](https://www.statsmodels.org/0.8.0/generated/statsmodels.stats.proportion.proportions_ztest.html)\n",
        "* 雙樣本平均數檢定，網站：[scipy.stats.ttest_ind](https://docs.scipy.org/doc/scipy/reference/generated/scipy.stats.ttest_ind.html)\n",
        "* 相依樣本雙樣本 python 語法，網站：[scipy.stats.ttest_rel](https://docs.scipy.org/doc/scipy/reference/generated/scipy.stats.ttest_rel.html)"
      ]
    },
    {
      "cell_type": "markdown",
      "metadata": {
        "id": "h_roR63uwNCh"
      },
      "source": [
        "# 結語 "
      ]
    },
    {
      "cell_type": "markdown",
      "metadata": {
        "id": "sQl00IpEkwFn"
      },
      "source": [
        "本篇文章介紹各類型的假設檢定，讀者可透過本篇文章的介紹更進一步瞭解對手邊的資料進行檢驗。<br>\n",
        "針對本文的內容，若讀者們有發現任何的錯誤或疑問，非常歡迎您 [來信 sueshow2006@gmail.com](mailto:sueshow2006@gmail.com) 給予建議及討論，讓我們一同來學習成長！"
      ]
    },
    {
      "cell_type": "markdown",
      "metadata": {
        "id": "uQmCKUBULt9b"
      },
      "source": [
        "# 參考資料"
      ]
    },
    {
      "cell_type": "markdown",
      "metadata": {
        "id": "qg9ItOg8rNth"
      },
      "source": [
        "* [NumPy, SciPy, and Pandas: Correlation With Python](https://realpython.com/numpy-scipy-pandas-correlation-python/)\n",
        "* [What is Multicollinearity? Here’s Everything You Need to Know](https://www.analyticsvidhya.com/blog/2020/03/what-is-multicollinearity/)\n",
        "* [Python Statistics Fundamentals: How to Describe Your Data](https://realpython.com/python-statistics/)"
      ]
    },
    {
      "cell_type": "markdown",
      "metadata": {
        "id": "G-D3dsWTrXMp"
      },
      "source": [
        "# 返回 [課程大綱](https://github.com/AI-FREE-Team/Machine-Learning-Basic#%E8%AA%B2%E7%A8%8B%E5%A4%A7%E7%B6%B1-course-outline)"
      ]
    }
  ]
}